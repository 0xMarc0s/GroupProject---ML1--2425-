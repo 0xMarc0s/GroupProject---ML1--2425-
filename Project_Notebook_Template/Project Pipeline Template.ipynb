{
 "cells": [
  {
   "cell_type": "markdown",
   "id": "ad09b7f8",
   "metadata": {},
   "source": [
    "<b><font size=\"6\">Predictive Modelling Pipeline Template</font></b><br><br>"
   ]
  },
  {
   "cell_type": "markdown",
   "id": "7253d4d8",
   "metadata": {},
   "source": [
    "In this notebook we present to you the main steps you should follow throughout your project.\n",
    "\n",
    "\n",
    "<b> Important: The numbered sections and subsections are merely indicative of some of the steps you should pay attention to in your project. <br>You are not required to strictly follow this order or to execute everything in separate cells.</b>\n",
    "    \n",
    "<img src=\"image/process_ML.png\" style=\"height:70px\">"
   ]
  },
  {
   "cell_type": "code",
   "execution_count": null,
   "id": "b51dd532",
   "metadata": {},
   "outputs": [],
   "source": [
    "#import libraries"
   ]
  },
  {
   "cell_type": "markdown",
   "id": "18852571",
   "metadata": {},
   "source": [
    "<a class=\"anchor\" id=\"\">\n",
    "\n",
    "# 1. Import data (Data Integration)\n",
    "\n",
    "</a>\n"
   ]
  },
  {
   "cell_type": "markdown",
   "id": "2eaea6ca",
   "metadata": {},
   "source": [
    "<img src=\"image/step1.png\" style=\"height:60px\">"
   ]
  },
  {
   "cell_type": "code",
   "execution_count": null,
   "id": "34c451a2",
   "metadata": {
    "scrolled": true
   },
   "outputs": [],
   "source": []
  },
  {
   "cell_type": "markdown",
   "id": "c4364942",
   "metadata": {},
   "source": [
    "<a class=\"anchor\" id=\"\">\n",
    "\n",
    "# 2. Explore data (Data access, exploration and understanding)\n",
    "\n",
    "</a>"
   ]
  },
  {
   "cell_type": "markdown",
   "id": "9f5f42fb",
   "metadata": {},
   "source": [
    "<img src=\"image/step2.png\" style=\"height:60px\">"
   ]
  },
  {
   "cell_type": "markdown",
   "id": "cb0e4c1c",
   "metadata": {},
   "source": [
    "Remember, this step is very important as it is at this stage that you will really look into the data that you have. Generally speaking, if you do well at this stage, the following stages will be very smooth.\n",
    "\n",
    "Moreover, you should also take the time to find meaningful patterns on the data: what interesting relationships can be found between the variables and how can that knowledge be inform your future decisions. "
   ]
  },
  {
   "cell_type": "code",
   "execution_count": null,
   "id": "5a03ce6b",
   "metadata": {},
   "outputs": [],
   "source": []
  },
  {
   "cell_type": "markdown",
   "id": "005ef91b",
   "metadata": {},
   "source": [
    "<a class=\"anchor\" id=\"\">\n",
    "\n",
    "# 3. Modify data (Data preparation)\n",
    "\n",
    "</a>"
   ]
  },
  {
   "cell_type": "markdown",
   "id": "c8b92833",
   "metadata": {},
   "source": [
    "<img src=\"image/step3.png\" style=\"height:60px\">"
   ]
  },
  {
   "cell_type": "markdown",
   "id": "b7d3fb00",
   "metadata": {},
   "source": [
    "Use this section to apply transformations to your dataset.\n",
    "\n",
    "Remember that your decisions at this step should be exclusively informed by your **training data**. While you will need to split your data between training and validation, how that split will be made and how to apply the approppriate transformations will depend on the type of model assessment solution you select for your project (each has its own set of advantages and disadvantages that you need to consider). **Please find a list of possible methods for model assessment below**: \n",
    "\n",
    "1. **Holdout method**\n",
    "2. **Repeated Holdout method**\n",
    "3. **Cross-Validation**\n",
    "\n",
    "__Note:__ Instead of creating different sections for the treatment of training and validation data, you can make the transformations in the same cell. There is no need to create a specific section for that. "
   ]
  },
  {
   "cell_type": "code",
   "execution_count": null,
   "id": "a5699be3",
   "metadata": {},
   "outputs": [],
   "source": []
  },
  {
   "cell_type": "markdown",
   "id": "1a641d2b",
   "metadata": {},
   "source": [
    "### 3.1. Data Preparation "
   ]
  },
  {
   "cell_type": "code",
   "execution_count": null,
   "id": "d5c06e87",
   "metadata": {},
   "outputs": [],
   "source": []
  },
  {
   "cell_type": "markdown",
   "id": "45ecf700",
   "metadata": {},
   "source": [
    "### 3.2. Feature Engineering"
   ]
  },
  {
   "cell_type": "code",
   "execution_count": null,
   "id": "ef23dfce",
   "metadata": {},
   "outputs": [],
   "source": []
  },
  {
   "cell_type": "markdown",
   "id": "97a4de74",
   "metadata": {},
   "source": [
    "### 3.3. Scaling"
   ]
  },
  {
   "cell_type": "code",
   "execution_count": null,
   "id": "9e09e725",
   "metadata": {},
   "outputs": [],
   "source": []
  },
  {
   "cell_type": "markdown",
   "id": "ee111e6e",
   "metadata": {},
   "source": [
    "### 3.4. Feature Selection"
   ]
  },
  {
   "cell_type": "code",
   "execution_count": null,
   "id": "c221dfea",
   "metadata": {},
   "outputs": [],
   "source": []
  },
  {
   "cell_type": "markdown",
   "id": "14d1e3a1",
   "metadata": {},
   "source": [
    "<a class=\"anchor\" id=\"\">\n",
    "\n",
    "# 4 & 5. Model & Assess (Modelling and Assessment)\n",
    "\n",
    "</a>"
   ]
  },
  {
   "cell_type": "markdown",
   "id": "7ad01ff7",
   "metadata": {},
   "source": [
    "<img src=\"image/step4.png\" style=\"height:60px\">"
   ]
  },
  {
   "cell_type": "markdown",
   "id": "89849818",
   "metadata": {},
   "source": [
    "### 4.1. Model Selection\n",
    "\n",
    "In this section you should take the time to train different predictive algorithms with the data that got to this stage and **use the approppriate model assessment metrics to decide which model you think is the best to address your problem**.\n",
    "\n",
    "**You are expected to present on your report the model performances of the different algorithms that you tested and discuss what informed your choice for a specific algorithm**"
   ]
  },
  {
   "cell_type": "code",
   "execution_count": null,
   "id": "92285396",
   "metadata": {},
   "outputs": [],
   "source": []
  },
  {
   "cell_type": "markdown",
   "id": "f08f9c24",
   "metadata": {},
   "source": [
    "### 4.2. Model Optimization\n",
    "\n",
    "After selecting the best algorithm (set of algorithms), you can try to optimize the performance of your model by fiddling with the algorithms' hyper-parameters and select the options that result on the best overall performance.\n",
    "\n",
    "Possible ways of doing this can be through:\n",
    "1. [GridSearch](https://scikit-learn.org/stable/modules/generated/sklearn.model_selection.GridSearchCV.html)\n",
    "2. [RandomSearch](https://scikit-learn.org/stable/modules/generated/sklearn.model_selection.RandomizedSearchCV.html)\n",
    "\n",
    "**While you are not required to show the results of all combinations of hyperparameters that you tried, you should at least discuss the what were the possible combinations used and which of them resulted in your best performance**"
   ]
  },
  {
   "cell_type": "code",
   "execution_count": null,
   "id": "387961a5",
   "metadata": {
    "scrolled": true
   },
   "outputs": [],
   "source": []
  },
  {
   "cell_type": "markdown",
   "id": "ebfaed02",
   "metadata": {},
   "source": [
    "<a class=\"anchor\" id=\"\">\n",
    "\n",
    "# 5. Deploy\n",
    "\n",
    "</a>"
   ]
  },
  {
   "cell_type": "markdown",
   "id": "dc24677b",
   "metadata": {},
   "source": [
    "<img src=\"image/step5.png\" style=\"height:60px\">\n",
    "\n",
    "### 5.0 Training a final model\n",
    "\n",
    "You used the previous steps of modelling and assessment to determine what would be best strategies when it comes to preprocessing, scaling, feature selection, algorithm and hyper-parameters you could find. \n",
    "\n",
    "**By this stage, all of those choices were already made**. For that reason, a split between training and validation is no longer necessary. **A good practice** would be to take the initial data and train a final model with all of the labeled data that you have available.\n",
    "\n",
    "**Everything is figured by this stage**, so, on a first level all you need to do is replicate the exact preprocessing, scaling and feature selection decisions you made before.<br>\n",
    "When it comes to the final model, all you have to do is creeate a new instance of your best algorithm with the best parameters that you uncovered (no need to try all algorithms and hyper-parameters again)."
   ]
  },
  {
   "cell_type": "code",
   "execution_count": null,
   "id": "191ebbfc",
   "metadata": {},
   "outputs": [],
   "source": []
  },
  {
   "cell_type": "markdown",
   "id": "f38b4acc",
   "metadata": {},
   "source": [
    "### 5.1. Import and Transform your test data\n",
    "\n",
    "Remember, the test data does not have the `outcome` variable."
   ]
  },
  {
   "cell_type": "code",
   "execution_count": null,
   "id": "4dbf433a",
   "metadata": {},
   "outputs": [],
   "source": []
  },
  {
   "cell_type": "markdown",
   "id": "30624f3a",
   "metadata": {},
   "source": [
    "### 5.2. Obtain Predictions on the test data from your final model"
   ]
  },
  {
   "cell_type": "code",
   "execution_count": null,
   "id": "6abdf5b3",
   "metadata": {
    "scrolled": true
   },
   "outputs": [],
   "source": []
  },
  {
   "cell_type": "markdown",
   "id": "27d4b2b2",
   "metadata": {},
   "source": [
    "### 5.3. Create a Dataframe containing the index of each row and its intended prediction and export it to a csv file"
   ]
  },
  {
   "cell_type": "code",
   "execution_count": null,
   "id": "208c3404",
   "metadata": {},
   "outputs": [],
   "source": []
  },
  {
   "cell_type": "markdown",
   "id": "95e385c2",
   "metadata": {},
   "source": [
    "Submit the csv file to Kaggle to obtain the model performance of your model on the test data."
   ]
  }
 ],
 "metadata": {
  "kernelspec": {
   "display_name": "Python 3 (ipykernel)",
   "language": "python",
   "name": "python3"
  },
  "language_info": {
   "codemirror_mode": {
    "name": "ipython",
    "version": 3
   },
   "file_extension": ".py",
   "mimetype": "text/x-python",
   "name": "python",
   "nbconvert_exporter": "python",
   "pygments_lexer": "ipython3",
   "version": "3.8.13"
  },
  "varInspector": {
   "cols": {
    "lenName": 16,
    "lenType": 16,
    "lenVar": 40
   },
   "kernels_config": {
    "python": {
     "delete_cmd_postfix": "",
     "delete_cmd_prefix": "del ",
     "library": "var_list.py",
     "varRefreshCmd": "print(var_dic_list())"
    },
    "r": {
     "delete_cmd_postfix": ") ",
     "delete_cmd_prefix": "rm(",
     "library": "var_list.r",
     "varRefreshCmd": "cat(var_dic_list()) "
    }
   },
   "types_to_exclude": [
    "module",
    "function",
    "builtin_function_or_method",
    "instance",
    "_Feature"
   ],
   "window_display": false
  }
 },
 "nbformat": 4,
 "nbformat_minor": 5
}
