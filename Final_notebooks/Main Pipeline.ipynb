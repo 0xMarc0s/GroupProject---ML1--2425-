{
 "cells": [
  {
   "cell_type": "markdown",
   "id": "ad09b7f8",
   "metadata": {
    "id": "ad09b7f8"
   },
   "source": [
    "<b><font size=\"6\">Predictive Modelling Pipeline Template</font></b><br><br>"
   ]
  },
  {
   "cell_type": "markdown",
   "id": "7253d4d8",
   "metadata": {
    "id": "7253d4d8"
   },
   "source": [
    "In this notebook we present to you the main steps you should follow throughout your project.\n",
    "\n",
    "\n",
    "<b> Important: The numbered sections and subsections are merely indicative of some of the steps you should pay attention to in your project. <br>You are not required to strictly follow this order or to execute everything in separate cells.</b>\n",
    "    \n",
    "<img src=\"../image/process_ML.png\" style=\"height:70px\">"
   ]
  },
  {
   "cell_type": "code",
   "execution_count": 2,
   "id": "b51dd532",
   "metadata": {
    "id": "b51dd532"
   },
   "outputs": [
    {
     "name": "stderr",
     "output_type": "stream",
     "text": [
      "c:\\Users\\User\\anaconda3\\envs\\IMS_ML\\Lib\\site-packages\\tqdm\\auto.py:21: TqdmWarning: IProgress not found. Please update jupyter and ipywidgets. See https://ipywidgets.readthedocs.io/en/stable/user_install.html\n",
      "  from .autonotebook import tqdm as notebook_tqdm\n"
     ]
    }
   ],
   "source": [
    "#import libraries\n",
    "import pandas as pd\n",
    "import numpy as np\n",
    "import matplotlib.pyplot as plt\n",
    "import seaborn as sns\n",
    "import os\n",
    "from sklearn.experimental import enable_iterative_imputer\n",
    "from sklearn.model_selection import train_test_split,cross_val_score\n",
    "from sklearn.linear_model import LogisticRegression\n",
    "from sklearn.neighbors import KNeighborsClassifier\n",
    "from sklearn.tree import DecisionTreeClassifier\n",
    "from sklearn.preprocessing import LabelEncoder, OneHotEncoder, OrdinalEncoder, StandardScaler, RobustScaler\n",
    "from sklearn.impute import KNNImputer, IterativeImputer\n",
    "from sklearn.experimental import enable_iterative_imputer  # Enable IterativeImputer\n",
    "from sklearn.feature_selection import RFE\n",
    "from sklearn.metrics import accuracy_score, f1_score\n",
    "import optuna\n",
    "from sklearn.ensemble import RandomForestClassifier\n",
    "import warnings\n",
    "warnings.filterwarnings('ignore')"
   ]
  },
  {
   "cell_type": "markdown",
   "id": "18852571",
   "metadata": {
    "id": "18852571"
   },
   "source": [
    "<a class=\"anchor\" id=\"\">\n",
    "\n",
    "# 1. Import data (Data Integration)\n",
    "\n",
    "</a>\n"
   ]
  },
  {
   "cell_type": "markdown",
   "id": "2eaea6ca",
   "metadata": {
    "id": "2eaea6ca"
   },
   "source": [
    "<img src=\"../image/step1.png\" style=\"height:60px\">"
   ]
  },
  {
   "cell_type": "code",
   "execution_count": 26,
   "id": "nqPU0XFheKHi",
   "metadata": {
    "id": "nqPU0XFheKHi"
   },
   "outputs": [],
   "source": [
    "# Load the data\n",
    "obesity_train_raw = pd.read_csv('../data/obesity_train.csv')\n",
    "obesity_test_raw = pd.read_csv('../data/obesity_test.csv') "
   ]
  },
  {
   "cell_type": "code",
   "execution_count": 4,
   "id": "54a29bcb",
   "metadata": {
    "colab": {
     "base_uri": "https://localhost:8080/",
     "height": 412
    },
    "executionInfo": {
     "elapsed": 4,
     "status": "ok",
     "timestamp": 1729597252855,
     "user": {
      "displayName": "Michał Wójcik",
      "userId": "08591631202502653658"
     },
     "user_tz": -60
    },
    "id": "54a29bcb",
    "outputId": "eff7a2d5-4ce8-42c5-80cd-0781efa37051"
   },
   "outputs": [
    {
     "data": {
      "text/html": [
       "<div>\n",
       "<style scoped>\n",
       "    .dataframe tbody tr th:only-of-type {\n",
       "        vertical-align: middle;\n",
       "    }\n",
       "\n",
       "    .dataframe tbody tr th {\n",
       "        vertical-align: top;\n",
       "    }\n",
       "\n",
       "    .dataframe thead th {\n",
       "        text-align: right;\n",
       "    }\n",
       "</style>\n",
       "<table border=\"1\" class=\"dataframe\">\n",
       "  <thead>\n",
       "    <tr style=\"text-align: right;\">\n",
       "      <th></th>\n",
       "      <th>id</th>\n",
       "      <th>age</th>\n",
       "      <th>alcohol_freq</th>\n",
       "      <th>caloric_freq</th>\n",
       "      <th>devices_perday</th>\n",
       "      <th>eat_between_meals</th>\n",
       "      <th>gender</th>\n",
       "      <th>height</th>\n",
       "      <th>marrital_status</th>\n",
       "      <th>meals_perday</th>\n",
       "      <th>...</th>\n",
       "      <th>parent_overweight</th>\n",
       "      <th>physical_activity_perweek</th>\n",
       "      <th>region</th>\n",
       "      <th>siblings</th>\n",
       "      <th>smoke</th>\n",
       "      <th>transportation</th>\n",
       "      <th>veggies_freq</th>\n",
       "      <th>water_daily</th>\n",
       "      <th>weight</th>\n",
       "      <th>obese_level</th>\n",
       "    </tr>\n",
       "  </thead>\n",
       "  <tbody>\n",
       "    <tr>\n",
       "      <th>0</th>\n",
       "      <td>1</td>\n",
       "      <td>21.0</td>\n",
       "      <td>Never</td>\n",
       "      <td>no</td>\n",
       "      <td>up to 5</td>\n",
       "      <td>Sometimes</td>\n",
       "      <td>Female</td>\n",
       "      <td>1.62</td>\n",
       "      <td>NaN</td>\n",
       "      <td>3.0</td>\n",
       "      <td>...</td>\n",
       "      <td>yes</td>\n",
       "      <td>NaN</td>\n",
       "      <td>LatAm</td>\n",
       "      <td>3.0</td>\n",
       "      <td>no</td>\n",
       "      <td>Public</td>\n",
       "      <td>Sometimes</td>\n",
       "      <td>1 to 2</td>\n",
       "      <td>64.0</td>\n",
       "      <td>Normal_Weight</td>\n",
       "    </tr>\n",
       "    <tr>\n",
       "      <th>1</th>\n",
       "      <td>2</td>\n",
       "      <td>23.0</td>\n",
       "      <td>Frequently</td>\n",
       "      <td>no</td>\n",
       "      <td>up to 5</td>\n",
       "      <td>Sometimes</td>\n",
       "      <td>Male</td>\n",
       "      <td>1.80</td>\n",
       "      <td>NaN</td>\n",
       "      <td>3.0</td>\n",
       "      <td>...</td>\n",
       "      <td>yes</td>\n",
       "      <td>3 to 4</td>\n",
       "      <td>LatAm</td>\n",
       "      <td>0.0</td>\n",
       "      <td>no</td>\n",
       "      <td>Public</td>\n",
       "      <td>Sometimes</td>\n",
       "      <td>1 to 2</td>\n",
       "      <td>77.0</td>\n",
       "      <td>Normal_Weight</td>\n",
       "    </tr>\n",
       "    <tr>\n",
       "      <th>2</th>\n",
       "      <td>3</td>\n",
       "      <td>NaN</td>\n",
       "      <td>Frequently</td>\n",
       "      <td>no</td>\n",
       "      <td>up to 2</td>\n",
       "      <td>Sometimes</td>\n",
       "      <td>Male</td>\n",
       "      <td>1.80</td>\n",
       "      <td>NaN</td>\n",
       "      <td>3.0</td>\n",
       "      <td>...</td>\n",
       "      <td>no</td>\n",
       "      <td>3 to 4</td>\n",
       "      <td>LatAm</td>\n",
       "      <td>2.0</td>\n",
       "      <td>no</td>\n",
       "      <td>Walk</td>\n",
       "      <td>Always</td>\n",
       "      <td>1 to 2</td>\n",
       "      <td>87.0</td>\n",
       "      <td>Overweight_Level_I</td>\n",
       "    </tr>\n",
       "    <tr>\n",
       "      <th>3</th>\n",
       "      <td>4</td>\n",
       "      <td>22.0</td>\n",
       "      <td>Sometimes</td>\n",
       "      <td>no</td>\n",
       "      <td>up to 2</td>\n",
       "      <td>Sometimes</td>\n",
       "      <td>Male</td>\n",
       "      <td>1.78</td>\n",
       "      <td>NaN</td>\n",
       "      <td>1.0</td>\n",
       "      <td>...</td>\n",
       "      <td>no</td>\n",
       "      <td>NaN</td>\n",
       "      <td>LatAm</td>\n",
       "      <td>3.0</td>\n",
       "      <td>no</td>\n",
       "      <td>Public</td>\n",
       "      <td>Sometimes</td>\n",
       "      <td>1 to 2</td>\n",
       "      <td>90.0</td>\n",
       "      <td>Overweight_Level_II</td>\n",
       "    </tr>\n",
       "    <tr>\n",
       "      <th>4</th>\n",
       "      <td>5</td>\n",
       "      <td>22.0</td>\n",
       "      <td>Sometimes</td>\n",
       "      <td>no</td>\n",
       "      <td>up to 2</td>\n",
       "      <td>Sometimes</td>\n",
       "      <td>Male</td>\n",
       "      <td>1.64</td>\n",
       "      <td>NaN</td>\n",
       "      <td>3.0</td>\n",
       "      <td>...</td>\n",
       "      <td>no</td>\n",
       "      <td>5 or more</td>\n",
       "      <td>LatAm</td>\n",
       "      <td>3.0</td>\n",
       "      <td>no</td>\n",
       "      <td>Public</td>\n",
       "      <td>Sometimes</td>\n",
       "      <td>1 to 2</td>\n",
       "      <td>53.0</td>\n",
       "      <td>Normal_Weight</td>\n",
       "    </tr>\n",
       "    <tr>\n",
       "      <th>5</th>\n",
       "      <td>6</td>\n",
       "      <td>24.0</td>\n",
       "      <td>Frequently</td>\n",
       "      <td>yes</td>\n",
       "      <td>up to 5</td>\n",
       "      <td>Sometimes</td>\n",
       "      <td>Male</td>\n",
       "      <td>1.78</td>\n",
       "      <td>NaN</td>\n",
       "      <td>3.0</td>\n",
       "      <td>...</td>\n",
       "      <td>yes</td>\n",
       "      <td>1 to 2</td>\n",
       "      <td>LatAm</td>\n",
       "      <td>2.0</td>\n",
       "      <td>no</td>\n",
       "      <td>Public</td>\n",
       "      <td>Always</td>\n",
       "      <td>1 to 2</td>\n",
       "      <td>64.0</td>\n",
       "      <td>Normal_Weight</td>\n",
       "    </tr>\n",
       "    <tr>\n",
       "      <th>6</th>\n",
       "      <td>7</td>\n",
       "      <td>21.0</td>\n",
       "      <td>Sometimes</td>\n",
       "      <td>yes</td>\n",
       "      <td>up to 5</td>\n",
       "      <td>Frequently</td>\n",
       "      <td>Female</td>\n",
       "      <td>1.72</td>\n",
       "      <td>NaN</td>\n",
       "      <td>3.0</td>\n",
       "      <td>...</td>\n",
       "      <td>yes</td>\n",
       "      <td>3 to 4</td>\n",
       "      <td>NaN</td>\n",
       "      <td>2.0</td>\n",
       "      <td>no</td>\n",
       "      <td>Public</td>\n",
       "      <td>Sometimes</td>\n",
       "      <td>1 to 2</td>\n",
       "      <td>80.0</td>\n",
       "      <td>Overweight_Level_II</td>\n",
       "    </tr>\n",
       "    <tr>\n",
       "      <th>7</th>\n",
       "      <td>8</td>\n",
       "      <td>22.0</td>\n",
       "      <td>Sometimes</td>\n",
       "      <td>no</td>\n",
       "      <td>up to 2</td>\n",
       "      <td>Sometimes</td>\n",
       "      <td>Male</td>\n",
       "      <td>1.65</td>\n",
       "      <td>NaN</td>\n",
       "      <td>3.0</td>\n",
       "      <td>...</td>\n",
       "      <td>no</td>\n",
       "      <td>3 to 4</td>\n",
       "      <td>LatAm</td>\n",
       "      <td>1.0</td>\n",
       "      <td>no</td>\n",
       "      <td>Public</td>\n",
       "      <td>Always</td>\n",
       "      <td>more than 2</td>\n",
       "      <td>56.0</td>\n",
       "      <td>Normal_Weight</td>\n",
       "    </tr>\n",
       "    <tr>\n",
       "      <th>8</th>\n",
       "      <td>9</td>\n",
       "      <td>41.0</td>\n",
       "      <td>Frequently</td>\n",
       "      <td>yes</td>\n",
       "      <td>up to 5</td>\n",
       "      <td>Sometimes</td>\n",
       "      <td>Male</td>\n",
       "      <td>1.80</td>\n",
       "      <td>NaN</td>\n",
       "      <td>3.0</td>\n",
       "      <td>...</td>\n",
       "      <td>no</td>\n",
       "      <td>3 to 4</td>\n",
       "      <td>LatAm</td>\n",
       "      <td>0.0</td>\n",
       "      <td>no</td>\n",
       "      <td>Car</td>\n",
       "      <td>Sometimes</td>\n",
       "      <td>1 to 2</td>\n",
       "      <td>99.0</td>\n",
       "      <td>Obesity_Type_I</td>\n",
       "    </tr>\n",
       "    <tr>\n",
       "      <th>9</th>\n",
       "      <td>10</td>\n",
       "      <td>27.0</td>\n",
       "      <td>Sometimes</td>\n",
       "      <td>yes</td>\n",
       "      <td>up to 2</td>\n",
       "      <td>Sometimes</td>\n",
       "      <td>Male</td>\n",
       "      <td>1.93</td>\n",
       "      <td>NaN</td>\n",
       "      <td>1.0</td>\n",
       "      <td>...</td>\n",
       "      <td>yes</td>\n",
       "      <td>1 to 2</td>\n",
       "      <td>LatAm</td>\n",
       "      <td>2.0</td>\n",
       "      <td>no</td>\n",
       "      <td>Public</td>\n",
       "      <td>Sometimes</td>\n",
       "      <td>less than 1</td>\n",
       "      <td>102.0</td>\n",
       "      <td>Overweight_Level_II</td>\n",
       "    </tr>\n",
       "  </tbody>\n",
       "</table>\n",
       "<p>10 rows × 21 columns</p>\n",
       "</div>"
      ],
      "text/plain": [
       "   id   age alcohol_freq caloric_freq devices_perday eat_between_meals  \\\n",
       "0   1  21.0        Never           no        up to 5         Sometimes   \n",
       "1   2  23.0   Frequently           no        up to 5         Sometimes   \n",
       "2   3   NaN   Frequently           no        up to 2         Sometimes   \n",
       "3   4  22.0    Sometimes           no        up to 2         Sometimes   \n",
       "4   5  22.0    Sometimes           no        up to 2         Sometimes   \n",
       "5   6  24.0   Frequently          yes        up to 5         Sometimes   \n",
       "6   7  21.0    Sometimes          yes        up to 5        Frequently   \n",
       "7   8  22.0    Sometimes           no        up to 2         Sometimes   \n",
       "8   9  41.0   Frequently          yes        up to 5         Sometimes   \n",
       "9  10  27.0    Sometimes          yes        up to 2         Sometimes   \n",
       "\n",
       "   gender  height  marrital_status  meals_perday  ... parent_overweight  \\\n",
       "0  Female    1.62              NaN           3.0  ...               yes   \n",
       "1    Male    1.80              NaN           3.0  ...               yes   \n",
       "2    Male    1.80              NaN           3.0  ...                no   \n",
       "3    Male    1.78              NaN           1.0  ...                no   \n",
       "4    Male    1.64              NaN           3.0  ...                no   \n",
       "5    Male    1.78              NaN           3.0  ...               yes   \n",
       "6  Female    1.72              NaN           3.0  ...               yes   \n",
       "7    Male    1.65              NaN           3.0  ...                no   \n",
       "8    Male    1.80              NaN           3.0  ...                no   \n",
       "9    Male    1.93              NaN           1.0  ...               yes   \n",
       "\n",
       "  physical_activity_perweek region siblings  smoke transportation  \\\n",
       "0                       NaN  LatAm      3.0     no         Public   \n",
       "1                    3 to 4  LatAm      0.0     no         Public   \n",
       "2                    3 to 4  LatAm      2.0     no           Walk   \n",
       "3                       NaN  LatAm      3.0     no         Public   \n",
       "4                 5 or more  LatAm      3.0     no         Public   \n",
       "5                    1 to 2  LatAm      2.0     no         Public   \n",
       "6                    3 to 4    NaN      2.0     no         Public   \n",
       "7                    3 to 4  LatAm      1.0     no         Public   \n",
       "8                    3 to 4  LatAm      0.0     no            Car   \n",
       "9                    1 to 2  LatAm      2.0     no         Public   \n",
       "\n",
       "  veggies_freq  water_daily weight          obese_level  \n",
       "0    Sometimes       1 to 2   64.0        Normal_Weight  \n",
       "1    Sometimes       1 to 2   77.0        Normal_Weight  \n",
       "2       Always       1 to 2   87.0   Overweight_Level_I  \n",
       "3    Sometimes       1 to 2   90.0  Overweight_Level_II  \n",
       "4    Sometimes       1 to 2   53.0        Normal_Weight  \n",
       "5       Always       1 to 2   64.0        Normal_Weight  \n",
       "6    Sometimes       1 to 2   80.0  Overweight_Level_II  \n",
       "7       Always  more than 2   56.0        Normal_Weight  \n",
       "8    Sometimes       1 to 2   99.0       Obesity_Type_I  \n",
       "9    Sometimes  less than 1  102.0  Overweight_Level_II  \n",
       "\n",
       "[10 rows x 21 columns]"
      ]
     },
     "execution_count": 4,
     "metadata": {},
     "output_type": "execute_result"
    }
   ],
   "source": [
    "obesity_train_raw.head(10)"
   ]
  },
  {
   "cell_type": "code",
   "execution_count": 5,
   "id": "ffee8f19",
   "metadata": {
    "colab": {
     "base_uri": "https://localhost:8080/",
     "height": 383
    },
    "executionInfo": {
     "elapsed": 321,
     "status": "ok",
     "timestamp": 1729597253173,
     "user": {
      "displayName": "Michał Wójcik",
      "userId": "08591631202502653658"
     },
     "user_tz": -60
    },
    "id": "ffee8f19",
    "outputId": "22ed1cf5-de0d-4ad1-c554-7f49672fcb9c"
   },
   "outputs": [
    {
     "data": {
      "text/html": [
       "<div>\n",
       "<style scoped>\n",
       "    .dataframe tbody tr th:only-of-type {\n",
       "        vertical-align: middle;\n",
       "    }\n",
       "\n",
       "    .dataframe tbody tr th {\n",
       "        vertical-align: top;\n",
       "    }\n",
       "\n",
       "    .dataframe thead th {\n",
       "        text-align: right;\n",
       "    }\n",
       "</style>\n",
       "<table border=\"1\" class=\"dataframe\">\n",
       "  <thead>\n",
       "    <tr style=\"text-align: right;\">\n",
       "      <th></th>\n",
       "      <th>id</th>\n",
       "      <th>age</th>\n",
       "      <th>alcohol_freq</th>\n",
       "      <th>caloric_freq</th>\n",
       "      <th>devices_perday</th>\n",
       "      <th>eat_between_meals</th>\n",
       "      <th>gender</th>\n",
       "      <th>height</th>\n",
       "      <th>marrital_status</th>\n",
       "      <th>meals_perday</th>\n",
       "      <th>monitor_calories</th>\n",
       "      <th>parent_overweight</th>\n",
       "      <th>physical_activity_perweek</th>\n",
       "      <th>region</th>\n",
       "      <th>siblings</th>\n",
       "      <th>smoke</th>\n",
       "      <th>transportation</th>\n",
       "      <th>veggies_freq</th>\n",
       "      <th>water_daily</th>\n",
       "      <th>weight</th>\n",
       "    </tr>\n",
       "  </thead>\n",
       "  <tbody>\n",
       "    <tr>\n",
       "      <th>0</th>\n",
       "      <td>1612</td>\n",
       "      <td>21.0</td>\n",
       "      <td>Sometimes</td>\n",
       "      <td>no</td>\n",
       "      <td>up to 2</td>\n",
       "      <td>Sometimes</td>\n",
       "      <td>Female</td>\n",
       "      <td>1.52</td>\n",
       "      <td>NaN</td>\n",
       "      <td>3.0</td>\n",
       "      <td>yes</td>\n",
       "      <td>yes</td>\n",
       "      <td>5 or more</td>\n",
       "      <td>LatAm</td>\n",
       "      <td>3.0</td>\n",
       "      <td>yes</td>\n",
       "      <td>Public</td>\n",
       "      <td>Always</td>\n",
       "      <td>more than 2</td>\n",
       "      <td>56.0</td>\n",
       "    </tr>\n",
       "    <tr>\n",
       "      <th>1</th>\n",
       "      <td>1613</td>\n",
       "      <td>29.0</td>\n",
       "      <td>Sometimes</td>\n",
       "      <td>yes</td>\n",
       "      <td>up to 2</td>\n",
       "      <td>Sometimes</td>\n",
       "      <td>Male</td>\n",
       "      <td>1.62</td>\n",
       "      <td>NaN</td>\n",
       "      <td>3.0</td>\n",
       "      <td>no</td>\n",
       "      <td>no</td>\n",
       "      <td>NaN</td>\n",
       "      <td>LatAm</td>\n",
       "      <td>3.0</td>\n",
       "      <td>no</td>\n",
       "      <td>Car</td>\n",
       "      <td>Sometimes</td>\n",
       "      <td>1 to 2</td>\n",
       "      <td>53.0</td>\n",
       "    </tr>\n",
       "    <tr>\n",
       "      <th>2</th>\n",
       "      <td>1614</td>\n",
       "      <td>23.0</td>\n",
       "      <td>Sometimes</td>\n",
       "      <td>NaN</td>\n",
       "      <td>up to 2</td>\n",
       "      <td>Sometimes</td>\n",
       "      <td>Female</td>\n",
       "      <td>1.50</td>\n",
       "      <td>NaN</td>\n",
       "      <td>3.0</td>\n",
       "      <td>no</td>\n",
       "      <td>yes</td>\n",
       "      <td>1 to 2</td>\n",
       "      <td>LatAm</td>\n",
       "      <td>2.0</td>\n",
       "      <td>no</td>\n",
       "      <td>Motorbike</td>\n",
       "      <td>Always</td>\n",
       "      <td>1 to 2</td>\n",
       "      <td>NaN</td>\n",
       "    </tr>\n",
       "    <tr>\n",
       "      <th>3</th>\n",
       "      <td>1615</td>\n",
       "      <td>22.0</td>\n",
       "      <td>Never</td>\n",
       "      <td>yes</td>\n",
       "      <td>up to 5</td>\n",
       "      <td>Sometimes</td>\n",
       "      <td>Male</td>\n",
       "      <td>1.72</td>\n",
       "      <td>NaN</td>\n",
       "      <td>3.0</td>\n",
       "      <td>no</td>\n",
       "      <td>yes</td>\n",
       "      <td>1 to 2</td>\n",
       "      <td>LatAm</td>\n",
       "      <td>1.0</td>\n",
       "      <td>no</td>\n",
       "      <td>Public</td>\n",
       "      <td>Sometimes</td>\n",
       "      <td>1 to 2</td>\n",
       "      <td>68.0</td>\n",
       "    </tr>\n",
       "    <tr>\n",
       "      <th>4</th>\n",
       "      <td>1616</td>\n",
       "      <td>26.0</td>\n",
       "      <td>Sometimes</td>\n",
       "      <td>yes</td>\n",
       "      <td>more than 5</td>\n",
       "      <td>Frequently</td>\n",
       "      <td>Male</td>\n",
       "      <td>1.85</td>\n",
       "      <td>NaN</td>\n",
       "      <td>3.0</td>\n",
       "      <td>no</td>\n",
       "      <td>yes</td>\n",
       "      <td>3 to 4</td>\n",
       "      <td>LatAm</td>\n",
       "      <td>1.0</td>\n",
       "      <td>no</td>\n",
       "      <td>Public</td>\n",
       "      <td>Always</td>\n",
       "      <td>more than 2</td>\n",
       "      <td>105.0</td>\n",
       "    </tr>\n",
       "    <tr>\n",
       "      <th>5</th>\n",
       "      <td>1617</td>\n",
       "      <td>23.0</td>\n",
       "      <td>Sometimes</td>\n",
       "      <td>yes</td>\n",
       "      <td>up to 5</td>\n",
       "      <td>Sometimes</td>\n",
       "      <td>Male</td>\n",
       "      <td>1.77</td>\n",
       "      <td>NaN</td>\n",
       "      <td>1.0</td>\n",
       "      <td>no</td>\n",
       "      <td>yes</td>\n",
       "      <td>1 to 2</td>\n",
       "      <td>LatAm</td>\n",
       "      <td>2.0</td>\n",
       "      <td>no</td>\n",
       "      <td>Public</td>\n",
       "      <td>Always</td>\n",
       "      <td>less than 1</td>\n",
       "      <td>60.0</td>\n",
       "    </tr>\n",
       "    <tr>\n",
       "      <th>6</th>\n",
       "      <td>1618</td>\n",
       "      <td>22.0</td>\n",
       "      <td>Sometimes</td>\n",
       "      <td>no</td>\n",
       "      <td>up to 5</td>\n",
       "      <td>Always</td>\n",
       "      <td>Female</td>\n",
       "      <td>1.70</td>\n",
       "      <td>NaN</td>\n",
       "      <td>3.0</td>\n",
       "      <td>yes</td>\n",
       "      <td>yes</td>\n",
       "      <td>3 to 4</td>\n",
       "      <td>LatAm</td>\n",
       "      <td>1.0</td>\n",
       "      <td>no</td>\n",
       "      <td>Public</td>\n",
       "      <td>Always</td>\n",
       "      <td>1 to 2</td>\n",
       "      <td>NaN</td>\n",
       "    </tr>\n",
       "    <tr>\n",
       "      <th>7</th>\n",
       "      <td>1619</td>\n",
       "      <td>29.0</td>\n",
       "      <td>Never</td>\n",
       "      <td>yes</td>\n",
       "      <td>up to 2</td>\n",
       "      <td>Sometimes</td>\n",
       "      <td>Female</td>\n",
       "      <td>1.53</td>\n",
       "      <td>NaN</td>\n",
       "      <td>1.0</td>\n",
       "      <td>no</td>\n",
       "      <td>no</td>\n",
       "      <td>NaN</td>\n",
       "      <td>LatAm</td>\n",
       "      <td>0.0</td>\n",
       "      <td>no</td>\n",
       "      <td>Car</td>\n",
       "      <td>Sometimes</td>\n",
       "      <td>1 to 2</td>\n",
       "      <td>78.0</td>\n",
       "    </tr>\n",
       "    <tr>\n",
       "      <th>8</th>\n",
       "      <td>1620</td>\n",
       "      <td>30.0</td>\n",
       "      <td>Never</td>\n",
       "      <td>yes</td>\n",
       "      <td>up to 2</td>\n",
       "      <td>Frequently</td>\n",
       "      <td>Female</td>\n",
       "      <td>1.71</td>\n",
       "      <td>NaN</td>\n",
       "      <td>4.0</td>\n",
       "      <td>no</td>\n",
       "      <td>yes</td>\n",
       "      <td>NaN</td>\n",
       "      <td>LatAm</td>\n",
       "      <td>0.0</td>\n",
       "      <td>yes</td>\n",
       "      <td>Car</td>\n",
       "      <td>Always</td>\n",
       "      <td>less than 1</td>\n",
       "      <td>82.0</td>\n",
       "    </tr>\n",
       "    <tr>\n",
       "      <th>9</th>\n",
       "      <td>1621</td>\n",
       "      <td>23.0</td>\n",
       "      <td>Sometimes</td>\n",
       "      <td>yes</td>\n",
       "      <td>up to 5</td>\n",
       "      <td>Frequently</td>\n",
       "      <td>Female</td>\n",
       "      <td>1.60</td>\n",
       "      <td>NaN</td>\n",
       "      <td>4.0</td>\n",
       "      <td>no</td>\n",
       "      <td>no</td>\n",
       "      <td>3 to 4</td>\n",
       "      <td>LatAm</td>\n",
       "      <td>3.0</td>\n",
       "      <td>no</td>\n",
       "      <td>Car</td>\n",
       "      <td>Sometimes</td>\n",
       "      <td>1 to 2</td>\n",
       "      <td>52.0</td>\n",
       "    </tr>\n",
       "  </tbody>\n",
       "</table>\n",
       "</div>"
      ],
      "text/plain": [
       "     id   age alcohol_freq caloric_freq devices_perday eat_between_meals  \\\n",
       "0  1612  21.0    Sometimes           no        up to 2         Sometimes   \n",
       "1  1613  29.0    Sometimes          yes        up to 2         Sometimes   \n",
       "2  1614  23.0    Sometimes          NaN        up to 2         Sometimes   \n",
       "3  1615  22.0        Never          yes        up to 5         Sometimes   \n",
       "4  1616  26.0    Sometimes          yes    more than 5        Frequently   \n",
       "5  1617  23.0    Sometimes          yes        up to 5         Sometimes   \n",
       "6  1618  22.0    Sometimes           no        up to 5            Always   \n",
       "7  1619  29.0        Never          yes        up to 2         Sometimes   \n",
       "8  1620  30.0        Never          yes        up to 2        Frequently   \n",
       "9  1621  23.0    Sometimes          yes        up to 5        Frequently   \n",
       "\n",
       "   gender  height  marrital_status  meals_perday monitor_calories  \\\n",
       "0  Female    1.52              NaN           3.0              yes   \n",
       "1    Male    1.62              NaN           3.0               no   \n",
       "2  Female    1.50              NaN           3.0               no   \n",
       "3    Male    1.72              NaN           3.0               no   \n",
       "4    Male    1.85              NaN           3.0               no   \n",
       "5    Male    1.77              NaN           1.0               no   \n",
       "6  Female    1.70              NaN           3.0              yes   \n",
       "7  Female    1.53              NaN           1.0               no   \n",
       "8  Female    1.71              NaN           4.0               no   \n",
       "9  Female    1.60              NaN           4.0               no   \n",
       "\n",
       "  parent_overweight physical_activity_perweek region  siblings smoke  \\\n",
       "0               yes                 5 or more  LatAm       3.0   yes   \n",
       "1                no                       NaN  LatAm       3.0    no   \n",
       "2               yes                    1 to 2  LatAm       2.0    no   \n",
       "3               yes                    1 to 2  LatAm       1.0    no   \n",
       "4               yes                    3 to 4  LatAm       1.0    no   \n",
       "5               yes                    1 to 2  LatAm       2.0    no   \n",
       "6               yes                    3 to 4  LatAm       1.0    no   \n",
       "7                no                       NaN  LatAm       0.0    no   \n",
       "8               yes                       NaN  LatAm       0.0   yes   \n",
       "9                no                    3 to 4  LatAm       3.0    no   \n",
       "\n",
       "  transportation veggies_freq  water_daily  weight  \n",
       "0         Public       Always  more than 2    56.0  \n",
       "1            Car    Sometimes       1 to 2    53.0  \n",
       "2      Motorbike       Always       1 to 2     NaN  \n",
       "3         Public    Sometimes       1 to 2    68.0  \n",
       "4         Public       Always  more than 2   105.0  \n",
       "5         Public       Always  less than 1    60.0  \n",
       "6         Public       Always       1 to 2     NaN  \n",
       "7            Car    Sometimes       1 to 2    78.0  \n",
       "8            Car       Always  less than 1    82.0  \n",
       "9            Car    Sometimes       1 to 2    52.0  "
      ]
     },
     "execution_count": 5,
     "metadata": {},
     "output_type": "execute_result"
    }
   ],
   "source": [
    "obesity_test_raw.head(10)"
   ]
  },
  {
   "cell_type": "markdown",
   "id": "2f5d2690",
   "metadata": {
    "id": "2f5d2690"
   },
   "source": [
    "<a class=\"anchor\" id=\"\">\n",
    "\n",
    "# 2. Explore data (Data access, exploration and understanding)\n",
    "\n",
    "</a>"
   ]
  },
  {
   "cell_type": "markdown",
   "id": "a4dcd9d4",
   "metadata": {
    "id": "a4dcd9d4"
   },
   "source": [
    "<img src=\"../image/step2.png\" style=\"height:60px\">"
   ]
  },
  {
   "cell_type": "markdown",
   "id": "d7ae9956",
   "metadata": {
    "id": "d7ae9956"
   },
   "source": [
    "Remember, this step is very important as it is at this stage that you will really look into the data that you have. Generally speaking, if you do well at this stage, the following stages will be very smooth.\n",
    "\n",
    "Moreover, you should also take the time to find meaningful patterns on the data: what interesting relationships can be found between the variables and how can that knowledge be inform your future decisions."
   ]
  },
  {
   "cell_type": "code",
   "execution_count": 6,
   "id": "acae7518",
   "metadata": {
    "colab": {
     "base_uri": "https://localhost:8080/"
    },
    "executionInfo": {
     "elapsed": 19,
     "status": "ok",
     "timestamp": 1729597253173,
     "user": {
      "displayName": "Michał Wójcik",
      "userId": "08591631202502653658"
     },
     "user_tz": -60
    },
    "id": "acae7518",
    "outputId": "457f0ab6-1fed-4b5a-fede-ba27e9337c30"
   },
   "outputs": [
    {
     "name": "stdout",
     "output_type": "stream",
     "text": [
      "<class 'pandas.core.frame.DataFrame'>\n",
      "RangeIndex: 1611 entries, 0 to 1610\n",
      "Data columns (total 21 columns):\n",
      " #   Column                     Non-Null Count  Dtype  \n",
      "---  ------                     --------------  -----  \n",
      " 0   id                         1611 non-null   int64  \n",
      " 1   age                        1545 non-null   float64\n",
      " 2   alcohol_freq               1575 non-null   object \n",
      " 3   caloric_freq               1591 non-null   object \n",
      " 4   devices_perday             1589 non-null   object \n",
      " 5   eat_between_meals          1552 non-null   object \n",
      " 6   gender                     1591 non-null   object \n",
      " 7   height                     1597 non-null   float64\n",
      " 8   marrital_status            0 non-null      float64\n",
      " 9   meals_perday               1602 non-null   float64\n",
      " 10  monitor_calories           1572 non-null   object \n",
      " 11  parent_overweight          1591 non-null   object \n",
      " 12  physical_activity_perweek  1046 non-null   object \n",
      " 13  region                     1544 non-null   object \n",
      " 14  siblings                   1599 non-null   float64\n",
      " 15  smoke                      1599 non-null   object \n",
      " 16  transportation             1571 non-null   object \n",
      " 17  veggies_freq               1585 non-null   object \n",
      " 18  water_daily                1577 non-null   object \n",
      " 19  weight                     1558 non-null   float64\n",
      " 20  obese_level                1611 non-null   object \n",
      "dtypes: float64(6), int64(1), object(14)\n",
      "memory usage: 264.4+ KB\n"
     ]
    }
   ],
   "source": [
    "# Display information about the training dataset\n",
    "obesity_train_raw.info()"
   ]
  },
  {
   "cell_type": "code",
   "execution_count": 7,
   "id": "6a8602b1",
   "metadata": {},
   "outputs": [
    {
     "name": "stdout",
     "output_type": "stream",
     "text": [
      "Descriptive statistics for numerical variables:\n",
      "               age       height       weight  meals_perday     siblings\n",
      "count  1545.000000  1597.000000  1558.000000   1602.000000  1599.000000\n",
      "mean     24.344984     1.704108    86.956354      2.684145     1.500938\n",
      "std       6.474498     0.095567    26.072339      0.817584     1.132562\n",
      "min       6.000000     1.290000    32.000000      1.000000     0.000000\n",
      "25%      20.000000     1.630000    67.000000      3.000000     0.000000\n",
      "50%      23.000000     1.700000    83.000000      3.000000     2.000000\n",
      "75%      26.000000     1.770000   107.000000      3.000000     3.000000\n",
      "max      88.000000     2.190000   193.000000      4.000000     3.000000\n"
     ]
    }
   ],
   "source": [
    "# Descriptive statistics for numerical variables\n",
    "numerical_columns = ['age', 'height', 'weight', 'meals_perday', 'siblings']\n",
    "print(\"Descriptive statistics for numerical variables:\")\n",
    "print(obesity_train_raw[numerical_columns].describe())"
   ]
  },
  {
   "cell_type": "code",
   "execution_count": null,
   "id": "25fba474",
   "metadata": {},
   "outputs": [
    {
     "data": {
      "image/png": "[encoded data removed]",
      "text/plain": [
       "<Figure size 1800x1200 with 5 Axes>"
      ]
     },
     "metadata": {},
     "output_type": "display_data"
    }
   ],
   "source": [
    "# Set aesthetic plot styles and color palette\n",
    "sns.set_theme(style=\"whitegrid\")\n",
    "palette = sns.color_palette(\"pastel\")\n",
    "\n",
    "# Create subplots for histograms of numerical variables\n",
    "fig, axes = plt.subplots(nrows=2, ncols=3, figsize=(18, 12))\n",
    "fig.suptitle(\"Histograms of Numerical Variables\", fontsize=16, fontweight='bold')\n",
    "\n",
    "for i, column in enumerate(numerical_columns):\n",
    "    row, col = divmod(i, 3)\n",
    "    obesity_train_raw[column].hist(bins=20, ax=axes[row, col], color=palette[1])\n",
    "    axes[row, col].set_title(column, fontsize=14, fontweight='bold')\n",
    "\n",
    "# Remove empty subplot if the number of numerical columns is less than the grid size\n",
    "if len(numerical_columns) < 6:\n",
    "    fig.delaxes(axes[1, 2])\n",
    "\n",
    "plt.tight_layout(rect=[0, 0, 1, 0.96])\n",
    "plt.show()\n"
   ]
  },
  {
   "cell_type": "code",
   "execution_count": 9,
   "id": "4de829a4",
   "metadata": {},
   "outputs": [
    {
     "data": {
      "image/png": "[encoded data removed]",
      "text/plain": [
       "<Figure size 1800x1200 with 5 Axes>"
      ]
     },
     "metadata": {},
     "output_type": "display_data"
    }
   ],
   "source": [
    "# Separate boxplots for each numerical variable with customization on a single canvas\n",
    "fig, axes = plt.subplots(nrows=2, ncols=3, figsize=(18, 12))\n",
    "fig.suptitle(\"Boxplots of Numerical Variables\", fontsize=16, fontweight='bold')\n",
    "\n",
    "for i, column in enumerate(numerical_columns):\n",
    "    row, col = divmod(i, 3)\n",
    "    sns.boxplot(data=obesity_train_raw, y=column, color=palette[2], ax=axes[row, col])\n",
    "    axes[row, col].set_title(column, fontsize=14, fontweight='bold')\n",
    "    axes[row, col].set_ylabel(None)\n",
    "\n",
    "# Remove empty subplot if the number of numerical columns is less than the grid size\n",
    "if len(numerical_columns) < 6:\n",
    "    fig.delaxes(axes[1, 2])\n",
    "\n",
    "plt.show()"
   ]
  },
  {
   "cell_type": "code",
   "execution_count": 10,
   "id": "1322caf7",
   "metadata": {},
   "outputs": [
    {
     "data": {
      "image/png": "[encoded data removed]",
      "text/plain": [
       "<Figure size 1800x600 with 2 Axes>"
      ]
     },
     "metadata": {},
     "output_type": "display_data"
    }
   ],
   "source": [
    "# Logarithmic transformation for weight and age variables\n",
    "\n",
    "fig, axes = plt.subplots(nrows=1, ncols=2, figsize=(18, 6))\n",
    "fig.suptitle(\"Logarithmic transformations\", fontsize=16, fontweight='bold')\n",
    "\n",
    "log_transform_columns = ['weight', 'age']  # Example variables to transform\n",
    "\n",
    "for i, column in enumerate(log_transform_columns):\n",
    "    sns.histplot(np.log1p(obesity_train_raw[column]), bins=20, kde=True, color=palette[3], ax=axes[i])\n",
    "    axes[i].set_title(f'Logarithmic Transformation of {column}', fontsize=14, fontweight='bold')\n",
    "    axes[i].set_xlabel(f'Log of {column}', fontsize=12)\n",
    "\n",
    "plt.show()"
   ]
  },
  {
   "cell_type": "code",
   "execution_count": 11,
   "id": "6aec2d88",
   "metadata": {},
   "outputs": [
    {
     "data": {
      "image/png": "[encoded data removed]",
      "text/plain": [
       "<Figure size 1600x2400 with 12 Axes>"
      ]
     },
     "metadata": {},
     "output_type": "display_data"
    }
   ],
   "source": [
    "# Ordered countplots for categorical variables\n",
    "\n",
    "fig, axes = plt.subplots(nrows=4, ncols=3, figsize=(16, 24))\n",
    "fig.suptitle('Distribution of Categorical Variables', fontsize=16, fontweight='bold')\n",
    "\n",
    "for ax, var in zip(axes.flatten(), obesity_train_raw.select_dtypes(include='object').columns):\n",
    "    sns.countplot(x=var, data=obesity_train_raw, palette=\"pastel\", ax=ax)\n",
    "    ax.set_title(f'Distribution of {var}', fontsize=14, fontweight='bold')\n",
    "    ax.set_xlabel(None)\n",
    "    ax.set_ylabel(None)\n",
    "\n",
    "# Remove any empty subplots\n",
    "for i in range(len(obesity_train_raw.select_dtypes(include='object').columns), len(axes.flatten())):\n",
    "    fig.delaxes(axes.flatten()[i])\n",
    "\n",
    "plt.tight_layout(rect=[0, 0, 1, 0.96])\n",
    "plt.show()\n"
   ]
  },
  {
   "cell_type": "code",
   "execution_count": 12,
   "id": "bd528b27",
   "metadata": {},
   "outputs": [
    {
     "data": {
      "image/png": "[encoded data removed]",
      "text/plain": [
       "<Figure size 1000x800 with 2 Axes>"
      ]
     },
     "metadata": {},
     "output_type": "display_data"
    }
   ],
   "source": [
    "# Heatmap of correlation for numerical variables\n",
    "plt.figure(figsize=(10, 8))\n",
    "sns.heatmap(obesity_train_raw[numerical_columns].corr(), annot=True, cmap='coolwarm')\n",
    "plt.title('Correlation Matrix for Numerical Variables')\n",
    "plt.show()"
   ]
  },
  {
   "cell_type": "markdown",
   "id": "1186631e",
   "metadata": {
    "id": "1186631e"
   },
   "source": [
    "<a class=\"anchor\" id=\"\">\n",
    "\n",
    "# 3. Modify data (Data preparation)\n",
    "\n",
    "</a>"
   ]
  },
  {
   "cell_type": "markdown",
   "id": "01adeef2",
   "metadata": {
    "id": "01adeef2"
   },
   "source": [
    "<img src=\"../image/step3.png\" style=\"height:60px\">"
   ]
  },
  {
   "cell_type": "markdown",
   "id": "d12772f7",
   "metadata": {
    "id": "d12772f7"
   },
   "source": [
    "Use this section to apply transformations to your dataset.\n",
    "\n",
    "Remember that your decisions at this step should be exclusively informed by your **training data**. While you will need to split your data between training and validation, how that split will be made and how to apply the approppriate transformations will depend on the type of model assessment solution you select for your project (each has its own set of advantages and disadvantages that you need to consider). **Please find a list of possible methods for model assessment below**:\n",
    "\n",
    "1. **Holdout method**\n",
    "2. **Repeated Holdout method**\n",
    "3. **Cross-Validation**\n",
    "\n",
    "__Note:__ Instead of creating different sections for the treatment of training and validation data, you can make the transformations in the same cell. There is no need to create a specific section for that."
   ]
  },
  {
   "cell_type": "markdown",
   "id": "eff6b621",
   "metadata": {
    "id": "eff6b621"
   },
   "source": [
    "### 3.1. Data Preparation"
   ]
  },
  {
   "cell_type": "code",
   "execution_count": 27,
   "id": "238c088d",
   "metadata": {
    "id": "238c088d"
   },
   "outputs": [],
   "source": [
    "# Drop the 'marrital_status' and 'region' columns from the dataset\n",
    "obesity_train = obesity_train_raw.drop(columns=['marrital_status', 'region'])\n",
    "obesity_test = obesity_test_raw.drop(columns=['marrital_status', 'region'])"
   ]
  },
  {
   "cell_type": "code",
   "execution_count": 28,
   "id": "Xfez5_d4e70T",
   "metadata": {
    "colab": {
     "base_uri": "https://localhost:8080/",
     "height": 475
    },
    "executionInfo": {
     "elapsed": 36,
     "status": "ok",
     "timestamp": 1729608382028,
     "user": {
      "displayName": "Skeletal",
      "userId": "03029484600494071692"
     },
     "user_tz": -60
    },
    "id": "Xfez5_d4e70T",
    "outputId": "291b2dda-d1c9-4e6d-f082-92997666448a"
   },
   "outputs": [],
   "source": [
    "obesity_train.set_index('id', inplace=True)\n",
    "obesity_test.set_index('id', inplace=True)"
   ]
  },
  {
   "cell_type": "code",
   "execution_count": 30,
   "id": "62379cb7",
   "metadata": {},
   "outputs": [
    {
     "name": "stdout",
     "output_type": "stream",
     "text": [
      "Age outliers:(11.0, 35.0)\n",
      "\n",
      "Weight outliers:(7.0, 167.0)\n",
      "\n",
      "Height outliers:(1.4199999999999997, 1.9800000000000002)\n",
      "\n"
     ]
    }
   ],
   "source": [
    "def calculate_outliers_iqr(df, column):\n",
    "    Q1 = df[column].quantile(0.25)\n",
    "    Q3 = df[column].quantile(0.75)\n",
    "    IQR = Q3 - Q1\n",
    "    lower_bound = Q1 - 1.5 * IQR\n",
    "    upper_bound = Q3 + 1.5 * IQR\n",
    "    return lower_bound, upper_bound\n",
    "\n",
    "age_outliers = calculate_outliers_iqr(obesity_train, 'age')\n",
    "weight_outliers = calculate_outliers_iqr(obesity_train, 'weight')\n",
    "height_outliers = calculate_outliers_iqr(obesity_train, 'height')\n",
    "\n",
    "print(f\"Age outliers:{age_outliers}\\n\")\n",
    "print(f\"Weight outliers:{weight_outliers}\\n\")\n",
    "print(f\"Height outliers:{height_outliers}\\n\")\n"
   ]
  },
  {
   "cell_type": "code",
   "execution_count": 32,
   "id": "f883b80b",
   "metadata": {},
   "outputs": [
    {
     "name": "stdout",
     "output_type": "stream",
     "text": [
      "Age outliers based on Z-score: (4.9214904752265625, 43.76847716231389)\n",
      "\n",
      "Weight outliers based on Z-score: (8.739336205795198, 165.17337239497505)\n",
      "\n",
      "Height outliers based on Z-score: (1.4174056860550368, 1.9908097178272426)\n",
      "\n"
     ]
    }
   ],
   "source": [
    "def calculate_outliers_zscore(df, column):\n",
    "    mean = df[column].mean()\n",
    "    std = df[column].std()\n",
    "    lower_bound = mean - 3 * std\n",
    "    upper_bound = mean + 3 * std\n",
    "    return lower_bound, upper_bound\n",
    "\n",
    "age_outliers_zscore = calculate_outliers_zscore(obesity_train, 'age')\n",
    "weight_outliers_zscore = calculate_outliers_zscore(obesity_train, 'weight')\n",
    "height_outliers_zscore = calculate_outliers_zscore(obesity_train, 'height')\n",
    "\n",
    "print(f\"Age outliers based on Z-score: {age_outliers_zscore}\\n\")\n",
    "print(f\"Weight outliers based on Z-score: {weight_outliers_zscore}\\n\")\n",
    "print(f\"Height outliers based on Z-score: {height_outliers_zscore}\\n\")"
   ]
  },
  {
   "cell_type": "code",
   "execution_count": 37,
   "id": "4c63cc8a",
   "metadata": {},
   "outputs": [
    {
     "name": "stdout",
     "output_type": "stream",
     "text": [
      "       age  height  weight\n",
      "id                        \n",
      "10    27.0    1.93   102.0\n",
      "246   23.0    1.72    76.0\n",
      "283   19.0    1.80    60.0\n",
      "316   33.0    1.83   113.0\n",
      "375   19.0    1.80    60.0\n",
      "...    ...     ...     ...\n",
      "1578  22.0    1.72   132.0\n",
      "1598  26.0    1.65   112.0\n",
      "1602  26.0    1.61   105.0\n",
      "1605  21.0    1.72   133.0\n",
      "1607  21.0    1.73   131.0\n",
      "\n",
      "[75 rows x 3 columns]\n"
     ]
    }
   ],
   "source": [
    "from sklearn.neighbors import LocalOutlierFactor\n",
    "\n",
    "data_to_check = obesity_train[['age', 'height', 'weight']].dropna()\n",
    "\n",
    "lof = LocalOutlierFactor(n_neighbors=5, contamination=0.05)\n",
    "\n",
    "outlier_labels = lof.fit_predict(data_to_check)\n",
    "\n",
    "outliers_knn = data_to_check[outlier_labels == -1]\n",
    "\n",
    "print(outliers_knn)"
   ]
  },
  {
   "cell_type": "code",
   "execution_count": 24,
   "id": "7rfkILCKkbzS",
   "metadata": {
    "id": "7rfkILCKkbzS"
   },
   "outputs": [],
   "source": [
    "# Removing outliers based on IQR for age and weight and survey information\n",
    "outliers = obesity_train[\n",
    "    ((obesity_train['age'] < 16) & ~(obesity_train['age'].isna())) |\n",
    "    ((obesity_train['age'] > 35) & ~(obesity_train['age'].isna())) |\n",
    "    ((obesity_train['weight'] > 167) & ~(obesity_train['weight'].isna()))\n",
    "]\n",
    "obesity_train.drop(outliers.index, inplace=True)\n",
    "obesity_train.reset_index(drop=True, inplace=True)"
   ]
  },
  {
   "cell_type": "code",
   "execution_count": 25,
   "id": "gz9nal_KPUGu",
   "metadata": {
    "colab": {
     "base_uri": "https://localhost:8080/"
    },
    "executionInfo": {
     "elapsed": 14,
     "status": "ok",
     "timestamp": 1729608389845,
     "user": {
      "displayName": "Skeletal",
      "userId": "03029484600494071692"
     },
     "user_tz": -60
    },
    "id": "gz9nal_KPUGu",
    "outputId": "e4946bf0-1b24-4a80-9c85-68be30f0295c"
   },
   "outputs": [
    {
     "data": {
      "text/plain": [
       "(1491, 18)"
      ]
     },
     "execution_count": 25,
     "metadata": {},
     "output_type": "execute_result"
    }
   ],
   "source": [
    "obesity_train.shape # Shape adds up to our expectation (6 rows deleted) 1611 -> 1605 rows"
   ]
  },
  {
   "cell_type": "markdown",
   "id": "f813e2d3",
   "metadata": {},
   "source": [
    "# Encoding categorical data"
   ]
  },
  {
   "cell_type": "code",
   "execution_count": 38,
   "id": "6f636105",
   "metadata": {},
   "outputs": [],
   "source": [
    "# Identify and separate categorical and numerical columns\n",
    "categorical_columns = obesity_train.select_dtypes(include='object').columns\n",
    "numerical_columns = obesity_train.select_dtypes(exclude='object').columns"
   ]
  },
  {
   "cell_type": "code",
   "execution_count": 39,
   "id": "e193156e",
   "metadata": {},
   "outputs": [],
   "source": [
    "hashmap = {\n",
    "\"Never\": 0,\n",
    "\"Sometimes\": 1,\n",
    "\"Frequently\": 2,\n",
    "\"Always\": 3,\n",
    "\n",
    "\"No Activity\": 0,\n",
    "\"up to 2\": 1,\n",
    "\"up to 5\": 2,\n",
    "\"more than 5\": 3,\n",
    "\n",
    "\"less than 1\": 1,\n",
    "\"1 to 2\": 2,\n",
    "\"more than 2\": 3,\n",
    "\"3 to 4\": 4,\n",
    "\"5 or more\": 5,\n",
    "\n",
    "\"Bicycle\": 1,\n",
    "\"Car\": 4,\n",
    "\"Motorbike\": 3,\n",
    "\"Public\": 2,\n",
    "\"Walk\": 0,\n",
    "\n",
    "\"no\": 0,\n",
    "\"yes\": 1,\n",
    "\n",
    "\"Male\": 0,\n",
    "\"Female\": 1\n",
    "}"
   ]
  },
  {
   "cell_type": "code",
   "execution_count": 40,
   "id": "bd8decd9",
   "metadata": {},
   "outputs": [],
   "source": [
    "# Manually encode data\n",
    "\n",
    "cat_columns= ['alcohol_freq',\n",
    " 'caloric_freq',\n",
    " 'devices_perday',\n",
    " 'eat_between_meals',\n",
    " 'gender',\n",
    " 'monitor_calories',\n",
    " 'parent_overweight',\n",
    " 'physical_activity_perweek',\n",
    " 'smoke',\n",
    " 'transportation',\n",
    " 'veggies_freq',\n",
    " 'water_daily',\n",
    " 'meals_perday',\n",
    " \"siblings\"]\n",
    "\n",
    "for column in cat_columns:\n",
    "    obesity_train[column] = obesity_train[column].replace(hashmap)"
   ]
  },
  {
   "cell_type": "code",
   "execution_count": 41,
   "id": "d066ca05",
   "metadata": {},
   "outputs": [
    {
     "name": "stdout",
     "output_type": "stream",
     "text": [
      "<class 'pandas.core.frame.DataFrame'>\n",
      "Index: 1611 entries, 1 to 1611\n",
      "Data columns (total 18 columns):\n",
      " #   Column                     Non-Null Count  Dtype  \n",
      "---  ------                     --------------  -----  \n",
      " 0   age                        1545 non-null   float64\n",
      " 1   alcohol_freq               1575 non-null   float64\n",
      " 2   caloric_freq               1591 non-null   float64\n",
      " 3   devices_perday             1589 non-null   float64\n",
      " 4   eat_between_meals          1552 non-null   float64\n",
      " 5   gender                     1591 non-null   float64\n",
      " 6   height                     1597 non-null   float64\n",
      " 7   meals_perday               1602 non-null   float64\n",
      " 8   monitor_calories           1572 non-null   float64\n",
      " 9   parent_overweight          1591 non-null   float64\n",
      " 10  physical_activity_perweek  1046 non-null   float64\n",
      " 11  siblings                   1599 non-null   float64\n",
      " 12  smoke                      1599 non-null   float64\n",
      " 13  transportation             1571 non-null   float64\n",
      " 14  veggies_freq               1585 non-null   float64\n",
      " 15  water_daily                1577 non-null   float64\n",
      " 16  weight                     1558 non-null   float64\n",
      " 17  obese_level                1611 non-null   object \n",
      "dtypes: float64(17), object(1)\n",
      "memory usage: 239.1+ KB\n"
     ]
    }
   ],
   "source": [
    "obesity_train.info()"
   ]
  },
  {
   "cell_type": "code",
   "execution_count": null,
   "id": "e1db0556",
   "metadata": {},
   "outputs": [],
   "source": [
    "obesity_train_encoded = obesity_train.copy()\n",
    "obesity_train_encoded.isna().sum()"
   ]
  },
  {
   "cell_type": "markdown",
   "id": "3855cde7",
   "metadata": {},
   "source": [
    "Handling missing values"
   ]
  },
  {
   "cell_type": "code",
   "execution_count": null,
   "id": "8ef268ec",
   "metadata": {},
   "outputs": [],
   "source": [
    "# ASSUMPTION: There is no 0 value in the scope. We assume nulls are the people who dont work out\n",
    "\n",
    "obesity_train['physical_activity_perweek'].fillna(0, inplace=True) "
   ]
  },
  {
   "cell_type": "code",
   "execution_count": null,
   "id": "00805d99",
   "metadata": {},
   "outputs": [],
   "source": [
    "X = obesity_train_encoded.drop(columns='obese_level')\n",
    "y = obesity_train_encoded[['obese_level']]"
   ]
  },
  {
   "cell_type": "code",
   "execution_count": null,
   "id": "946b35f5",
   "metadata": {},
   "outputs": [],
   "source": [
    "X.isna().sum()"
   ]
  },
  {
   "cell_type": "code",
   "execution_count": 43,
   "id": "65fbb5c3",
   "metadata": {},
   "outputs": [],
   "source": [
    "targets_one_hot = []\n",
    "targets_ordinal = [\"alcohol_freq\", \"devices_perday\", \"eat_between_meals\", \"monitor_calories\", \"physical_activity_perweek\",\n",
    "                   \"veggies_freq\", \"water_daily\", \"gender\", \"caloric_freq\" ,\"transportation\", \"parent_overweight\", \"smoke\"]\n",
    "encode_config = {\"onehot\": targets_one_hot, \"ordinal\": targets_ordinal}"
   ]
  },
  {
   "cell_type": "code",
   "execution_count": null,
   "id": "f473ac0c",
   "metadata": {},
   "outputs": [],
   "source": [
    "\"\"\"\n",
    "def encode_data(data_train, data_test, targets_one_hot, targets_ordinal):\n",
    "    \"\"\"\n",
    "    Encodes any type of data in onehot and ordinal, using a list of columns to specify which to encode.\n",
    "    Data: your dataframe\n",
    "    onehot_list: list of strings representing the columns to encode with 1hot\n",
    "    ordinal_list: analogous as above, except it's with ordinal encoding.\n",
    "    \n",
    "    RETVAL: Two dataframes with the encoded data. Transformed columns' names will be deleted and replaced with the encoded ones, following this naming convention:\n",
    "    - If onehot, it will follow the format target_transformed_column\n",
    "    - If ordinal, it will follow the format target_encoded\n",
    "    \"\"\"\n",
    "    encoders_used = {}\n",
    "\n",
    "    encoder = OneHotEncoder(sparse_output=False, drop=\"first\", handle_unknown='ignore')  # drop to avoid multicollinearity\n",
    "    \n",
    "    encoded_train = data_train.copy()\n",
    "    encoded_test = data_test.copy()\n",
    "    \n",
    "    for target in targets_one_hot:\n",
    "        encoded_train[target] = encoded_train[target].astype(\"str\").replace(\"nan\", np.nan)\n",
    "        encoded_test[target] = encoded_test[target].astype(\"str\").replace(\"nan\", np.nan)\n",
    "        \n",
    "        # Fit encoder on training data\n",
    "        target_encoder = encoder.fit(encoded_train[[target]])\n",
    "        \n",
    "        # Transform training data\n",
    "        transformed_train = target_encoder.transform(encoded_train[[target]])\n",
    "        transformed_train = pd.DataFrame(transformed_train, columns=[f\"{target}_{col}\" for col in target_encoder.categories_[0][1:]])\n",
    "        transformed_train.set_index(encoded_train.index, inplace=True)\n",
    "        \n",
    "        # Transform test data\n",
    "        transformed_test = target_encoder.transform(encoded_test[[target]])\n",
    "        transformed_test = pd.DataFrame(transformed_test, columns=[f\"{target}_{col}\" for col in target_encoder.categories_[0][1:]])\n",
    "        transformed_test.set_index(encoded_test.index, inplace=True)\n",
    "        \n",
    "        # Merge columns\n",
    "        encoded_train = encoded_train.drop(columns=[target]).join(transformed_train)\n",
    "        encoded_test = encoded_test.drop(columns=[target]).join(transformed_test)\n",
    "        \n",
    "        encoders_used[target] = encoder\n",
    "    \n",
    "    for target in targets_ordinal:\n",
    "        encoded_train[target] = encoded_train[target].astype(\"str\").replace(\"nan\", np.nan)\n",
    "        encoded_test[target] = encoded_test[target].astype(\"str\").replace(\"nan\", np.nan)\n",
    "        \n",
    "        # Fit encoder on training data\n",
    "        target_encoder = OrdinalEncoder(handle_unknown=\"use_encoded_value\", unknown_value=np.nan)\n",
    "        target_encoder.fit(encoded_train[[target]])\n",
    "        \n",
    "        # Transform training data\n",
    "        transformed_train = target_encoder.transform(encoded_train[[target]])\n",
    "        encoded_train[f\"{target}\"] = transformed_train\n",
    "        \n",
    "        # Transform test data\n",
    "        transformed_test = target_encoder.transform(encoded_test[[target]])\n",
    "        encoded_test[f\"{target}\"] = transformed_test\n",
    "\n",
    "        encoders_used[target] = target_encoder\n",
    "        \n",
    "    \n",
    "    return encoded_train, encoded_test, encoders_used\n",
    "\n",
    "# Encode the data\n",
    "obesity_train_encoded, obesity_test_encoded, encoders_used = encode_data(obesity_train, obesity_test, encode_config['onehot'], encode_config['ordinal'])\n",
    "\"\"\""
   ]
  },
  {
   "cell_type": "markdown",
   "id": "0QWZatS0_nup",
   "metadata": {
    "id": "0QWZatS0_nup"
   },
   "source": [
    "# Handling Missing Values"
   ]
  },
  {
   "cell_type": "code",
   "execution_count": null,
   "id": "0fb079b1",
   "metadata": {},
   "outputs": [],
   "source": []
  },
  {
   "cell_type": "code",
   "execution_count": 167,
   "id": "168e3016",
   "metadata": {},
   "outputs": [
    {
     "data": {
      "text/html": [
       "<div>\n",
       "<style scoped>\n",
       "    .dataframe tbody tr th:only-of-type {\n",
       "        vertical-align: middle;\n",
       "    }\n",
       "\n",
       "    .dataframe tbody tr th {\n",
       "        vertical-align: top;\n",
       "    }\n",
       "\n",
       "    .dataframe thead th {\n",
       "        text-align: right;\n",
       "    }\n",
       "</style>\n",
       "<table border=\"1\" class=\"dataframe\">\n",
       "  <thead>\n",
       "    <tr style=\"text-align: right;\">\n",
       "      <th></th>\n",
       "      <th>age</th>\n",
       "      <th>alcohol_freq</th>\n",
       "      <th>caloric_freq</th>\n",
       "      <th>devices_perday</th>\n",
       "      <th>eat_between_meals</th>\n",
       "      <th>gender</th>\n",
       "      <th>height</th>\n",
       "      <th>meals_perday</th>\n",
       "      <th>monitor_calories</th>\n",
       "      <th>parent_overweight</th>\n",
       "      <th>physical_activity_perweek</th>\n",
       "      <th>siblings</th>\n",
       "      <th>smoke</th>\n",
       "      <th>transportation</th>\n",
       "      <th>veggies_freq</th>\n",
       "      <th>water_daily</th>\n",
       "      <th>weight</th>\n",
       "      <th>obese_level</th>\n",
       "    </tr>\n",
       "  </thead>\n",
       "  <tbody>\n",
       "    <tr>\n",
       "      <th>0</th>\n",
       "      <td>21.0</td>\n",
       "      <td>2.0</td>\n",
       "      <td>0.0</td>\n",
       "      <td>2.0</td>\n",
       "      <td>3.0</td>\n",
       "      <td>0.0</td>\n",
       "      <td>1.62</td>\n",
       "      <td>3.0</td>\n",
       "      <td>0.0</td>\n",
       "      <td>1.0</td>\n",
       "      <td>0.0</td>\n",
       "      <td>3.0</td>\n",
       "      <td>0.0</td>\n",
       "      <td>3.0</td>\n",
       "      <td>2.0</td>\n",
       "      <td>0.0</td>\n",
       "      <td>64.0</td>\n",
       "      <td>Normal_Weight</td>\n",
       "    </tr>\n",
       "    <tr>\n",
       "      <th>1</th>\n",
       "      <td>23.0</td>\n",
       "      <td>1.0</td>\n",
       "      <td>0.0</td>\n",
       "      <td>2.0</td>\n",
       "      <td>3.0</td>\n",
       "      <td>1.0</td>\n",
       "      <td>1.80</td>\n",
       "      <td>3.0</td>\n",
       "      <td>0.0</td>\n",
       "      <td>1.0</td>\n",
       "      <td>2.0</td>\n",
       "      <td>0.0</td>\n",
       "      <td>0.0</td>\n",
       "      <td>3.0</td>\n",
       "      <td>2.0</td>\n",
       "      <td>0.0</td>\n",
       "      <td>77.0</td>\n",
       "      <td>Normal_Weight</td>\n",
       "    </tr>\n",
       "    <tr>\n",
       "      <th>2</th>\n",
       "      <td>NaN</td>\n",
       "      <td>1.0</td>\n",
       "      <td>0.0</td>\n",
       "      <td>1.0</td>\n",
       "      <td>3.0</td>\n",
       "      <td>1.0</td>\n",
       "      <td>1.80</td>\n",
       "      <td>3.0</td>\n",
       "      <td>0.0</td>\n",
       "      <td>0.0</td>\n",
       "      <td>2.0</td>\n",
       "      <td>2.0</td>\n",
       "      <td>0.0</td>\n",
       "      <td>4.0</td>\n",
       "      <td>0.0</td>\n",
       "      <td>0.0</td>\n",
       "      <td>87.0</td>\n",
       "      <td>Overweight_Level_I</td>\n",
       "    </tr>\n",
       "  </tbody>\n",
       "</table>\n",
       "</div>"
      ],
      "text/plain": [
       "    age  alcohol_freq  caloric_freq  devices_perday  eat_between_meals  \\\n",
       "0  21.0           2.0           0.0             2.0                3.0   \n",
       "1  23.0           1.0           0.0             2.0                3.0   \n",
       "2   NaN           1.0           0.0             1.0                3.0   \n",
       "\n",
       "   gender  height  meals_perday  monitor_calories  parent_overweight  \\\n",
       "0     0.0    1.62           3.0               0.0                1.0   \n",
       "1     1.0    1.80           3.0               0.0                1.0   \n",
       "2     1.0    1.80           3.0               0.0                0.0   \n",
       "\n",
       "   physical_activity_perweek  siblings  smoke  transportation  veggies_freq  \\\n",
       "0                        0.0       3.0    0.0             3.0           2.0   \n",
       "1                        2.0       0.0    0.0             3.0           2.0   \n",
       "2                        2.0       2.0    0.0             4.0           0.0   \n",
       "\n",
       "   water_daily  weight         obese_level  \n",
       "0          0.0    64.0       Normal_Weight  \n",
       "1          0.0    77.0       Normal_Weight  \n",
       "2          0.0    87.0  Overweight_Level_I  "
      ]
     },
     "execution_count": 167,
     "metadata": {},
     "output_type": "execute_result"
    }
   ],
   "source": [
    "obesity_train_encoded.head(3)"
   ]
  },
  {
   "cell_type": "code",
   "execution_count": 168,
   "id": "7188d355",
   "metadata": {},
   "outputs": [],
   "source": [
    "# Split the data into training and testing sets\n",
    "X = obesity_train_encoded.drop(columns='obese_level')\n",
    "y = obesity_train_encoded['obese_level']\n",
    "X_train, X_test, y_train, y_test = train_test_split(X, y, test_size=0.3, random_state=42, stratify=y, shuffle=True)"
   ]
  },
  {
   "cell_type": "code",
   "execution_count": 169,
   "id": "Bs2-yQrj-2MO",
   "metadata": {
    "colab": {
     "base_uri": "https://localhost:8080/",
     "height": 648
    },
    "executionInfo": {
     "elapsed": 12,
     "status": "ok",
     "timestamp": 1729597253173,
     "user": {
      "displayName": "Michał Wójcik",
      "userId": "08591631202502653658"
     },
     "user_tz": -60
    },
    "id": "Bs2-yQrj-2MO",
    "outputId": "175cf935-ac35-4b93-dc15-4991acc43e03"
   },
   "outputs": [
    {
     "data": {
      "text/plain": [
       "age                          65\n",
       "alcohol_freq                 36\n",
       "caloric_freq                 20\n",
       "devices_perday               21\n",
       "eat_between_meals            59\n",
       "gender                       20\n",
       "height                       13\n",
       "meals_perday                  9\n",
       "monitor_calories             39\n",
       "parent_overweight            20\n",
       "physical_activity_perweek     0\n",
       "siblings                     12\n",
       "smoke                        12\n",
       "transportation               40\n",
       "veggies_freq                 26\n",
       "water_daily                  34\n",
       "weight                       53\n",
       "dtype: int64"
      ]
     },
     "execution_count": 169,
     "metadata": {},
     "output_type": "execute_result"
    }
   ],
   "source": [
    "X.isna().sum()"
   ]
  },
  {
   "cell_type": "code",
   "execution_count": 170,
   "id": "6c505f70",
   "metadata": {},
   "outputs": [
    {
     "name": "stdout",
     "output_type": "stream",
     "text": [
      "age                           0\n",
      "alcohol_freq                 24\n",
      "caloric_freq                 14\n",
      "devices_perday               18\n",
      "eat_between_meals            46\n",
      "gender                       15\n",
      "height                        0\n",
      "meals_perday                  0\n",
      "monitor_calories             24\n",
      "parent_overweight            17\n",
      "physical_activity_perweek     0\n",
      "siblings                      0\n",
      "smoke                        10\n",
      "transportation               22\n",
      "veggies_freq                 17\n",
      "water_daily                  29\n",
      "weight                        0\n",
      "dtype: int64 \n",
      "\n",
      " age                           0\n",
      "alcohol_freq                 12\n",
      "caloric_freq                  6\n",
      "devices_perday                3\n",
      "eat_between_meals            13\n",
      "gender                        5\n",
      "height                        0\n",
      "meals_perday                  0\n",
      "monitor_calories             15\n",
      "parent_overweight             3\n",
      "physical_activity_perweek     0\n",
      "siblings                      0\n",
      "smoke                         2\n",
      "transportation               18\n",
      "veggies_freq                  9\n",
      "water_daily                   5\n",
      "weight                        0\n",
      "dtype: int64\n"
     ]
    }
   ],
   "source": [
    "# Create copies for KNN imputation\n",
    "data_knnimputer_train = X_train.copy()\n",
    "data_knnimputer_test = X_test.copy()\n",
    "\n",
    "# Specify the columns to scale\n",
    "numerical_columns_features = numerical_columns\n",
    "\n",
    "# Scale the data for KNN imputation\n",
    "scaler = StandardScaler()\n",
    "data_knnimputer_train[numerical_columns_features] = scaler.fit_transform(data_knnimputer_train[numerical_columns_features])\n",
    "data_knnimputer_test[numerical_columns_features] = scaler.transform(data_knnimputer_test[numerical_columns_features])\n",
    "\n",
    "# Perform KNN imputation\n",
    "knn_imputer = KNNImputer(n_neighbors=5, weights='uniform')\n",
    "data_knnimputer_train[numerical_columns_features] = knn_imputer.fit_transform(data_knnimputer_train[numerical_columns_features])\n",
    "data_knnimputer_test[numerical_columns_features] = knn_imputer.transform(data_knnimputer_test[numerical_columns_features])\n",
    "\n",
    "# Inverse transform to original scale\n",
    "data_knnimputer_train[numerical_columns_features] = scaler.inverse_transform(data_knnimputer_train[numerical_columns_features])\n",
    "data_knnimputer_test[numerical_columns_features] = scaler.inverse_transform(data_knnimputer_test[numerical_columns_features])\n",
    "\n",
    "# Check for any remaining missing values\n",
    "print(data_knnimputer_train.isna().sum(), \"\\n\\n\", data_knnimputer_test.isna().sum())"
   ]
  },
  {
   "cell_type": "markdown",
   "id": "82b6a925",
   "metadata": {},
   "source": [
    "Feature engineering"
   ]
  },
  {
   "cell_type": "code",
   "execution_count": 171,
   "id": "KwdC5nPyxzt4",
   "metadata": {
    "executionInfo": {
     "elapsed": 294,
     "status": "ok",
     "timestamp": 1729609910202,
     "user": {
      "displayName": "Michał Wójcik",
      "userId": "08591631202502653658"
     },
     "user_tz": -60
    },
    "id": "KwdC5nPyxzt4"
   },
   "outputs": [],
   "source": [
    "def classify_bmi_comprehensive(row):\n",
    "    \"\"\"\n",
    "    Classify BMI based on age and BMI value.\n",
    "\n",
    "    Input:\n",
    "    row: A Pandas row with 'weight', 'height', and 'age' columns.\n",
    "\n",
    "    Output:\n",
    "    Returns a string that classifies the individual into BMI categories.\n",
    "    \"\"\"\n",
    "    # Check if weight and height are valid\n",
    "    if row['height'] <= 0 or row['weight'] <= 0:\n",
    "        return 'Invalid data'\n",
    "\n",
    "    # Calculate BMI\n",
    "    bmi = row['weight'] / (row['height'] ** 2)\n",
    "\n",
    "    # Age group: Children (2-19 years)\n",
    "    if 2 <= row['age'] < 20:\n",
    "        if bmi < 14:\n",
    "            return \"Underweight\"\n",
    "        elif 14 <= bmi < 18:\n",
    "            return \"Healthy Weight\"\n",
    "        elif 18 <= bmi < 21:\n",
    "            return \"Overweight\"\n",
    "        else:\n",
    "            return \"Obese Class 1\"\n",
    "\n",
    "    # Age group: Adults (20-64 years)\n",
    "    elif 20 <= row['age'] < 65:\n",
    "        if bmi < 18.5:\n",
    "            return \"Underweight\"\n",
    "        elif 18.5 <= bmi < 25:\n",
    "            return \"Healthy Weight\"\n",
    "        elif 25 <= bmi < 30:\n",
    "            return \"Overweight\"\n",
    "        elif 30<= bmi < 35:\n",
    "            return \"Obese Class 1\"\n",
    "        elif 35 <= bmi < 40:\n",
    "            return \"Obese Class 2\"\n",
    "        else:\n",
    "            return \"Obese Class 3\""
   ]
  },
  {
   "cell_type": "code",
   "execution_count": 172,
   "id": "OAteByT9yNUv",
   "metadata": {
    "colab": {
     "base_uri": "https://localhost:8080/",
     "height": 229
    },
    "executionInfo": {
     "elapsed": 322,
     "status": "ok",
     "timestamp": 1729609974697,
     "user": {
      "displayName": "Michał Wójcik",
      "userId": "08591631202502653658"
     },
     "user_tz": -60
    },
    "id": "OAteByT9yNUv",
    "outputId": "61a99cfd-e037-472b-bd09-e4d1e68b668d"
   },
   "outputs": [],
   "source": [
    "data_knnimputer_train['bmi_class'] = data_knnimputer_train.apply(lambda row: classify_bmi_comprehensive(row), axis=1)\n",
    "\n",
    "data_knnimputer_test['bmi_class'] = data_knnimputer_test.apply(lambda row: classify_bmi_comprehensive(row), axis=1)"
   ]
  },
  {
   "cell_type": "code",
   "execution_count": 173,
   "id": "01b26c8c",
   "metadata": {},
   "outputs": [],
   "source": [
    "ordinal_encoder = OrdinalEncoder()\n",
    "data_knnimputer_train['bmi_class'] = ordinal_encoder.fit_transform(data_knnimputer_train[['bmi_class']])\n",
    "data_knnimputer_test['bmi_class'] = ordinal_encoder.transform(data_knnimputer_test[['bmi_class']])"
   ]
  },
  {
   "cell_type": "markdown",
   "id": "a67a6917",
   "metadata": {},
   "source": [
    "Impute categorical"
   ]
  },
  {
   "cell_type": "code",
   "execution_count": 174,
   "id": "c2583f74",
   "metadata": {},
   "outputs": [
    {
     "data": {
      "text/html": [
       "<div>\n",
       "<style scoped>\n",
       "    .dataframe tbody tr th:only-of-type {\n",
       "        vertical-align: middle;\n",
       "    }\n",
       "\n",
       "    .dataframe tbody tr th {\n",
       "        vertical-align: top;\n",
       "    }\n",
       "\n",
       "    .dataframe thead th {\n",
       "        text-align: right;\n",
       "    }\n",
       "</style>\n",
       "<table border=\"1\" class=\"dataframe\">\n",
       "  <thead>\n",
       "    <tr style=\"text-align: right;\">\n",
       "      <th></th>\n",
       "      <th>age</th>\n",
       "      <th>alcohol_freq</th>\n",
       "      <th>caloric_freq</th>\n",
       "      <th>devices_perday</th>\n",
       "      <th>eat_between_meals</th>\n",
       "      <th>gender</th>\n",
       "      <th>height</th>\n",
       "      <th>meals_perday</th>\n",
       "      <th>monitor_calories</th>\n",
       "      <th>parent_overweight</th>\n",
       "      <th>physical_activity_perweek</th>\n",
       "      <th>siblings</th>\n",
       "      <th>smoke</th>\n",
       "      <th>transportation</th>\n",
       "      <th>veggies_freq</th>\n",
       "      <th>water_daily</th>\n",
       "      <th>weight</th>\n",
       "      <th>bmi_class</th>\n",
       "    </tr>\n",
       "  </thead>\n",
       "  <tbody>\n",
       "    <tr>\n",
       "      <th>1227</th>\n",
       "      <td>39.0</td>\n",
       "      <td>3.0</td>\n",
       "      <td>1.0</td>\n",
       "      <td>1.0</td>\n",
       "      <td>3.0</td>\n",
       "      <td>1.0</td>\n",
       "      <td>1.75</td>\n",
       "      <td>3.0</td>\n",
       "      <td>0.0</td>\n",
       "      <td>1.0</td>\n",
       "      <td>0.0</td>\n",
       "      <td>0.0</td>\n",
       "      <td>0.0</td>\n",
       "      <td>1.0</td>\n",
       "      <td>0.0</td>\n",
       "      <td>0.0</td>\n",
       "      <td>119.0</td>\n",
       "      <td>2.0</td>\n",
       "    </tr>\n",
       "    <tr>\n",
       "      <th>112</th>\n",
       "      <td>30.0</td>\n",
       "      <td>3.0</td>\n",
       "      <td>1.0</td>\n",
       "      <td>1.0</td>\n",
       "      <td>3.0</td>\n",
       "      <td>0.0</td>\n",
       "      <td>1.62</td>\n",
       "      <td>3.0</td>\n",
       "      <td>0.0</td>\n",
       "      <td>1.0</td>\n",
       "      <td>2.0</td>\n",
       "      <td>3.0</td>\n",
       "      <td>0.0</td>\n",
       "      <td>1.0</td>\n",
       "      <td>0.0</td>\n",
       "      <td>0.0</td>\n",
       "      <td>67.4</td>\n",
       "      <td>4.0</td>\n",
       "    </tr>\n",
       "  </tbody>\n",
       "</table>\n",
       "</div>"
      ],
      "text/plain": [
       "       age  alcohol_freq  caloric_freq  devices_perday  eat_between_meals  \\\n",
       "1227  39.0           3.0           1.0             1.0                3.0   \n",
       "112   30.0           3.0           1.0             1.0                3.0   \n",
       "\n",
       "      gender  height  meals_perday  monitor_calories  parent_overweight  \\\n",
       "1227     1.0    1.75           3.0               0.0                1.0   \n",
       "112      0.0    1.62           3.0               0.0                1.0   \n",
       "\n",
       "      physical_activity_perweek  siblings  smoke  transportation  \\\n",
       "1227                        0.0       0.0    0.0             1.0   \n",
       "112                         2.0       3.0    0.0             1.0   \n",
       "\n",
       "      veggies_freq  water_daily  weight  bmi_class  \n",
       "1227           0.0          0.0   119.0        2.0  \n",
       "112            0.0          0.0    67.4        4.0  "
      ]
     },
     "execution_count": 174,
     "metadata": {},
     "output_type": "execute_result"
    }
   ],
   "source": [
    "data_knnimputer_train.head(2)"
   ]
  },
  {
   "cell_type": "code",
   "execution_count": 175,
   "id": "638e5b0c",
   "metadata": {},
   "outputs": [],
   "source": [
    "categorical_columns = categorical_columns[:-1]"
   ]
  },
  {
   "cell_type": "code",
   "execution_count": 176,
   "id": "786cb13b",
   "metadata": {},
   "outputs": [
    {
     "data": {
      "text/plain": [
       "Index(['alcohol_freq', 'caloric_freq', 'devices_perday', 'eat_between_meals',\n",
       "       'gender', 'monitor_calories', 'parent_overweight',\n",
       "       'physical_activity_perweek', 'smoke', 'transportation', 'veggies_freq',\n",
       "       'water_daily'],\n",
       "      dtype='object')"
      ]
     },
     "execution_count": 176,
     "metadata": {},
     "output_type": "execute_result"
    }
   ],
   "source": [
    "categorical_columns"
   ]
  },
  {
   "cell_type": "code",
   "execution_count": 177,
   "id": "ef152e87",
   "metadata": {},
   "outputs": [
    {
     "name": "stdout",
     "output_type": "stream",
     "text": [
      "alcohol_freq                 0\n",
      "caloric_freq                 0\n",
      "devices_perday               0\n",
      "eat_between_meals            0\n",
      "gender                       0\n",
      "monitor_calories             0\n",
      "parent_overweight            0\n",
      "physical_activity_perweek    0\n",
      "smoke                        0\n",
      "transportation               0\n",
      "veggies_freq                 0\n",
      "water_daily                  0\n",
      "dtype: int64 \n",
      "\n",
      " alcohol_freq                 0\n",
      "caloric_freq                 0\n",
      "devices_perday               0\n",
      "eat_between_meals            0\n",
      "gender                       0\n",
      "monitor_calories             0\n",
      "parent_overweight            0\n",
      "physical_activity_perweek    0\n",
      "smoke                        0\n",
      "transportation               0\n",
      "veggies_freq                 0\n",
      "water_daily                  0\n",
      "dtype: int64\n"
     ]
    }
   ],
   "source": [
    "# Initialize IterativeImputer with KNeighborsClassifier for categorical data imputation\n",
    "iterative_imputer = IterativeImputer(estimator=KNeighborsClassifier(n_neighbors=5), max_iter=10, random_state=42, \n",
    "                                     skip_complete=True)\n",
    "\n",
    "# Perform imputation on the encoded categorical data\n",
    "data_knnimputer_train_imputed = iterative_imputer.fit_transform(data_knnimputer_train)\n",
    "data_knnimputer_test_imputed = iterative_imputer.transform(data_knnimputer_test)\n",
    "\n",
    "# Convert back to DataFrame and assign original column names\n",
    "data_knnimputer_train = pd.DataFrame(data_knnimputer_train_imputed, columns=data_knnimputer_train.columns)\n",
    "data_knnimputer_test = pd.DataFrame(data_knnimputer_test_imputed, columns=data_knnimputer_test.columns)\n",
    "\n",
    "# Check for any remaining missing values\n",
    "print(data_knnimputer_train[categorical_columns].isna().sum(), \"\\n\\n\", data_knnimputer_test[categorical_columns].isna().sum())"
   ]
  },
  {
   "cell_type": "code",
   "execution_count": 178,
   "id": "ff6d698c",
   "metadata": {},
   "outputs": [],
   "source": [
    "encoded_train = data_knnimputer_train.copy()\n",
    "encoded_test = data_knnimputer_test.copy()"
   ]
  },
  {
   "cell_type": "code",
   "execution_count": 179,
   "id": "34a1da6b",
   "metadata": {},
   "outputs": [
    {
     "data": {
      "text/html": [
       "<div>\n",
       "<style scoped>\n",
       "    .dataframe tbody tr th:only-of-type {\n",
       "        vertical-align: middle;\n",
       "    }\n",
       "\n",
       "    .dataframe tbody tr th {\n",
       "        vertical-align: top;\n",
       "    }\n",
       "\n",
       "    .dataframe thead th {\n",
       "        text-align: right;\n",
       "    }\n",
       "</style>\n",
       "<table border=\"1\" class=\"dataframe\">\n",
       "  <thead>\n",
       "    <tr style=\"text-align: right;\">\n",
       "      <th></th>\n",
       "      <th>age</th>\n",
       "      <th>alcohol_freq</th>\n",
       "      <th>caloric_freq</th>\n",
       "      <th>devices_perday</th>\n",
       "      <th>eat_between_meals</th>\n",
       "      <th>gender</th>\n",
       "      <th>height</th>\n",
       "      <th>meals_perday</th>\n",
       "      <th>monitor_calories</th>\n",
       "      <th>parent_overweight</th>\n",
       "      <th>physical_activity_perweek</th>\n",
       "      <th>siblings</th>\n",
       "      <th>smoke</th>\n",
       "      <th>transportation</th>\n",
       "      <th>veggies_freq</th>\n",
       "      <th>water_daily</th>\n",
       "      <th>weight</th>\n",
       "      <th>bmi_class</th>\n",
       "    </tr>\n",
       "  </thead>\n",
       "  <tbody>\n",
       "    <tr>\n",
       "      <th>0</th>\n",
       "      <td>39.0</td>\n",
       "      <td>3.0</td>\n",
       "      <td>1.0</td>\n",
       "      <td>1.0</td>\n",
       "      <td>3.0</td>\n",
       "      <td>1.0</td>\n",
       "      <td>1.75</td>\n",
       "      <td>3.0</td>\n",
       "      <td>0.0</td>\n",
       "      <td>1.0</td>\n",
       "      <td>0.0</td>\n",
       "      <td>0.0</td>\n",
       "      <td>0.0</td>\n",
       "      <td>1.0</td>\n",
       "      <td>0.0</td>\n",
       "      <td>0.0</td>\n",
       "      <td>119.0</td>\n",
       "      <td>2.0</td>\n",
       "    </tr>\n",
       "    <tr>\n",
       "      <th>1</th>\n",
       "      <td>30.0</td>\n",
       "      <td>3.0</td>\n",
       "      <td>1.0</td>\n",
       "      <td>1.0</td>\n",
       "      <td>3.0</td>\n",
       "      <td>0.0</td>\n",
       "      <td>1.62</td>\n",
       "      <td>3.0</td>\n",
       "      <td>0.0</td>\n",
       "      <td>1.0</td>\n",
       "      <td>2.0</td>\n",
       "      <td>3.0</td>\n",
       "      <td>0.0</td>\n",
       "      <td>1.0</td>\n",
       "      <td>0.0</td>\n",
       "      <td>0.0</td>\n",
       "      <td>67.4</td>\n",
       "      <td>4.0</td>\n",
       "    </tr>\n",
       "    <tr>\n",
       "      <th>2</th>\n",
       "      <td>25.0</td>\n",
       "      <td>2.0</td>\n",
       "      <td>1.0</td>\n",
       "      <td>2.0</td>\n",
       "      <td>3.0</td>\n",
       "      <td>1.0</td>\n",
       "      <td>1.81</td>\n",
       "      <td>4.0</td>\n",
       "      <td>0.0</td>\n",
       "      <td>0.0</td>\n",
       "      <td>0.0</td>\n",
       "      <td>1.0</td>\n",
       "      <td>0.0</td>\n",
       "      <td>1.0</td>\n",
       "      <td>1.0</td>\n",
       "      <td>0.0</td>\n",
       "      <td>86.0</td>\n",
       "      <td>4.0</td>\n",
       "    </tr>\n",
       "    <tr>\n",
       "      <th>3</th>\n",
       "      <td>32.0</td>\n",
       "      <td>3.0</td>\n",
       "      <td>1.0</td>\n",
       "      <td>1.0</td>\n",
       "      <td>3.0</td>\n",
       "      <td>0.0</td>\n",
       "      <td>1.57</td>\n",
       "      <td>3.0</td>\n",
       "      <td>0.0</td>\n",
       "      <td>1.0</td>\n",
       "      <td>0.0</td>\n",
       "      <td>2.0</td>\n",
       "      <td>0.0</td>\n",
       "      <td>1.0</td>\n",
       "      <td>0.0</td>\n",
       "      <td>0.0</td>\n",
       "      <td>57.0</td>\n",
       "      <td>0.0</td>\n",
       "    </tr>\n",
       "    <tr>\n",
       "      <th>4</th>\n",
       "      <td>18.0</td>\n",
       "      <td>2.0</td>\n",
       "      <td>1.0</td>\n",
       "      <td>0.0</td>\n",
       "      <td>3.0</td>\n",
       "      <td>1.0</td>\n",
       "      <td>1.78</td>\n",
       "      <td>3.0</td>\n",
       "      <td>0.0</td>\n",
       "      <td>1.0</td>\n",
       "      <td>2.0</td>\n",
       "      <td>2.0</td>\n",
       "      <td>0.0</td>\n",
       "      <td>1.0</td>\n",
       "      <td>2.0</td>\n",
       "      <td>0.0</td>\n",
       "      <td>57.0</td>\n",
       "      <td>0.0</td>\n",
       "    </tr>\n",
       "    <tr>\n",
       "      <th>...</th>\n",
       "      <td>...</td>\n",
       "      <td>...</td>\n",
       "      <td>...</td>\n",
       "      <td>...</td>\n",
       "      <td>...</td>\n",
       "      <td>...</td>\n",
       "      <td>...</td>\n",
       "      <td>...</td>\n",
       "      <td>...</td>\n",
       "      <td>...</td>\n",
       "      <td>...</td>\n",
       "      <td>...</td>\n",
       "      <td>...</td>\n",
       "      <td>...</td>\n",
       "      <td>...</td>\n",
       "      <td>...</td>\n",
       "      <td>...</td>\n",
       "      <td>...</td>\n",
       "    </tr>\n",
       "    <tr>\n",
       "      <th>1118</th>\n",
       "      <td>18.0</td>\n",
       "      <td>3.0</td>\n",
       "      <td>1.0</td>\n",
       "      <td>2.0</td>\n",
       "      <td>3.0</td>\n",
       "      <td>1.0</td>\n",
       "      <td>1.82</td>\n",
       "      <td>2.0</td>\n",
       "      <td>0.0</td>\n",
       "      <td>1.0</td>\n",
       "      <td>1.0</td>\n",
       "      <td>1.0</td>\n",
       "      <td>0.0</td>\n",
       "      <td>3.0</td>\n",
       "      <td>2.0</td>\n",
       "      <td>0.0</td>\n",
       "      <td>108.0</td>\n",
       "      <td>1.0</td>\n",
       "    </tr>\n",
       "    <tr>\n",
       "      <th>1119</th>\n",
       "      <td>18.0</td>\n",
       "      <td>3.0</td>\n",
       "      <td>1.0</td>\n",
       "      <td>0.0</td>\n",
       "      <td>3.0</td>\n",
       "      <td>0.0</td>\n",
       "      <td>1.46</td>\n",
       "      <td>3.0</td>\n",
       "      <td>1.0</td>\n",
       "      <td>0.0</td>\n",
       "      <td>0.0</td>\n",
       "      <td>1.0</td>\n",
       "      <td>0.0</td>\n",
       "      <td>3.0</td>\n",
       "      <td>2.0</td>\n",
       "      <td>1.0</td>\n",
       "      <td>56.0</td>\n",
       "      <td>1.0</td>\n",
       "    </tr>\n",
       "    <tr>\n",
       "      <th>1120</th>\n",
       "      <td>29.0</td>\n",
       "      <td>3.0</td>\n",
       "      <td>1.0</td>\n",
       "      <td>1.0</td>\n",
       "      <td>3.0</td>\n",
       "      <td>1.0</td>\n",
       "      <td>1.62</td>\n",
       "      <td>3.0</td>\n",
       "      <td>0.0</td>\n",
       "      <td>1.0</td>\n",
       "      <td>0.0</td>\n",
       "      <td>3.0</td>\n",
       "      <td>0.0</td>\n",
       "      <td>3.0</td>\n",
       "      <td>1.0</td>\n",
       "      <td>1.0</td>\n",
       "      <td>89.0</td>\n",
       "      <td>1.0</td>\n",
       "    </tr>\n",
       "    <tr>\n",
       "      <th>1121</th>\n",
       "      <td>21.0</td>\n",
       "      <td>2.0</td>\n",
       "      <td>1.0</td>\n",
       "      <td>2.0</td>\n",
       "      <td>3.0</td>\n",
       "      <td>1.0</td>\n",
       "      <td>1.76</td>\n",
       "      <td>4.0</td>\n",
       "      <td>0.0</td>\n",
       "      <td>1.0</td>\n",
       "      <td>2.0</td>\n",
       "      <td>3.0</td>\n",
       "      <td>0.0</td>\n",
       "      <td>3.0</td>\n",
       "      <td>0.0</td>\n",
       "      <td>2.0</td>\n",
       "      <td>55.0</td>\n",
       "      <td>5.0</td>\n",
       "    </tr>\n",
       "    <tr>\n",
       "      <th>1122</th>\n",
       "      <td>35.0</td>\n",
       "      <td>2.0</td>\n",
       "      <td>1.0</td>\n",
       "      <td>2.0</td>\n",
       "      <td>3.0</td>\n",
       "      <td>1.0</td>\n",
       "      <td>1.75</td>\n",
       "      <td>3.0</td>\n",
       "      <td>0.0</td>\n",
       "      <td>1.0</td>\n",
       "      <td>3.0</td>\n",
       "      <td>2.0</td>\n",
       "      <td>0.0</td>\n",
       "      <td>1.0</td>\n",
       "      <td>0.0</td>\n",
       "      <td>2.0</td>\n",
       "      <td>85.0</td>\n",
       "      <td>4.0</td>\n",
       "    </tr>\n",
       "  </tbody>\n",
       "</table>\n",
       "<p>1123 rows × 18 columns</p>\n",
       "</div>"
      ],
      "text/plain": [
       "       age  alcohol_freq  caloric_freq  devices_perday  eat_between_meals  \\\n",
       "0     39.0           3.0           1.0             1.0                3.0   \n",
       "1     30.0           3.0           1.0             1.0                3.0   \n",
       "2     25.0           2.0           1.0             2.0                3.0   \n",
       "3     32.0           3.0           1.0             1.0                3.0   \n",
       "4     18.0           2.0           1.0             0.0                3.0   \n",
       "...    ...           ...           ...             ...                ...   \n",
       "1118  18.0           3.0           1.0             2.0                3.0   \n",
       "1119  18.0           3.0           1.0             0.0                3.0   \n",
       "1120  29.0           3.0           1.0             1.0                3.0   \n",
       "1121  21.0           2.0           1.0             2.0                3.0   \n",
       "1122  35.0           2.0           1.0             2.0                3.0   \n",
       "\n",
       "      gender  height  meals_perday  monitor_calories  parent_overweight  \\\n",
       "0        1.0    1.75           3.0               0.0                1.0   \n",
       "1        0.0    1.62           3.0               0.0                1.0   \n",
       "2        1.0    1.81           4.0               0.0                0.0   \n",
       "3        0.0    1.57           3.0               0.0                1.0   \n",
       "4        1.0    1.78           3.0               0.0                1.0   \n",
       "...      ...     ...           ...               ...                ...   \n",
       "1118     1.0    1.82           2.0               0.0                1.0   \n",
       "1119     0.0    1.46           3.0               1.0                0.0   \n",
       "1120     1.0    1.62           3.0               0.0                1.0   \n",
       "1121     1.0    1.76           4.0               0.0                1.0   \n",
       "1122     1.0    1.75           3.0               0.0                1.0   \n",
       "\n",
       "      physical_activity_perweek  siblings  smoke  transportation  \\\n",
       "0                           0.0       0.0    0.0             1.0   \n",
       "1                           2.0       3.0    0.0             1.0   \n",
       "2                           0.0       1.0    0.0             1.0   \n",
       "3                           0.0       2.0    0.0             1.0   \n",
       "4                           2.0       2.0    0.0             1.0   \n",
       "...                         ...       ...    ...             ...   \n",
       "1118                        1.0       1.0    0.0             3.0   \n",
       "1119                        0.0       1.0    0.0             3.0   \n",
       "1120                        0.0       3.0    0.0             3.0   \n",
       "1121                        2.0       3.0    0.0             3.0   \n",
       "1122                        3.0       2.0    0.0             1.0   \n",
       "\n",
       "      veggies_freq  water_daily  weight  bmi_class  \n",
       "0              0.0          0.0   119.0        2.0  \n",
       "1              0.0          0.0    67.4        4.0  \n",
       "2              1.0          0.0    86.0        4.0  \n",
       "3              0.0          0.0    57.0        0.0  \n",
       "4              2.0          0.0    57.0        0.0  \n",
       "...            ...          ...     ...        ...  \n",
       "1118           2.0          0.0   108.0        1.0  \n",
       "1119           2.0          1.0    56.0        1.0  \n",
       "1120           1.0          1.0    89.0        1.0  \n",
       "1121           0.0          2.0    55.0        5.0  \n",
       "1122           0.0          2.0    85.0        4.0  \n",
       "\n",
       "[1123 rows x 18 columns]"
      ]
     },
     "execution_count": 179,
     "metadata": {},
     "output_type": "execute_result"
    }
   ],
   "source": [
    "encoded_train"
   ]
  },
  {
   "cell_type": "markdown",
   "id": "97a4de74",
   "metadata": {
    "id": "97a4de74"
   },
   "source": [
    "### 3.3. Scaling"
   ]
  },
  {
   "cell_type": "code",
   "execution_count": 180,
   "id": "9e09e725",
   "metadata": {
    "id": "9e09e725"
   },
   "outputs": [],
   "source": [
    "# Value scaling\n",
    "from sklearn.preprocessing import StandardScaler, RobustScaler\n",
    "\n",
    "scale_age = StandardScaler().fit(encoded_train[[\"age\"]])\n",
    "scale_height = StandardScaler().fit(encoded_train[[\"height\"]])\n",
    "scale_weight = StandardScaler().fit(encoded_train[[\"weight\"]]) # Statistical analysis justifies the need to use RobustScaler on this one\n",
    "\n",
    "dfs = [encoded_train, encoded_test] # Transform both dataframes\n",
    "for df in dfs:\n",
    "    new_age = scale_age.transform(df[[\"age\"]])\n",
    "    new_height = scale_height.transform(df[[\"height\"]])\n",
    "    new_weight = scale_weight.transform(df[[\"weight\"]])\n",
    "\n",
    "    # Replace columns\n",
    "    df[\"age\"] = new_age\n",
    "    df[\"height\"] = new_height\n",
    "    df[\"weight\"] = new_weight\n"
   ]
  },
  {
   "cell_type": "code",
   "execution_count": 181,
   "id": "96c72631",
   "metadata": {},
   "outputs": [],
   "source": [
    "obesity_train_preproc = encoded_train.copy()\n",
    "obesity_test_preproc = encoded_test.copy()"
   ]
  },
  {
   "cell_type": "code",
   "execution_count": 182,
   "id": "3bd30244",
   "metadata": {},
   "outputs": [],
   "source": [
    "inverted_train = obesity_train_preproc.copy()\n",
    "inverted_test = obesity_test_preproc.copy()"
   ]
  },
  {
   "cell_type": "code",
   "execution_count": 183,
   "id": "0d59e49e",
   "metadata": {},
   "outputs": [],
   "source": [
    "for x in encoders_used:\n",
    "    inverted_train[[x]] = encoders_used[x].inverse_transform(inverted_train[[x]])\n",
    "    inverted_test[[x]] = encoders_used[x].inverse_transform(inverted_test[[x]])\n",
    "\n",
    "inverted_train['Oweight'] = scale_weight.inverse_transform(inverted_train[['weight']])\n",
    "inverted_test['Oweight'] = scale_weight.inverse_transform(inverted_test[['weight']])"
   ]
  },
  {
   "cell_type": "code",
   "execution_count": 184,
   "id": "5734945f",
   "metadata": {},
   "outputs": [],
   "source": [
    "def m(x):\n",
    "    if (x == \"1 to 2\"):\n",
    "        return 1.5\n",
    "    \n",
    "    if (x == \"less than 1\"):\n",
    "        return .5\n",
    "    \n",
    "    if (x == \"more than 2\"):\n",
    "        return 2.5\n",
    "    \n",
    "    if (x == \"0\"):\n",
    "        return 0.5\n",
    "    \n",
    "    if (x == \"3 to 4\"):\n",
    "        return 3.5\n",
    "    \n",
    "    if (x == \"5 or more\"):\n",
    "        return 5.5\n",
    "    \n",
    "    if (x == \"up to 2\"):\n",
    "        return 2 * 7\n",
    "    \n",
    "    if (x == \"up to 5\"):\n",
    "        return 5 * 7\n",
    "    \n",
    "    if (x == \"more than 5\"):\n",
    "        return 7 * 7\n",
    "\n",
    "inverted_train['water_numeric'] = inverted_train['water_daily'].apply(lambda row: m(row))\n",
    "inverted_test['water_numeric'] = inverted_test['water_daily'].apply(lambda row: m(row))\n",
    "\n",
    "inverted_train['physical_num'] = inverted_train['physical_activity_perweek'].apply(lambda row: m(row))\n",
    "inverted_train['devices_num'] = inverted_train['devices_perday'].apply(lambda row: m(row))\n",
    "\n",
    "inverted_test['physical_num'] = inverted_test['physical_activity_perweek'].apply(lambda row: m(row))\n",
    "inverted_test['devices_num'] = inverted_test['devices_perday'].apply(lambda row: m(row))"
   ]
  },
  {
   "cell_type": "code",
   "execution_count": 185,
   "id": "496b6500",
   "metadata": {},
   "outputs": [],
   "source": [
    "inverted_train['Water_Intake_per_kg'] = inverted_train['water_numeric']/inverted_train['Oweight']\n",
    "inverted_test['Water_Intake_per_kg'] = inverted_test['water_numeric']/inverted_test['Oweight']\n",
    "\n",
    "inverted_train['total_activity_score'] = inverted_train['physical_num'] * inverted_train['devices_num']\n",
    "inverted_test['total_activity_score'] = inverted_test['physical_num'] * inverted_test['devices_num']\n"
   ]
  },
  {
   "cell_type": "code",
   "execution_count": 186,
   "id": "1da214bb",
   "metadata": {},
   "outputs": [],
   "source": [
    "obesity_train_preproc['Water_Intake_per_kg'] = inverted_train['Water_Intake_per_kg']\n",
    "obesity_test_preproc['Water_Intake_per_kg'] = inverted_test['Water_Intake_per_kg']\n",
    "\n",
    "obesity_train_preproc['total_activity_score'] = inverted_train['total_activity_score']\n",
    "obesity_test_preproc['total_activity_score'] = inverted_test['total_activity_score']\n"
   ]
  },
  {
   "cell_type": "markdown",
   "id": "ee111e6e",
   "metadata": {
    "id": "ee111e6e"
   },
   "source": [
    "### 3.4. Feature Selection"
   ]
  },
  {
   "cell_type": "markdown",
   "id": "502b8851",
   "metadata": {},
   "source": [
    "<a class=\"anchor\" id=\"\">\n",
    "\n",
    "# 4 & 5. Model & Assess (Modelling and Assessment)\n",
    "\n",
    "</a>"
   ]
  },
  {
   "cell_type": "markdown",
   "id": "7e56cf31",
   "metadata": {},
   "source": [
    "<img src=\"../image/step4.png\" style=\"height:60px\">"
   ]
  },
  {
   "cell_type": "markdown",
   "id": "678b6594",
   "metadata": {},
   "source": [
    "### 4.1. Model Selection\n",
    "\n",
    "In this section you should take the time to train different predictive algorithms with the data that got to this stage and **use the approppriate model assessment metrics to decide which model you think is the best to address your problem**.\n",
    "\n",
    "**You are expected to present on your report the model performances of the different algorithms that you tested and discuss what informed your choice for a specific algorithm**"
   ]
  },
  {
   "cell_type": "code",
   "execution_count": 187,
   "id": "55dbffd9",
   "metadata": {},
   "outputs": [
    {
     "data": {
      "text/html": [
       "<div>\n",
       "<style scoped>\n",
       "    .dataframe tbody tr th:only-of-type {\n",
       "        vertical-align: middle;\n",
       "    }\n",
       "\n",
       "    .dataframe tbody tr th {\n",
       "        vertical-align: top;\n",
       "    }\n",
       "\n",
       "    .dataframe thead th {\n",
       "        text-align: right;\n",
       "    }\n",
       "</style>\n",
       "<table border=\"1\" class=\"dataframe\">\n",
       "  <thead>\n",
       "    <tr style=\"text-align: right;\">\n",
       "      <th></th>\n",
       "      <th>age</th>\n",
       "      <th>alcohol_freq</th>\n",
       "      <th>caloric_freq</th>\n",
       "      <th>devices_perday</th>\n",
       "      <th>eat_between_meals</th>\n",
       "      <th>gender</th>\n",
       "      <th>height</th>\n",
       "      <th>meals_perday</th>\n",
       "      <th>monitor_calories</th>\n",
       "      <th>parent_overweight</th>\n",
       "      <th>physical_activity_perweek</th>\n",
       "      <th>siblings</th>\n",
       "      <th>smoke</th>\n",
       "      <th>transportation</th>\n",
       "      <th>veggies_freq</th>\n",
       "      <th>water_daily</th>\n",
       "      <th>weight</th>\n",
       "      <th>bmi_class</th>\n",
       "      <th>Water_Intake_per_kg</th>\n",
       "      <th>total_activity_score</th>\n",
       "    </tr>\n",
       "  </thead>\n",
       "  <tbody>\n",
       "    <tr>\n",
       "      <th>0</th>\n",
       "      <td>2.403025</td>\n",
       "      <td>3.0</td>\n",
       "      <td>1.0</td>\n",
       "      <td>1.0</td>\n",
       "      <td>3.0</td>\n",
       "      <td>1.0</td>\n",
       "      <td>0.507679</td>\n",
       "      <td>3.0</td>\n",
       "      <td>0.0</td>\n",
       "      <td>1.0</td>\n",
       "      <td>0.0</td>\n",
       "      <td>0.0</td>\n",
       "      <td>0.0</td>\n",
       "      <td>1.0</td>\n",
       "      <td>0.0</td>\n",
       "      <td>0.0</td>\n",
       "      <td>1.259404</td>\n",
       "      <td>2.0</td>\n",
       "      <td>0.012605</td>\n",
       "      <td>7.0</td>\n",
       "    </tr>\n",
       "    <tr>\n",
       "      <th>1</th>\n",
       "      <td>0.926032</td>\n",
       "      <td>3.0</td>\n",
       "      <td>1.0</td>\n",
       "      <td>1.0</td>\n",
       "      <td>3.0</td>\n",
       "      <td>0.0</td>\n",
       "      <td>-0.873383</td>\n",
       "      <td>3.0</td>\n",
       "      <td>0.0</td>\n",
       "      <td>1.0</td>\n",
       "      <td>2.0</td>\n",
       "      <td>3.0</td>\n",
       "      <td>0.0</td>\n",
       "      <td>1.0</td>\n",
       "      <td>0.0</td>\n",
       "      <td>0.0</td>\n",
       "      <td>-0.750379</td>\n",
       "      <td>4.0</td>\n",
       "      <td>0.022255</td>\n",
       "      <td>49.0</td>\n",
       "    </tr>\n",
       "    <tr>\n",
       "      <th>2</th>\n",
       "      <td>0.105481</td>\n",
       "      <td>2.0</td>\n",
       "      <td>1.0</td>\n",
       "      <td>2.0</td>\n",
       "      <td>3.0</td>\n",
       "      <td>1.0</td>\n",
       "      <td>1.145092</td>\n",
       "      <td>4.0</td>\n",
       "      <td>0.0</td>\n",
       "      <td>0.0</td>\n",
       "      <td>0.0</td>\n",
       "      <td>1.0</td>\n",
       "      <td>0.0</td>\n",
       "      <td>1.0</td>\n",
       "      <td>1.0</td>\n",
       "      <td>0.0</td>\n",
       "      <td>-0.025922</td>\n",
       "      <td>4.0</td>\n",
       "      <td>0.017442</td>\n",
       "      <td>17.5</td>\n",
       "    </tr>\n",
       "  </tbody>\n",
       "</table>\n",
       "</div>"
      ],
      "text/plain": [
       "        age  alcohol_freq  caloric_freq  devices_perday  eat_between_meals  \\\n",
       "0  2.403025           3.0           1.0             1.0                3.0   \n",
       "1  0.926032           3.0           1.0             1.0                3.0   \n",
       "2  0.105481           2.0           1.0             2.0                3.0   \n",
       "\n",
       "   gender    height  meals_perday  monitor_calories  parent_overweight  \\\n",
       "0     1.0  0.507679           3.0               0.0                1.0   \n",
       "1     0.0 -0.873383           3.0               0.0                1.0   \n",
       "2     1.0  1.145092           4.0               0.0                0.0   \n",
       "\n",
       "   physical_activity_perweek  siblings  smoke  transportation  veggies_freq  \\\n",
       "0                        0.0       0.0    0.0             1.0           0.0   \n",
       "1                        2.0       3.0    0.0             1.0           0.0   \n",
       "2                        0.0       1.0    0.0             1.0           1.0   \n",
       "\n",
       "   water_daily    weight  bmi_class  Water_Intake_per_kg  total_activity_score  \n",
       "0          0.0  1.259404        2.0             0.012605                   7.0  \n",
       "1          0.0 -0.750379        4.0             0.022255                  49.0  \n",
       "2          0.0 -0.025922        4.0             0.017442                  17.5  "
      ]
     },
     "execution_count": 187,
     "metadata": {},
     "output_type": "execute_result"
    }
   ],
   "source": [
    "obesity_train_preproc.head(3)"
   ]
  },
  {
   "cell_type": "code",
   "execution_count": 188,
   "id": "66c237cf",
   "metadata": {},
   "outputs": [],
   "source": [
    "X_train = obesity_train_preproc.copy()\n",
    "X_val = obesity_test_preproc.copy()\n",
    "y_val = y_test.copy()"
   ]
  },
  {
   "cell_type": "code",
   "execution_count": 189,
   "id": "7e3f18d8",
   "metadata": {},
   "outputs": [
    {
     "name": "stdout",
     "output_type": "stream",
     "text": [
      "                     precision    recall  f1-score   support\n",
      "\n",
      "Insufficient_Weight       0.68      0.66      0.67        59\n",
      "      Normal_Weight       0.62      0.50      0.55        66\n",
      "     Obesity_Type_I       0.71      0.75      0.73        80\n",
      "    Obesity_Type_II       0.76      0.89      0.82        70\n",
      "   Obesity_Type_III       0.97      0.97      0.97        72\n",
      " Overweight_Level_I       0.62      0.62      0.62        68\n",
      "Overweight_Level_II       0.68      0.66      0.67        67\n",
      "\n",
      "           accuracy                           0.73       482\n",
      "          macro avg       0.72      0.72      0.72       482\n",
      "       weighted avg       0.72      0.73      0.72       482\n",
      "\n"
     ]
    }
   ],
   "source": [
    "from sklearn.linear_model import LogisticRegression\n",
    "from sklearn.metrics import classification_report\n",
    "\n",
    "# Initialize the Logistic Regression model\n",
    "log_reg = LogisticRegression(random_state=42)\n",
    "\n",
    "# Fit the model on the training data\n",
    "log_reg.fit(X_train, y_train)\n",
    "\n",
    "# Evaluate the model on the validation data\n",
    "y_pred_log_reg = log_reg.predict(X_val)\n",
    "print(classification_report(y_val, y_pred_log_reg))"
   ]
  },
  {
   "cell_type": "code",
   "execution_count": 190,
   "id": "c221dfea",
   "metadata": {
    "id": "c221dfea"
   },
   "outputs": [
    {
     "name": "stdout",
     "output_type": "stream",
     "text": [
      "                     precision    recall  f1-score   support\n",
      "\n",
      "Insufficient_Weight       0.90      0.95      0.93        59\n",
      "      Normal_Weight       0.79      0.74      0.77        66\n",
      "     Obesity_Type_I       0.93      0.94      0.93        80\n",
      "    Obesity_Type_II       0.93      0.94      0.94        70\n",
      "   Obesity_Type_III       0.96      0.97      0.97        72\n",
      " Overweight_Level_I       0.76      0.79      0.78        68\n",
      "Overweight_Level_II       0.89      0.82      0.85        67\n",
      "\n",
      "           accuracy                           0.88       482\n",
      "          macro avg       0.88      0.88      0.88       482\n",
      "       weighted avg       0.88      0.88      0.88       482\n",
      "\n"
     ]
    }
   ],
   "source": [
    "\n",
    "tree = DecisionTreeClassifier(random_state=42)\n",
    "\n",
    "tree.fit(X_train, y_train)\n",
    "\n",
    "print(classification_report(y_val, tree.predict(X_val)))"
   ]
  },
  {
   "cell_type": "code",
   "execution_count": 191,
   "id": "af665ac5",
   "metadata": {},
   "outputs": [
    {
     "name": "stdout",
     "output_type": "stream",
     "text": [
      "                     precision    recall  f1-score   support\n",
      "\n",
      "Insufficient_Weight       0.93      0.95      0.94        59\n",
      "      Normal_Weight       0.91      0.88      0.89        66\n",
      "     Obesity_Type_I       0.93      0.97      0.95        80\n",
      "    Obesity_Type_II       0.96      0.96      0.96        70\n",
      "   Obesity_Type_III       0.99      0.97      0.98        72\n",
      " Overweight_Level_I       0.95      0.82      0.88        68\n",
      "Overweight_Level_II       0.88      0.97      0.92        67\n",
      "\n",
      "           accuracy                           0.93       482\n",
      "          macro avg       0.93      0.93      0.93       482\n",
      "       weighted avg       0.93      0.93      0.93       482\n",
      "\n"
     ]
    },
    {
     "data": {
      "text/plain": [
       "1.0"
      ]
     },
     "execution_count": 191,
     "metadata": {},
     "output_type": "execute_result"
    }
   ],
   "source": [
    "from sklearn.ensemble import RandomForestClassifier\n",
    "class_weights = {\n",
    "    'Insufficient_Weight': 1.0,\n",
    "    'Normal_Weight': 10.0,\n",
    "    'Overweight_Level_I': 10.0,\n",
    "    'Overweight_Level_II': 1.0,\n",
    "    'Obesity_Type_I': 1.0,\n",
    "    'Obesity_Type_II': 1.0,\n",
    "    'Obesity_Type_III': 1.0\n",
    "}\n",
    "tree_rf = RandomForestClassifier(random_state=42, class_weight=class_weights)\n",
    "\n",
    "tree_rf.fit(X_train, y_train)\n",
    "\n",
    "print(classification_report(y_val, tree_rf.predict(X_val)))\n",
    "\n",
    "tree_rf.score(X_train, y_train)"
   ]
  },
  {
   "cell_type": "code",
   "execution_count": 192,
   "id": "68704670",
   "metadata": {},
   "outputs": [
    {
     "name": "stdout",
     "output_type": "stream",
     "text": [
      "                     precision    recall  f1-score   support\n",
      "\n",
      "Insufficient_Weight       0.90      0.95      0.93        59\n",
      "      Normal_Weight       0.89      0.83      0.86        66\n",
      "     Obesity_Type_I       0.93      0.95      0.94        80\n",
      "    Obesity_Type_II       0.97      0.97      0.97        70\n",
      "   Obesity_Type_III       1.00      0.97      0.99        72\n",
      " Overweight_Level_I       0.91      0.85      0.88        68\n",
      "Overweight_Level_II       0.86      0.93      0.89        67\n",
      "\n",
      "           accuracy                           0.92       482\n",
      "          macro avg       0.92      0.92      0.92       482\n",
      "       weighted avg       0.92      0.92      0.92       482\n",
      "\n"
     ]
    }
   ],
   "source": [
    "from sklearn.ensemble import GradientBoostingClassifier\n",
    "\n",
    "tree_gb = GradientBoostingClassifier(random_state=42)\n",
    "\n",
    "tree_gb.fit(X_train, y_train)\n",
    "\n",
    "print(classification_report(y_val, tree_gb.predict(X_val)))"
   ]
  },
  {
   "cell_type": "markdown",
   "id": "8a0334ed",
   "metadata": {},
   "source": [
    "Feature selection"
   ]
  },
  {
   "cell_type": "code",
   "execution_count": 193,
   "id": "8a9d2c7b",
   "metadata": {},
   "outputs": [
    {
     "name": "stdout",
     "output_type": "stream",
     "text": [
      "Optimum number of features: 16\n",
      "Highest F1 score with 16 features: 0.943165\n",
      "Selected features with 16 features:\n",
      "['age' 'alcohol_freq' 'caloric_freq' 'devices_perday' 'eat_between_meals'\n",
      " 'gender' 'height' 'meals_perday' 'parent_overweight'\n",
      " 'physical_activity_perweek' 'transportation' 'veggies_freq' 'weight'\n",
      " 'bmi_class' 'Water_Intake_per_kg' 'total_activity_score']\n"
     ]
    }
   ],
   "source": [
    "nof_list = np.arange(1, len(X_train.columns))\n",
    "high_score = float('-inf')  # Higher is better for accuracy\n",
    "nof = 0  # Variable to store the optimum features\n",
    "score_list = []\n",
    "\n",
    "# Store the best selected features for display\n",
    "best_features = None\n",
    "\n",
    "for n in range(len(nof_list)):\n",
    "    model = tree_rf\n",
    "    rfe = RFE(model, n_features_to_select=nof_list[n])\n",
    "    X_train_rfe = rfe.fit_transform(X_train, y_train)\n",
    "    X_val_rfe = rfe.transform(X_val)\n",
    "\n",
    "    model.fit(X_train_rfe, y_train)\n",
    "    y_pred = model.predict(X_val_rfe)\n",
    "    \n",
    "    # Use F1 score with 'macro' average for multiclass classification\n",
    "    score = f1_score(y_val, y_pred, average='macro')\n",
    "    score_list.append(score)\n",
    "    \n",
    "    # Check if this number of features gives a better score\n",
    "    if score > high_score:  # Higher is better for accuracy\n",
    "        high_score = score\n",
    "        nof = nof_list[n]\n",
    "        best_features = rfe.get_support()  # Get the mask of selected features\n",
    "\n",
    "# Display the best results\n",
    "print(\"Optimum number of features: %d\" % nof)\n",
    "print(\"Highest F1 score with %d features: %f\" % (nof, high_score))\n",
    "\n",
    "# Convert columns to a numpy array before using the boolean mask\n",
    "selected_feature_names = X_train.columns.to_numpy()[best_features]\n",
    "print(\"Selected features with %d features:\" % nof)\n",
    "print(selected_feature_names)"
   ]
  },
  {
   "cell_type": "markdown",
   "id": "ef8abb5c",
   "metadata": {},
   "source": [
    "### 4.2. Model Optimization\n",
    "\n",
    "After selecting the best algorithm (set of algorithms), you can try to optimize the performance of your model by fiddling with the algorithms' hyper-parameters and select the options that result on the best overall performance.\n",
    "\n",
    "Possible ways of doing this can be through:\n",
    "1. [GridSearch](https://scikit-learn.org/stable/modules/generated/sklearn.model_selection.GridSearchCV.html)\n",
    "2. [RandomSearch](https://scikit-learn.org/stable/modules/generated/sklearn.model_selection.RandomizedSearchCV.html)\n",
    "\n",
    "**While you are not required to show the results of all combinations of hyperparameters that you tried, you should at least discuss the what were the possible combinations used and which of them resulted in your best performance**"
   ]
  },
  {
   "cell_type": "code",
   "execution_count": null,
   "id": "b39522a0",
   "metadata": {},
   "outputs": [
    {
     "name": "stderr",
     "output_type": "stream",
     "text": [
      "[I 2024-10-29 15:18:41,531] A new study created in memory with name: no-name-f1462281-ba36-41da-9395-93ab8270a0a6\n"
     ]
    },
    {
     "name": "stderr",
     "output_type": "stream",
     "text": [
      "[I 2024-10-29 15:18:49,575] Trial 0 finished with value: 0.9330322948976159 and parameters: {'n_estimators': 261, 'max_depth': 10, 'min_samples_split': 7, 'min_samples_leaf': 1, 'bootstrap': False}. Best is trial 0 with value: 0.9330322948976159.\n",
      "[I 2024-10-29 15:18:54,821] Trial 1 finished with value: 0.9389028948768461 and parameters: {'n_estimators': 307, 'max_depth': None, 'min_samples_split': 6, 'min_samples_leaf': 1, 'bootstrap': False}. Best is trial 1 with value: 0.9389028948768461.\n",
      "[I 2024-10-29 15:18:59,489] Trial 2 finished with value: 0.928104531936126 and parameters: {'n_estimators': 249, 'max_depth': 30, 'min_samples_split': 6, 'min_samples_leaf': 3, 'bootstrap': True}. Best is trial 1 with value: 0.9389028948768461.\n",
      "[I 2024-10-29 15:19:01,486] Trial 3 finished with value: 0.9307449613283236 and parameters: {'n_estimators': 452, 'max_depth': 50, 'min_samples_split': 7, 'min_samples_leaf': 4, 'bootstrap': False}. Best is trial 1 with value: 0.9389028948768461.\n",
      "[I 2024-10-29 15:19:03,503] Trial 4 finished with value: 0.9317782162555954 and parameters: {'n_estimators': 430, 'max_depth': 10, 'min_samples_split': 3, 'min_samples_leaf': 2, 'bootstrap': False}. Best is trial 1 with value: 0.9389028948768461.\n",
      "[I 2024-10-29 15:19:05,599] Trial 5 finished with value: 0.9282216899274172 and parameters: {'n_estimators': 400, 'max_depth': None, 'min_samples_split': 6, 'min_samples_leaf': 2, 'bootstrap': True}. Best is trial 1 with value: 0.9389028948768461.\n",
      "[I 2024-10-29 15:19:06,711] Trial 6 finished with value: 0.9288414177208036 and parameters: {'n_estimators': 214, 'max_depth': 50, 'min_samples_split': 7, 'min_samples_leaf': 3, 'bootstrap': True}. Best is trial 1 with value: 0.9389028948768461.\n",
      "[I 2024-10-29 15:19:07,283] Trial 7 finished with value: 0.9105424657085903 and parameters: {'n_estimators': 102, 'max_depth': None, 'min_samples_split': 8, 'min_samples_leaf': 5, 'bootstrap': True}. Best is trial 1 with value: 0.9389028948768461.\n",
      "[I 2024-10-29 15:19:08,945] Trial 8 finished with value: 0.9306696057935419 and parameters: {'n_estimators': 374, 'max_depth': 10, 'min_samples_split': 5, 'min_samples_leaf': 3, 'bootstrap': False}. Best is trial 1 with value: 0.9389028948768461.\n",
      "[I 2024-10-29 15:19:10,190] Trial 9 finished with value: 0.9298349451805633 and parameters: {'n_estimators': 205, 'max_depth': 10, 'min_samples_split': 6, 'min_samples_leaf': 2, 'bootstrap': True}. Best is trial 1 with value: 0.9389028948768461.\n",
      "[I 2024-10-29 15:19:11,778] Trial 10 finished with value: 0.939291879570245 and parameters: {'n_estimators': 335, 'max_depth': None, 'min_samples_split': 10, 'min_samples_leaf': 1, 'bootstrap': False}. Best is trial 10 with value: 0.939291879570245.\n",
      "[I 2024-10-29 15:19:13,276] Trial 11 finished with value: 0.939291879570245 and parameters: {'n_estimators': 326, 'max_depth': None, 'min_samples_split': 10, 'min_samples_leaf': 1, 'bootstrap': False}. Best is trial 10 with value: 0.939291879570245.\n",
      "[I 2024-10-29 15:19:14,846] Trial 12 finished with value: 0.939291879570245 and parameters: {'n_estimators': 337, 'max_depth': None, 'min_samples_split': 10, 'min_samples_leaf': 1, 'bootstrap': False}. Best is trial 10 with value: 0.939291879570245.\n",
      "[I 2024-10-29 15:19:16,576] Trial 13 finished with value: 0.9383331027112443 and parameters: {'n_estimators': 354, 'max_depth': None, 'min_samples_split': 10, 'min_samples_leaf': 1, 'bootstrap': False}. Best is trial 10 with value: 0.939291879570245.\n",
      "[I 2024-10-29 15:19:17,958] Trial 14 finished with value: 0.9362029252176848 and parameters: {'n_estimators': 292, 'max_depth': 30, 'min_samples_split': 9, 'min_samples_leaf': 2, 'bootstrap': False}. Best is trial 10 with value: 0.939291879570245.\n",
      "[I 2024-10-29 15:19:20,243] Trial 15 finished with value: 0.9383195985154007 and parameters: {'n_estimators': 496, 'max_depth': None, 'min_samples_split': 9, 'min_samples_leaf': 1, 'bootstrap': False}. Best is trial 10 with value: 0.939291879570245.\n",
      "[I 2024-10-29 15:19:20,963] Trial 16 finished with value: 0.9305560252814347 and parameters: {'n_estimators': 142, 'max_depth': None, 'min_samples_split': 2, 'min_samples_leaf': 4, 'bootstrap': False}. Best is trial 10 with value: 0.939291879570245.\n",
      "[I 2024-10-29 15:19:22,480] Trial 17 finished with value: 0.9353495544553532 and parameters: {'n_estimators': 318, 'max_depth': None, 'min_samples_split': 9, 'min_samples_leaf': 2, 'bootstrap': False}. Best is trial 10 with value: 0.939291879570245.\n",
      "[I 2024-10-29 15:19:24,258] Trial 18 finished with value: 0.9292079019061484 and parameters: {'n_estimators': 394, 'max_depth': 50, 'min_samples_split': 10, 'min_samples_leaf': 4, 'bootstrap': False}. Best is trial 10 with value: 0.939291879570245.\n",
      "[I 2024-10-29 15:19:25,577] Trial 19 finished with value: 0.9398909154622631 and parameters: {'n_estimators': 254, 'max_depth': 30, 'min_samples_split': 4, 'min_samples_leaf': 1, 'bootstrap': False}. Best is trial 19 with value: 0.9398909154622631.\n",
      "[I 2024-10-29 15:19:26,469] Trial 20 finished with value: 0.9354201835310303 and parameters: {'n_estimators': 170, 'max_depth': 30, 'min_samples_split': 3, 'min_samples_leaf': 2, 'bootstrap': False}. Best is trial 19 with value: 0.9398909154622631.\n",
      "[I 2024-10-29 15:19:27,728] Trial 21 finished with value: 0.9398909154622631 and parameters: {'n_estimators': 269, 'max_depth': 30, 'min_samples_split': 4, 'min_samples_leaf': 1, 'bootstrap': False}. Best is trial 19 with value: 0.9398909154622631.\n",
      "[I 2024-10-29 15:19:29,093] Trial 22 finished with value: 0.940806234648259 and parameters: {'n_estimators': 270, 'max_depth': 30, 'min_samples_split': 4, 'min_samples_leaf': 1, 'bootstrap': False}. Best is trial 22 with value: 0.940806234648259.\n",
      "[I 2024-10-29 15:19:30,493] Trial 23 finished with value: 0.9398909154622631 and parameters: {'n_estimators': 268, 'max_depth': 30, 'min_samples_split': 4, 'min_samples_leaf': 1, 'bootstrap': False}. Best is trial 22 with value: 0.940806234648259.\n",
      "[I 2024-10-29 15:19:31,591] Trial 24 finished with value: 0.938118853510993 and parameters: {'n_estimators': 222, 'max_depth': 30, 'min_samples_split': 4, 'min_samples_leaf': 2, 'bootstrap': False}. Best is trial 22 with value: 0.940806234648259.\n",
      "[I 2024-10-29 15:19:33,014] Trial 25 finished with value: 0.9398909154622631 and parameters: {'n_estimators': 283, 'max_depth': 30, 'min_samples_split': 4, 'min_samples_leaf': 1, 'bootstrap': False}. Best is trial 22 with value: 0.940806234648259.\n",
      "[I 2024-10-29 15:19:34,110] Trial 26 finished with value: 0.9157677695652696 and parameters: {'n_estimators': 182, 'max_depth': 30, 'min_samples_split': 5, 'min_samples_leaf': 5, 'bootstrap': True}. Best is trial 22 with value: 0.940806234648259.\n",
      "[I 2024-10-29 15:19:35,318] Trial 27 finished with value: 0.9305534011266408 and parameters: {'n_estimators': 244, 'max_depth': 30, 'min_samples_split': 2, 'min_samples_leaf': 3, 'bootstrap': False}. Best is trial 22 with value: 0.940806234648259.\n",
      "[I 2024-10-29 15:19:36,573] Trial 28 finished with value: 0.9398904687736754 and parameters: {'n_estimators': 237, 'max_depth': 30, 'min_samples_split': 3, 'min_samples_leaf': 1, 'bootstrap': False}. Best is trial 22 with value: 0.940806234648259.\n",
      "[I 2024-10-29 15:19:37,948] Trial 29 finished with value: 0.9389795036781251 and parameters: {'n_estimators': 270, 'max_depth': 30, 'min_samples_split': 5, 'min_samples_leaf': 2, 'bootstrap': False}. Best is trial 22 with value: 0.940806234648259.\n",
      "[I 2024-10-29 15:19:38,879] Trial 30 finished with value: 0.9374620417646128 and parameters: {'n_estimators': 190, 'max_depth': 30, 'min_samples_split': 4, 'min_samples_leaf': 1, 'bootstrap': False}. Best is trial 22 with value: 0.940806234648259.\n",
      "[I 2024-10-29 15:19:40,272] Trial 31 finished with value: 0.9408206239163797 and parameters: {'n_estimators': 265, 'max_depth': 30, 'min_samples_split': 4, 'min_samples_leaf': 1, 'bootstrap': False}. Best is trial 31 with value: 0.9408206239163797.\n",
      "[I 2024-10-29 15:19:41,797] Trial 32 finished with value: 0.9381153239581133 and parameters: {'n_estimators': 299, 'max_depth': 30, 'min_samples_split': 5, 'min_samples_leaf': 1, 'bootstrap': False}. Best is trial 31 with value: 0.9408206239163797.\n",
      "[I 2024-10-29 15:19:43,101] Trial 33 finished with value: 0.939037768121565 and parameters: {'n_estimators': 258, 'max_depth': 30, 'min_samples_split': 3, 'min_samples_leaf': 1, 'bootstrap': False}. Best is trial 31 with value: 0.9408206239163797.\n",
      "[I 2024-10-29 15:19:44,240] Trial 34 finished with value: 0.9400346856436274 and parameters: {'n_estimators': 236, 'max_depth': 30, 'min_samples_split': 4, 'min_samples_leaf': 1, 'bootstrap': False}. Best is trial 31 with value: 0.9408206239163797.\n",
      "[I 2024-10-29 15:19:45,389] Trial 35 finished with value: 0.9374115847597997 and parameters: {'n_estimators': 231, 'max_depth': 30, 'min_samples_split': 3, 'min_samples_leaf': 2, 'bootstrap': False}. Best is trial 31 with value: 0.9408206239163797.\n",
      "[I 2024-10-29 15:19:46,332] Trial 36 finished with value: 0.9304739658528707 and parameters: {'n_estimators': 161, 'max_depth': 50, 'min_samples_split': 5, 'min_samples_leaf': 1, 'bootstrap': True}. Best is trial 31 with value: 0.9408206239163797.\n",
      "[I 2024-10-29 15:19:47,797] Trial 37 finished with value: 0.9354776191256045 and parameters: {'n_estimators': 301, 'max_depth': 30, 'min_samples_split': 2, 'min_samples_leaf': 2, 'bootstrap': False}. Best is trial 31 with value: 0.9408206239163797.\n",
      "[I 2024-10-29 15:19:48,961] Trial 38 finished with value: 0.929019093906077 and parameters: {'n_estimators': 204, 'max_depth': 10, 'min_samples_split': 6, 'min_samples_leaf': 1, 'bootstrap': True}. Best is trial 31 with value: 0.9408206239163797.\n",
      "[I 2024-10-29 15:19:50,271] Trial 39 finished with value: 0.9392370133531223 and parameters: {'n_estimators': 254, 'max_depth': 30, 'min_samples_split': 4, 'min_samples_leaf': 2, 'bootstrap': False}. Best is trial 31 with value: 0.9408206239163797.\n",
      "[I 2024-10-29 15:19:51,020] Trial 40 finished with value: 0.935128612657314 and parameters: {'n_estimators': 138, 'max_depth': 50, 'min_samples_split': 5, 'min_samples_leaf': 1, 'bootstrap': False}. Best is trial 31 with value: 0.9408206239163797.\n",
      "[I 2024-10-29 15:19:52,467] Trial 41 finished with value: 0.9398909154622631 and parameters: {'n_estimators': 279, 'max_depth': 30, 'min_samples_split': 4, 'min_samples_leaf': 1, 'bootstrap': False}. Best is trial 31 with value: 0.9408206239163797.\n",
      "[I 2024-10-29 15:19:53,630] Trial 42 finished with value: 0.9390998268516256 and parameters: {'n_estimators': 222, 'max_depth': 30, 'min_samples_split': 4, 'min_samples_leaf': 1, 'bootstrap': False}. Best is trial 31 with value: 0.9408206239163797.\n",
      "[I 2024-10-29 15:19:54,884] Trial 43 finished with value: 0.939037768121565 and parameters: {'n_estimators': 250, 'max_depth': 30, 'min_samples_split': 3, 'min_samples_leaf': 1, 'bootstrap': False}. Best is trial 31 with value: 0.9408206239163797.\n",
      "[I 2024-10-29 15:19:56,369] Trial 44 finished with value: 0.9373473946041727 and parameters: {'n_estimators': 305, 'max_depth': 10, 'min_samples_split': 6, 'min_samples_leaf': 1, 'bootstrap': False}. Best is trial 31 with value: 0.9408206239163797.\n",
      "[I 2024-10-29 15:19:57,920] Trial 45 finished with value: 0.9272005003076099 and parameters: {'n_estimators': 271, 'max_depth': 30, 'min_samples_split': 3, 'min_samples_leaf': 3, 'bootstrap': True}. Best is trial 31 with value: 0.9408206239163797.\n",
      "[I 2024-10-29 15:19:59,620] Trial 46 finished with value: 0.935648539884335 and parameters: {'n_estimators': 346, 'max_depth': 30, 'min_samples_split': 7, 'min_samples_leaf': 1, 'bootstrap': False}. Best is trial 31 with value: 0.9408206239163797.\n",
      "[I 2024-10-29 15:20:00,661] Trial 47 finished with value: 0.9379302109136697 and parameters: {'n_estimators': 206, 'max_depth': 30, 'min_samples_split': 5, 'min_samples_leaf': 2, 'bootstrap': False}. Best is trial 31 with value: 0.9408206239163797.\n",
      "[I 2024-10-29 15:20:02,231] Trial 48 finished with value: 0.9351846558749726 and parameters: {'n_estimators': 322, 'max_depth': 10, 'min_samples_split': 4, 'min_samples_leaf': 1, 'bootstrap': False}. Best is trial 31 with value: 0.9408206239163797.\n",
      "[I 2024-10-29 15:20:04,198] Trial 49 finished with value: 0.9279777623845021 and parameters: {'n_estimators': 371, 'max_depth': 30, 'min_samples_split': 6, 'min_samples_leaf': 3, 'bootstrap': True}. Best is trial 31 with value: 0.9408206239163797.\n"
     ]
    },
    {
     "name": "stdout",
     "output_type": "stream",
     "text": [
      "Best Parameters: {'n_estimators': 265, 'max_depth': 30, 'min_samples_split': 4, 'min_samples_leaf': 1, 'bootstrap': False}\n",
      "Train F1 score: 1.0\n",
      "Test F1 score: 0.9332122409990211\n"
     ]
    }
   ],
   "source": [
    "# Initialize the label encoder\n",
    "label_encoder = LabelEncoder()\n",
    "\n",
    "# Fit the encoder on y_train and transform both y_train and y_val\n",
    "y_train_encoded = label_encoder.fit_transform(y_train)\n",
    "y_val_encoded = label_encoder.transform(y_val)\n",
    "\n",
    "# Define the objective function for Optuna\n",
    "def objective(trial):\n",
    "    # Suggest values for hyperparameters\n",
    "    n_estimators = trial.suggest_int('n_estimators', 100, 500)\n",
    "    max_depth = trial.suggest_categorical('max_depth', [10, 30, 50, None])\n",
    "    min_samples_split = trial.suggest_int('min_samples_split', 2, 10)\n",
    "    min_samples_leaf = trial.suggest_int('min_samples_leaf', 1, 5)\n",
    "    bootstrap = trial.suggest_categorical('bootstrap', [True, False])\n",
    "    \n",
    "    # Initialize RandomForestClassifier with suggested hyperparameters\n",
    "    model = RandomForestClassifier(\n",
    "        n_estimators=n_estimators,\n",
    "        max_depth=max_depth,\n",
    "        min_samples_split=min_samples_split,\n",
    "        min_samples_leaf=min_samples_leaf,\n",
    "        bootstrap=bootstrap,\n",
    "        random_state=42\n",
    "    )\n",
    "    \n",
    "    # Use cross-validation with F1 score for classification\n",
    "    f1 = cross_val_score(model, X_train, y_train_encoded, cv=5, scoring='f1_macro', n_jobs=-1)\n",
    "    return f1.mean()\n",
    "\n",
    "# Set up Optuna study and optimize\n",
    "study = optuna.create_study(direction='maximize')\n",
    "study.optimize(objective, n_trials=50)\n",
    "\n",
    "# Retrieve the best parameters\n",
    "best_params = study.best_params\n",
    "print(\"Best Parameters:\", best_params)\n",
    "\n",
    "# Train model with best parameters\n",
    "best_rf = RandomForestClassifier(**best_params, random_state=42)\n",
    "best_rf.fit(X_train, y_train_encoded)\n",
    "\n",
    "# Evaluate on training and validation sets\n",
    "print('Train F1 score:', f1_score(y_train_encoded, best_rf.predict(X_train), average='macro'))\n",
    "print('Test F1 score:', f1_score(y_val_encoded, best_rf.predict(X_val), average='macro'))"
   ]
  },
  {
   "cell_type": "code",
   "execution_count": null,
   "id": "311fb9ad",
   "metadata": {},
   "outputs": [
    {
     "name": "stdout",
     "output_type": "stream",
     "text": [
      "              precision    recall  f1-score   support\n",
      "\n",
      "           0       0.96      0.92      0.94        59\n",
      "           1       0.91      0.88      0.89        66\n",
      "           2       0.90      0.96      0.93        80\n",
      "           3       0.97      0.94      0.96        70\n",
      "           4       0.99      0.97      0.98        72\n",
      "           5       0.90      0.88      0.89        68\n",
      "           6       0.93      0.97      0.95        67\n",
      "\n",
      "    accuracy                           0.93       482\n",
      "   macro avg       0.94      0.93      0.93       482\n",
      "weighted avg       0.93      0.93      0.93       482\n",
      "\n",
      "['Insufficient_Weight' 'Normal_Weight' 'Obesity_Type_I' 'Obesity_Type_II'\n",
      " 'Obesity_Type_III' 'Overweight_Level_I' 'Overweight_Level_II']\n"
     ]
    }
   ],
   "source": [
    "print(classification_report(y_val_encoded, best_rf.predict(X_val)))\n",
    "print(label_encoder.classes_)"
   ]
  },
  {
   "cell_type": "code",
   "execution_count": null,
   "id": "ef98498f",
   "metadata": {},
   "outputs": [
    {
     "data": {
      "text/html": [
       "<div>\n",
       "<style scoped>\n",
       "    .dataframe tbody tr th:only-of-type {\n",
       "        vertical-align: middle;\n",
       "    }\n",
       "\n",
       "    .dataframe tbody tr th {\n",
       "        vertical-align: top;\n",
       "    }\n",
       "\n",
       "    .dataframe thead th {\n",
       "        text-align: right;\n",
       "    }\n",
       "</style>\n",
       "<table border=\"1\" class=\"dataframe\">\n",
       "  <thead>\n",
       "    <tr style=\"text-align: right;\">\n",
       "      <th></th>\n",
       "      <th>importance</th>\n",
       "    </tr>\n",
       "  </thead>\n",
       "  <tbody>\n",
       "    <tr>\n",
       "      <th>weight</th>\n",
       "      <td>0.290096</td>\n",
       "    </tr>\n",
       "    <tr>\n",
       "      <th>bmi_class</th>\n",
       "      <td>0.174018</td>\n",
       "    </tr>\n",
       "    <tr>\n",
       "      <th>age</th>\n",
       "      <td>0.099409</td>\n",
       "    </tr>\n",
       "    <tr>\n",
       "      <th>height</th>\n",
       "      <td>0.084612</td>\n",
       "    </tr>\n",
       "    <tr>\n",
       "      <th>gender</th>\n",
       "      <td>0.074048</td>\n",
       "    </tr>\n",
       "    <tr>\n",
       "      <th>veggies_freq</th>\n",
       "      <td>0.043235</td>\n",
       "    </tr>\n",
       "    <tr>\n",
       "      <th>alcohol_freq</th>\n",
       "      <td>0.037146</td>\n",
       "    </tr>\n",
       "    <tr>\n",
       "      <th>meals_perday</th>\n",
       "      <td>0.032889</td>\n",
       "    </tr>\n",
       "    <tr>\n",
       "      <th>eat_between_meals</th>\n",
       "      <td>0.027859</td>\n",
       "    </tr>\n",
       "    <tr>\n",
       "      <th>parent_overweight</th>\n",
       "      <td>0.026884</td>\n",
       "    </tr>\n",
       "    <tr>\n",
       "      <th>physical_activity_perweek</th>\n",
       "      <td>0.021976</td>\n",
       "    </tr>\n",
       "    <tr>\n",
       "      <th>transportation</th>\n",
       "      <td>0.020437</td>\n",
       "    </tr>\n",
       "    <tr>\n",
       "      <th>devices_perday</th>\n",
       "      <td>0.019624</td>\n",
       "    </tr>\n",
       "    <tr>\n",
       "      <th>caloric_freq</th>\n",
       "      <td>0.018214</td>\n",
       "    </tr>\n",
       "    <tr>\n",
       "      <th>water_daily</th>\n",
       "      <td>0.014147</td>\n",
       "    </tr>\n",
       "    <tr>\n",
       "      <th>siblings</th>\n",
       "      <td>0.008304</td>\n",
       "    </tr>\n",
       "    <tr>\n",
       "      <th>monitor_calories</th>\n",
       "      <td>0.005532</td>\n",
       "    </tr>\n",
       "    <tr>\n",
       "      <th>smoke</th>\n",
       "      <td>0.001568</td>\n",
       "    </tr>\n",
       "  </tbody>\n",
       "</table>\n",
       "</div>"
      ],
      "text/plain": [
       "                           importance\n",
       "weight                       0.290096\n",
       "bmi_class                    0.174018\n",
       "age                          0.099409\n",
       "height                       0.084612\n",
       "gender                       0.074048\n",
       "veggies_freq                 0.043235\n",
       "alcohol_freq                 0.037146\n",
       "meals_perday                 0.032889\n",
       "eat_between_meals            0.027859\n",
       "parent_overweight            0.026884\n",
       "physical_activity_perweek    0.021976\n",
       "transportation               0.020437\n",
       "devices_perday               0.019624\n",
       "caloric_freq                 0.018214\n",
       "water_daily                  0.014147\n",
       "siblings                     0.008304\n",
       "monitor_calories             0.005532\n",
       "smoke                        0.001568"
      ]
     },
     "execution_count": 241,
     "metadata": {},
     "output_type": "execute_result"
    }
   ],
   "source": [
    "importances = best_rf.feature_importances_\n",
    "\n",
    "importances_df = pd.DataFrame(importances, index=X_train.columns, columns=['importance'])\n",
    "importances_df = importances_df.sort_values('importance', ascending=False)\n",
    "importances_df"
   ]
  },
  {
   "cell_type": "code",
   "execution_count": 197,
   "id": "df3a772f",
   "metadata": {},
   "outputs": [
    {
     "data": {
      "text/plain": [
       "'\\nfrom sklearn.model_selection import GridSearchCV\\n\\nparam_grid = {\\n    \\'n_estimators\\': [100, 200, 500],             # More values to capture varying complexities\\n    \\'max_depth\\': [5, 10, 20, 30],                     # None allows the trees to grow until all leaves are pure or until they contain less than min_samples_split samples\\n    \\'min_samples_split\\': [1, 2, 3,5],              # Common choices for preventing overfitting\\n    \\'min_samples_leaf\\': [1, 2, 4],               # Larger values help with regularization\\n    \\'bootstrap\\': [True, False]                   # Testing both bootstrapped samples and using the entire dataset\\n}\\n# Initialize the GridSearchCV with the RandomForestRegressor and the parameter grid with 5-fold cross validation for better overfitting understanding and more robust validation score\\ngrid_search = GridSearchCV(estimator=tree_rf, param_grid=param_grid, cv=5, n_jobs=-1, scoring=\\'f1_macro\\', verbose=2)\\n\\ngrid_search.fit(X_train, y_train) \\n\\n# Get the best parameters and the best estimator\\nbest_params = grid_search.best_params_\\nbest_rf = grid_search.best_estimator_\\n\\nprint(\"Best Parameters:\", best_params)\\n\\n# Evaluate the best model on the test set\\nprint(\\'train error: \\', f1_score(y_train, best_rf.predict(X_train)))\\nprint(\\'test error: \\', f1_score(y_val, best_rf.predict(X_val)))\\n'"
      ]
     },
     "execution_count": 197,
     "metadata": {},
     "output_type": "execute_result"
    }
   ],
   "source": [
    "'''\n",
    "from sklearn.model_selection import GridSearchCV\n",
    "\n",
    "param_grid = {\n",
    "    'n_estimators': [100, 200, 500],             # More values to capture varying complexities\n",
    "    'max_depth': [5, 10, 20, 30],                     # None allows the trees to grow until all leaves are pure or until they contain less than min_samples_split samples\n",
    "    'min_samples_split': [1, 2, 3,5],              # Common choices for preventing overfitting\n",
    "    'min_samples_leaf': [1, 2, 4],               # Larger values help with regularization\n",
    "    'bootstrap': [True, False]                   # Testing both bootstrapped samples and using the entire dataset\n",
    "}\n",
    "# Initialize the GridSearchCV with the RandomForestRegressor and the parameter grid with 5-fold cross validation for better overfitting understanding and more robust validation score\n",
    "grid_search = GridSearchCV(estimator=tree_rf, param_grid=param_grid, cv=5, n_jobs=-1, scoring='f1_macro', verbose=2)\n",
    "\n",
    "grid_search.fit(X_train, y_train) \n",
    "\n",
    "# Get the best parameters and the best estimator\n",
    "best_params = grid_search.best_params_\n",
    "best_rf = grid_search.best_estimator_\n",
    "\n",
    "print(\"Best Parameters:\", best_params)\n",
    "\n",
    "# Evaluate the best model on the test set\n",
    "print('train error: ', f1_score(y_train, best_rf.predict(X_train)))\n",
    "print('test error: ', f1_score(y_val, best_rf.predict(X_val)))\n",
    "'''"
   ]
  },
  {
   "cell_type": "markdown",
   "id": "f08f9c24",
   "metadata": {
    "id": "f08f9c24"
   },
   "source": [
    "### 4.2. Model Optimization\n",
    "\n",
    "After selecting the best algorithm (set of algorithms), you can try to optimize the performance of your model by fiddling with the algorithms' hyper-parameters and select the options that result on the best overall performance.\n",
    "\n",
    "Possible ways of doing this can be through:\n",
    "1. [GridSearch](https://scikit-learn.org/stable/modules/generated/sklearn.model_selection.GridSearchCV.html)\n",
    "2. [RandomSearch](https://scikit-learn.org/stable/modules/generated/sklearn.model_selection.RandomizedSearchCV.html)\n",
    "\n",
    "**While you are not required to show the results of all combinations of hyperparameters that you tried, you should at least discuss the what were the possible combinations used and which of them resulted in your best performance**"
   ]
  },
  {
   "cell_type": "code",
   "execution_count": null,
   "id": "387961a5",
   "metadata": {
    "id": "387961a5",
    "scrolled": true
   },
   "outputs": [],
   "source": []
  },
  {
   "cell_type": "markdown",
   "id": "ebfaed02",
   "metadata": {
    "id": "ebfaed02"
   },
   "source": [
    "<a class=\"anchor\" id=\"\">\n",
    "\n",
    "# 5. Deploy\n",
    "\n",
    "</a>"
   ]
  },
  {
   "cell_type": "markdown",
   "id": "dc24677b",
   "metadata": {
    "id": "dc24677b"
   },
   "source": [
    "<img src=\"image/step5.png\" style=\"height:60px\">\n",
    "\n",
    "### 5.0 Training a final model\n",
    "\n",
    "You used the previous steps of modelling and assessment to determine what would be best strategies when it comes to preprocessing, scaling, feature selection, algorithm and hyper-parameters you could find.\n",
    "\n",
    "**By this stage, all of those choices were already made**. For that reason, a split between training and validation is no longer necessary. **A good practice** would be to take the initial data and train a final model with all of the labeled data that you have available.\n",
    "\n",
    "**Everything is figured by this stage**, so, on a first level all you need to do is replicate the exact preprocessing, scaling and feature selection decisions you made before.<br>\n",
    "When it comes to the final model, all you have to do is creeate a new instance of your best algorithm with the best parameters that you uncovered (no need to try all algorithms and hyper-parameters again)."
   ]
  },
  {
   "cell_type": "code",
   "execution_count": null,
   "id": "191ebbfc",
   "metadata": {
    "id": "191ebbfc"
   },
   "outputs": [],
   "source": []
  },
  {
   "cell_type": "markdown",
   "id": "f38b4acc",
   "metadata": {
    "id": "f38b4acc"
   },
   "source": [
    "### 5.1. Import and Transform your test data\n",
    "\n",
    "Remember, the test data does not have the `outcome` variable."
   ]
  },
  {
   "cell_type": "code",
   "execution_count": null,
   "id": "4dbf433a",
   "metadata": {
    "id": "4dbf433a"
   },
   "outputs": [],
   "source": []
  },
  {
   "cell_type": "markdown",
   "id": "30624f3a",
   "metadata": {
    "id": "30624f3a"
   },
   "source": [
    "### 5.2. Obtain Predictions on the test data from your final model"
   ]
  },
  {
   "cell_type": "code",
   "execution_count": null,
   "id": "6abdf5b3",
   "metadata": {
    "id": "6abdf5b3",
    "scrolled": true
   },
   "outputs": [],
   "source": []
  },
  {
   "cell_type": "markdown",
   "id": "27d4b2b2",
   "metadata": {
    "id": "27d4b2b2"
   },
   "source": [
    "### 5.3. Create a Dataframe containing the index of each row and its intended prediction and export it to a csv file"
   ]
  },
  {
   "cell_type": "code",
   "execution_count": null,
   "id": "208c3404",
   "metadata": {
    "id": "208c3404"
   },
   "outputs": [],
   "source": []
  },
  {
   "cell_type": "markdown",
   "id": "95e385c2",
   "metadata": {
    "id": "95e385c2"
   },
   "source": [
    "Submit the csv file to Kaggle to obtain the model performance of your model on the test data."
   ]
  }
 ],
 "metadata": {
  "colab": {
   "provenance": []
  },
  "kernelspec": {
   "display_name": "IMS_ML",
   "language": "python",
   "name": "python3"
  },
  "language_info": {
   "codemirror_mode": {
    "name": "ipython",
    "version": 3
   },
   "file_extension": ".py",
   "mimetype": "text/x-python",
   "name": "python",
   "nbconvert_exporter": "python",
   "pygments_lexer": "ipython3",
   "version": "3.12.5"
  },
  "varInspector": {
   "cols": {
    "lenName": 16,
    "lenType": 16,
    "lenVar": 40
   },
   "kernels_config": {
    "python": {
     "delete_cmd_postfix": "",
     "delete_cmd_prefix": "del ",
     "library": "var_list.py",
     "varRefreshCmd": "print(var_dic_list())"
    },
    "r": {
     "delete_cmd_postfix": ") ",
     "delete_cmd_prefix": "rm(",
     "library": "var_list.r",
     "varRefreshCmd": "cat(var_dic_list()) "
    }
   },
   "types_to_exclude": [
    "module",
    "function",
    "builtin_function_or_method",
    "instance",
    "_Feature"
   ],
   "window_display": false
  }
 },
 "nbformat": 4,
 "nbformat_minor": 5
}
