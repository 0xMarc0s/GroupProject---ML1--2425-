{
 "cells": [
  {
   "cell_type": "markdown",
   "metadata": {},
   "source": [
    "# Manual Preprocessing"
   ]
  },
  {
   "cell_type": "code",
   "execution_count": 1,
   "metadata": {},
   "outputs": [],
   "source": [
    "from sklearn.experimental import enable_iterative_imputer\n",
    "from sklearn.preprocessing import StandardScaler, RobustScaler, MinMaxScaler, OneHotEncoder, OrdinalEncoder\n",
    "from sklearn.impute import SimpleImputer, KNNImputer, IterativeImputer\n",
    "import pandas as pd\n",
    "import numpy as np\n",
    "from sklearn.linear_model import LinearRegression\n",
    "from sklearn.linear_model import LogisticRegression\n",
    "from sklearn.neighbors import KNeighborsClassifier\n",
    "from sklearn.ensemble import RandomForestClassifier\n",
    "from sklearn.tree import DecisionTreeClassifier\n",
    "from sklearn.naive_bayes import CategoricalNB, MultinomialNB, GaussianNB\n",
    "from sklearn.model_selection import RepeatedKFold, cross_val_score\n",
    "from sklearn.metrics import classification_report\n"
   ]
  },
  {
   "cell_type": "code",
   "execution_count": 2,
   "metadata": {},
   "outputs": [],
   "source": [
    "df_train = pd.read_csv(\"../our data/no_outliers.csv\")\n",
    "df_test = pd.read_csv(\"../data/obesity_test.csv\")\n",
    "\n",
    "df_test = df_test.drop(columns=[\"region\", \"marrital_status\"])\n",
    "\n",
    "# Scale and KNN-impute data\n",
    "scalers = {} # Preserve scalers for antitransformation\n",
    "\n",
    "columns = ['age', 'height', 'weight']\n",
    "scaler = StandardScaler()\n",
    "imputer = KNNImputer(n_neighbors=5, weights='uniform')\n",
    "\n",
    "df_train[columns] = scaler.fit_transform(df_train[columns])\n",
    "df_test[columns] = scaler.transform(df_test[columns])\n",
    "\n",
    "\n",
    "# Impute\n",
    "df_train[columns] = imputer.fit_transform(df_train[columns])\n",
    "df_test[columns] = imputer.transform(df_test[columns])\n",
    "\n",
    "# Transform back \n",
    "df_train[columns] = scaler.inverse_transform(df_train[columns])\n",
    "df_test[columns] = scaler.inverse_transform(df_test[columns])\n",
    "    \n"
   ]
  },
  {
   "cell_type": "code",
   "execution_count": 3,
   "metadata": {},
   "outputs": [],
   "source": [
    "def classify_bmi_comprehensive(row):\n",
    "    \"\"\"\n",
    "    Classify BMI based on age and BMI value.\n",
    "\n",
    "    Input:\n",
    "    row: A Pandas row with 'weight', 'height', and 'age' columns.\n",
    "\n",
    "    Output:\n",
    "    Returns a string that classifies the individual into BMI categories.\n",
    "    \"\"\"\n",
    "    # Check if weight and height are valid\n",
    "    if row['height'] <= 0 or row['weight'] <= 0:\n",
    "        return 'Invalid data'\n",
    "\n",
    "    # Calculate BMI\n",
    "    bmi = row['weight'] / (row['height'] ** 2)\n",
    "\n",
    "    # Age group: Children (2-19 years)\n",
    "    if 2 <= row['age'] < 20:\n",
    "        if bmi < 14:\n",
    "            return 0 # Underweight\n",
    "        elif 14 <= bmi < 18:\n",
    "            return 1 # Normal weight\n",
    "        elif 18 <= bmi < 21:\n",
    "            return 2 # Overweight\n",
    "        else:\n",
    "            return 3 # Obesity 1\n",
    "\n",
    "    # Age group: Adults (20-64 years)\n",
    "    elif 20 <= row['age'] < 65:\n",
    "        if bmi < 18.5:\n",
    "            return 0 # \"Underweight\"\n",
    "        elif 18.5 <= bmi < 25:\n",
    "            return 1 # \"Healthy Weight\"\n",
    "        elif 25 <= bmi < 30:\n",
    "            return 2 #\"Overweight\"\n",
    "        elif 30<= bmi < 35:\n",
    "            return 3 #\"Obese Class 1\"\n",
    "        elif 35 <= bmi < 40:\n",
    "            return 4 #\"Obese Class 2\"\n",
    "        else:\n",
    "            return 5 #\"Obese Class 3\""
   ]
  },
  {
   "cell_type": "code",
   "execution_count": 4,
   "metadata": {},
   "outputs": [],
   "source": [
    "# Add BMI\n",
    "df_train['bmi_class'] = df_train.apply(lambda row: classify_bmi_comprehensive(row), axis=1)\n",
    "df_test['bmi_class'] = df_test.apply(lambda row: classify_bmi_comprehensive(row), axis=1)"
   ]
  },
  {
   "cell_type": "code",
   "execution_count": 5,
   "metadata": {},
   "outputs": [
    {
     "data": {
      "text/plain": [
       "0        5 or more\n",
       "1      No Activity\n",
       "2           1 to 2\n",
       "3           1 to 2\n",
       "4           3 to 4\n",
       "          ...     \n",
       "495    No Activity\n",
       "496    No Activity\n",
       "497    No Activity\n",
       "498    No Activity\n",
       "499         3 to 4\n",
       "Name: physical_activity_perweek, Length: 500, dtype: object"
      ]
     },
     "execution_count": 5,
     "metadata": {},
     "output_type": "execute_result"
    }
   ],
   "source": [
    "# Fill missing activity with zero\n",
    "df_train['physical_activity_perweek'].fillna('No Activity')\n",
    "df_test['physical_activity_perweek'].fillna('No Activity')\n"
   ]
  },
  {
   "cell_type": "code",
   "execution_count": 6,
   "metadata": {},
   "outputs": [],
   "source": [
    "hashmap = {\n",
    "\"Never\": 0,\n",
    "\"Sometimes\": 1,\n",
    "\"Frequently\": 2,\n",
    "\"Always\": 3,\n",
    "\n",
    "\"No Activity\": 0,\n",
    "\"up to 2\": 1,\n",
    "\"up to 5\": 2,\n",
    "\"more than 5\": 3,\n",
    "\n",
    "\"less than 1\": 1,\n",
    "\"1 to 2\": 2,\n",
    "\"more than 2\": 3,\n",
    "\"3 to 4\": 4,\n",
    "\"5 or more\": 5,\n",
    "\n",
    "\"Bicycle\": 1,\n",
    "\"Car\": 4,\n",
    "\"Motorbike\": 3,\n",
    "\"Public\": 2,\n",
    "\"Walk\": 0,\n",
    "\n",
    "\"no\": 0,\n",
    "\"yes\": 1,\n",
    "\n",
    "\"Male\": 0,\n",
    "\"Female\": 1\n",
    "}\n"
   ]
  },
  {
   "cell_type": "code",
   "execution_count": 7,
   "metadata": {},
   "outputs": [
    {
     "name": "stderr",
     "output_type": "stream",
     "text": [
      "C:\\Users\\ACER\\AppData\\Local\\Temp\\ipykernel_24172\\722892098.py:20: FutureWarning: Downcasting behavior in `replace` is deprecated and will be removed in a future version. To retain the old behavior, explicitly call `result.infer_objects(copy=False)`. To opt-in to the future behavior, set `pd.set_option('future.no_silent_downcasting', True)`\n",
      "  df_train[target] = df_train[target].replace(hashmap)\n",
      "C:\\Users\\ACER\\AppData\\Local\\Temp\\ipykernel_24172\\722892098.py:21: FutureWarning: Downcasting behavior in `replace` is deprecated and will be removed in a future version. To retain the old behavior, explicitly call `result.infer_objects(copy=False)`. To opt-in to the future behavior, set `pd.set_option('future.no_silent_downcasting', True)`\n",
      "  df_test[target]= df_test[target].replace(hashmap)\n"
     ]
    }
   ],
   "source": [
    "# Manually encode data\n",
    "\n",
    "columns = ['alcohol_freq',\n",
    " 'caloric_freq',\n",
    " 'devices_perday',\n",
    " 'eat_between_meals',\n",
    " 'gender',\n",
    " 'monitor_calories',\n",
    " 'parent_overweight',\n",
    " 'physical_activity_perweek',\n",
    " 'smoke',\n",
    " 'transportation',\n",
    " 'veggies_freq',\n",
    " 'water_daily',\n",
    " 'bmi_class',\n",
    " 'meals_perday',\n",
    " \"siblings\"]\n",
    "\n",
    "for target in columns:\n",
    "    df_train[target] = df_train[target].replace(hashmap)\n",
    "    df_test[target]= df_test[target].replace(hashmap)\n"
   ]
  },
  {
   "cell_type": "code",
   "execution_count": null,
   "metadata": {},
   "outputs": [],
   "source": [
    "# Fill rest with KNN or smt else\n",
    "\n",
    "# Scale numerical (again) and KNN-impute data\n",
    "\n",
    "#columnsx = ['age', 'height', 'weight']\n",
    "#scaler = StandardScaler()\n",
    "imputer = RandomForestClassifier()\n",
    "imputer = IterativeImputer(imputer)\n",
    "\n",
    "#df_train[columnsx] = scaler.fit_transform(df_train[columnsx])\n",
    "#df_test[columnsx] = scaler.transform(df_test[columnsx])\n",
    "\n",
    "df_train[columns] = imputer.fit_transform(df_train[columns])\n",
    "df_test[columns] = imputer.transform(df_test[columns])"
   ]
  },
  {
   "cell_type": "code",
   "execution_count": 9,
   "metadata": {},
   "outputs": [],
   "source": [
    "# Transform to life score\n",
    "life_columns = [\n",
    " 'alcohol_freq',\n",
    " 'caloric_freq',\n",
    " 'devices_perday',\n",
    " 'eat_between_meals',\n",
    " 'monitor_calories',\n",
    " 'physical_activity_perweek',\n",
    " 'smoke',\n",
    " 'transportation',\n",
    " 'veggies_freq',\n",
    " 'water_daily',\n",
    " ]\n",
    "\n",
    "df_train[\"life\"] = 0\n",
    "df_test[\"life\"] = 0\n",
    "\n",
    "for column in life_columns:\n",
    "    df_train[\"life\"] += df_train[column]\n",
    "    df_test[\"life\"] += df_test[column]\n",
    "\n",
    "    df_train = df_train.drop(columns=[column])\n",
    "    df_test = df_test.drop(columns=[column])\n"
   ]
  },
  {
   "cell_type": "markdown",
   "metadata": {},
   "source": [
    "# Model testing"
   ]
  },
  {
   "cell_type": "code",
   "execution_count": 10,
   "metadata": {},
   "outputs": [],
   "source": [
    "X = df_train.drop(columns='obese_level')\n",
    "y = df_train['obese_level']"
   ]
  },
  {
   "cell_type": "code",
   "execution_count": 11,
   "metadata": {},
   "outputs": [
    {
     "data": {
      "text/html": [
       "<div>\n",
       "<style scoped>\n",
       "    .dataframe tbody tr th:only-of-type {\n",
       "        vertical-align: middle;\n",
       "    }\n",
       "\n",
       "    .dataframe tbody tr th {\n",
       "        vertical-align: top;\n",
       "    }\n",
       "\n",
       "    .dataframe thead th {\n",
       "        text-align: right;\n",
       "    }\n",
       "</style>\n",
       "<table border=\"1\" class=\"dataframe\">\n",
       "  <thead>\n",
       "    <tr style=\"text-align: right;\">\n",
       "      <th></th>\n",
       "      <th>age</th>\n",
       "      <th>gender</th>\n",
       "      <th>height</th>\n",
       "      <th>meals_perday</th>\n",
       "      <th>parent_overweight</th>\n",
       "      <th>siblings</th>\n",
       "      <th>weight</th>\n",
       "      <th>bmi_class</th>\n",
       "      <th>life</th>\n",
       "    </tr>\n",
       "  </thead>\n",
       "  <tbody>\n",
       "    <tr>\n",
       "      <th>0</th>\n",
       "      <td>21.0</td>\n",
       "      <td>1.0</td>\n",
       "      <td>1.62</td>\n",
       "      <td>3.0</td>\n",
       "      <td>1.0</td>\n",
       "      <td>3.0</td>\n",
       "      <td>64.0</td>\n",
       "      <td>1.0</td>\n",
       "      <td>12.0</td>\n",
       "    </tr>\n",
       "    <tr>\n",
       "      <th>1</th>\n",
       "      <td>23.0</td>\n",
       "      <td>0.0</td>\n",
       "      <td>1.80</td>\n",
       "      <td>3.0</td>\n",
       "      <td>1.0</td>\n",
       "      <td>0.0</td>\n",
       "      <td>77.0</td>\n",
       "      <td>1.0</td>\n",
       "      <td>14.0</td>\n",
       "    </tr>\n",
       "    <tr>\n",
       "      <th>2</th>\n",
       "      <td>20.6</td>\n",
       "      <td>0.0</td>\n",
       "      <td>1.80</td>\n",
       "      <td>3.0</td>\n",
       "      <td>0.0</td>\n",
       "      <td>2.0</td>\n",
       "      <td>87.0</td>\n",
       "      <td>2.0</td>\n",
       "      <td>13.0</td>\n",
       "    </tr>\n",
       "    <tr>\n",
       "      <th>3</th>\n",
       "      <td>22.0</td>\n",
       "      <td>0.0</td>\n",
       "      <td>1.78</td>\n",
       "      <td>1.0</td>\n",
       "      <td>0.0</td>\n",
       "      <td>3.0</td>\n",
       "      <td>90.0</td>\n",
       "      <td>2.0</td>\n",
       "      <td>13.0</td>\n",
       "    </tr>\n",
       "    <tr>\n",
       "      <th>4</th>\n",
       "      <td>22.0</td>\n",
       "      <td>0.0</td>\n",
       "      <td>1.64</td>\n",
       "      <td>3.0</td>\n",
       "      <td>0.0</td>\n",
       "      <td>3.0</td>\n",
       "      <td>53.0</td>\n",
       "      <td>1.0</td>\n",
       "      <td>13.0</td>\n",
       "    </tr>\n",
       "    <tr>\n",
       "      <th>...</th>\n",
       "      <td>...</td>\n",
       "      <td>...</td>\n",
       "      <td>...</td>\n",
       "      <td>...</td>\n",
       "      <td>...</td>\n",
       "      <td>...</td>\n",
       "      <td>...</td>\n",
       "      <td>...</td>\n",
       "      <td>...</td>\n",
       "    </tr>\n",
       "    <tr>\n",
       "      <th>1598</th>\n",
       "      <td>21.0</td>\n",
       "      <td>1.0</td>\n",
       "      <td>1.73</td>\n",
       "      <td>3.0</td>\n",
       "      <td>1.0</td>\n",
       "      <td>1.0</td>\n",
       "      <td>131.0</td>\n",
       "      <td>5.0</td>\n",
       "      <td>16.0</td>\n",
       "    </tr>\n",
       "    <tr>\n",
       "      <th>1599</th>\n",
       "      <td>22.0</td>\n",
       "      <td>1.0</td>\n",
       "      <td>1.75</td>\n",
       "      <td>3.0</td>\n",
       "      <td>1.0</td>\n",
       "      <td>0.0</td>\n",
       "      <td>134.0</td>\n",
       "      <td>5.0</td>\n",
       "      <td>14.0</td>\n",
       "    </tr>\n",
       "    <tr>\n",
       "      <th>1600</th>\n",
       "      <td>23.0</td>\n",
       "      <td>1.0</td>\n",
       "      <td>1.75</td>\n",
       "      <td>3.0</td>\n",
       "      <td>1.0</td>\n",
       "      <td>0.0</td>\n",
       "      <td>134.0</td>\n",
       "      <td>5.0</td>\n",
       "      <td>14.0</td>\n",
       "    </tr>\n",
       "    <tr>\n",
       "      <th>1601</th>\n",
       "      <td>24.0</td>\n",
       "      <td>1.0</td>\n",
       "      <td>1.74</td>\n",
       "      <td>3.0</td>\n",
       "      <td>1.0</td>\n",
       "      <td>0.0</td>\n",
       "      <td>133.0</td>\n",
       "      <td>5.0</td>\n",
       "      <td>15.0</td>\n",
       "    </tr>\n",
       "    <tr>\n",
       "      <th>1602</th>\n",
       "      <td>24.0</td>\n",
       "      <td>1.0</td>\n",
       "      <td>1.74</td>\n",
       "      <td>3.0</td>\n",
       "      <td>1.0</td>\n",
       "      <td>0.0</td>\n",
       "      <td>133.0</td>\n",
       "      <td>5.0</td>\n",
       "      <td>15.0</td>\n",
       "    </tr>\n",
       "  </tbody>\n",
       "</table>\n",
       "<p>1603 rows × 9 columns</p>\n",
       "</div>"
      ],
      "text/plain": [
       "       age  gender  height  meals_perday  parent_overweight  siblings  weight  \\\n",
       "0     21.0     1.0    1.62           3.0                1.0       3.0    64.0   \n",
       "1     23.0     0.0    1.80           3.0                1.0       0.0    77.0   \n",
       "2     20.6     0.0    1.80           3.0                0.0       2.0    87.0   \n",
       "3     22.0     0.0    1.78           1.0                0.0       3.0    90.0   \n",
       "4     22.0     0.0    1.64           3.0                0.0       3.0    53.0   \n",
       "...    ...     ...     ...           ...                ...       ...     ...   \n",
       "1598  21.0     1.0    1.73           3.0                1.0       1.0   131.0   \n",
       "1599  22.0     1.0    1.75           3.0                1.0       0.0   134.0   \n",
       "1600  23.0     1.0    1.75           3.0                1.0       0.0   134.0   \n",
       "1601  24.0     1.0    1.74           3.0                1.0       0.0   133.0   \n",
       "1602  24.0     1.0    1.74           3.0                1.0       0.0   133.0   \n",
       "\n",
       "      bmi_class  life  \n",
       "0           1.0  12.0  \n",
       "1           1.0  14.0  \n",
       "2           2.0  13.0  \n",
       "3           2.0  13.0  \n",
       "4           1.0  13.0  \n",
       "...         ...   ...  \n",
       "1598        5.0  16.0  \n",
       "1599        5.0  14.0  \n",
       "1600        5.0  14.0  \n",
       "1601        5.0  15.0  \n",
       "1602        5.0  15.0  \n",
       "\n",
       "[1603 rows x 9 columns]"
      ]
     },
     "execution_count": 11,
     "metadata": {},
     "output_type": "execute_result"
    }
   ],
   "source": [
    "X = X.iloc[:, 1:]\n",
    "X"
   ]
  },
  {
   "cell_type": "code",
   "execution_count": 12,
   "metadata": {},
   "outputs": [],
   "source": [
    "# set up rkf\n",
    "\n",
    "def run(model, X, y):\n",
    "    my_model = model\n",
    "    rkf = RepeatedKFold(n_splits=5)\n",
    "\n",
    "    scores_train = []\n",
    "    scores_val = []\n",
    "\n",
    "    for (train_index, test_index) in rkf.split(X, y):\n",
    "        X_train = X.iloc[train_index]\n",
    "        X_test = X.iloc[test_index]\n",
    "        y_train = y.iloc[train_index]\n",
    "        y_test = y.iloc[test_index]\n",
    "\n",
    "        my_model.fit(X_train, y_train)\n",
    "\n",
    "        report1 = classification_report(y_test, y_hat:=my_model.predict(X_test), output_dict=True)\n",
    "        report2 = classification_report(y_train, y_hat:=my_model.predict(X_train), output_dict=True)\n",
    "\n",
    "        scores_val.append(report1[\"macro avg\"][\"f1-score\"])\n",
    "        scores_train.append(report2[\"macro avg\"][\"f1-score\"])\n",
    "\n",
    "    return np.array(scores_train).mean(), np.array(scores_val).mean()\n",
    "\n",
    "        "
   ]
  },
  {
   "cell_type": "code",
   "execution_count": 13,
   "metadata": {},
   "outputs": [
    {
     "data": {
      "text/plain": [
       "(1.0, 0.9353943793875069)"
      ]
     },
     "execution_count": 13,
     "metadata": {},
     "output_type": "execute_result"
    }
   ],
   "source": [
    "run(RandomForestClassifier(), X, y)"
   ]
  },
  {
   "cell_type": "code",
   "execution_count": 14,
   "metadata": {},
   "outputs": [
    {
     "data": {
      "text/plain": [
       "(1.0, 0.9001141501660986)"
      ]
     },
     "execution_count": 14,
     "metadata": {},
     "output_type": "execute_result"
    }
   ],
   "source": [
    "run(DecisionTreeClassifier(), X, y)"
   ]
  },
  {
   "cell_type": "code",
   "execution_count": 15,
   "metadata": {},
   "outputs": [
    {
     "data": {
      "text/plain": [
       "(0.6699012581365446, 0.6418789078578917)"
      ]
     },
     "execution_count": 15,
     "metadata": {},
     "output_type": "execute_result"
    }
   ],
   "source": [
    "run(LogisticRegression(solver=\"liblinear\"), X, y)"
   ]
  },
  {
   "cell_type": "code",
   "execution_count": 16,
   "metadata": {},
   "outputs": [
    {
     "data": {
      "text/plain": [
       "(0.8208240282504974, 0.8054840745382473)"
      ]
     },
     "execution_count": 16,
     "metadata": {},
     "output_type": "execute_result"
    }
   ],
   "source": [
    "run(LogisticRegression(solver=\"newton-cg\"), X, y)"
   ]
  },
  {
   "cell_type": "code",
   "execution_count": 17,
   "metadata": {},
   "outputs": [],
   "source": [
    "# run(LogisticRegression(solver=\"newton-cholesky\"), X, y)"
   ]
  },
  {
   "cell_type": "code",
   "execution_count": 18,
   "metadata": {},
   "outputs": [
    {
     "data": {
      "text/plain": [
       "(0.6827522189763685, 0.6742369158002005)"
      ]
     },
     "execution_count": 18,
     "metadata": {},
     "output_type": "execute_result"
    }
   ],
   "source": [
    "run(GaussianNB(), X, y)"
   ]
  }
 ],
 "metadata": {
  "kernelspec": {
   "display_name": "base",
   "language": "python",
   "name": "python3"
  },
  "language_info": {
   "codemirror_mode": {
    "name": "ipython",
    "version": 3
   },
   "file_extension": ".py",
   "mimetype": "text/x-python",
   "name": "python",
   "nbconvert_exporter": "python",
   "pygments_lexer": "ipython3",
   "version": "3.12.7"
  }
 },
 "nbformat": 4,
 "nbformat_minor": 2
}
