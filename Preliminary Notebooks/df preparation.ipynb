{
 "cells": [
  {
   "cell_type": "markdown",
   "id": "34057672-86b1-482a-99f9-707c06385e86",
   "metadata": {},
   "source": [
    "# DF PREPARATION\n",
    "**GOAL.** Prepare dataframes as given in the `data` folder. In particular, we will focus on:\n",
    "- Prepare the dataset for decision trees and logistic regression\n",
    "- Handle missing values, as detailed in the Excel Sheet\n",
    "- Export the treated datasets in `our data` folder\n",
    "- Eventually transform all of this procedure in a single module, to generalize on any type of data"
   ]
  },
  {
   "cell_type": "markdown",
   "id": "765df3ad-f360-4911-9bdf-a9688e67f8d8",
   "metadata": {},
   "source": [
    "## Loading data"
   ]
  },
  {
   "cell_type": "code",
   "execution_count": 3,
   "id": "7ea3ed9b-8479-407e-b966-09b43fd59c2e",
   "metadata": {},
   "outputs": [
    {
     "name": "stdout",
     "output_type": "stream",
     "text": [
      "pandas 2.2.2\n",
      "sklearn 1.4.2\n"
     ]
    },
    {
     "data": {
      "text/html": [
       "<div>\n",
       "<style scoped>\n",
       "    .dataframe tbody tr th:only-of-type {\n",
       "        vertical-align: middle;\n",
       "    }\n",
       "\n",
       "    .dataframe tbody tr th {\n",
       "        vertical-align: top;\n",
       "    }\n",
       "\n",
       "    .dataframe thead th {\n",
       "        text-align: right;\n",
       "    }\n",
       "</style>\n",
       "<table border=\"1\" class=\"dataframe\">\n",
       "  <thead>\n",
       "    <tr style=\"text-align: right;\">\n",
       "      <th></th>\n",
       "      <th>id</th>\n",
       "      <th>age</th>\n",
       "      <th>alcohol_freq</th>\n",
       "      <th>caloric_freq</th>\n",
       "      <th>devices_perday</th>\n",
       "      <th>eat_between_meals</th>\n",
       "      <th>gender</th>\n",
       "      <th>height</th>\n",
       "      <th>marrital_status</th>\n",
       "      <th>meals_perday</th>\n",
       "      <th>...</th>\n",
       "      <th>parent_overweight</th>\n",
       "      <th>physical_activity_perweek</th>\n",
       "      <th>region</th>\n",
       "      <th>siblings</th>\n",
       "      <th>smoke</th>\n",
       "      <th>transportation</th>\n",
       "      <th>veggies_freq</th>\n",
       "      <th>water_daily</th>\n",
       "      <th>weight</th>\n",
       "      <th>obese_level</th>\n",
       "    </tr>\n",
       "  </thead>\n",
       "  <tbody>\n",
       "    <tr>\n",
       "      <th>0</th>\n",
       "      <td>1</td>\n",
       "      <td>21.0</td>\n",
       "      <td>Never</td>\n",
       "      <td>no</td>\n",
       "      <td>up to 5</td>\n",
       "      <td>Sometimes</td>\n",
       "      <td>Female</td>\n",
       "      <td>1.62</td>\n",
       "      <td>NaN</td>\n",
       "      <td>3.0</td>\n",
       "      <td>...</td>\n",
       "      <td>yes</td>\n",
       "      <td>NaN</td>\n",
       "      <td>LatAm</td>\n",
       "      <td>3.0</td>\n",
       "      <td>no</td>\n",
       "      <td>Public</td>\n",
       "      <td>Sometimes</td>\n",
       "      <td>1 to 2</td>\n",
       "      <td>64.0</td>\n",
       "      <td>Normal_Weight</td>\n",
       "    </tr>\n",
       "    <tr>\n",
       "      <th>1</th>\n",
       "      <td>2</td>\n",
       "      <td>23.0</td>\n",
       "      <td>Frequently</td>\n",
       "      <td>no</td>\n",
       "      <td>up to 5</td>\n",
       "      <td>Sometimes</td>\n",
       "      <td>Male</td>\n",
       "      <td>1.80</td>\n",
       "      <td>NaN</td>\n",
       "      <td>3.0</td>\n",
       "      <td>...</td>\n",
       "      <td>yes</td>\n",
       "      <td>3 to 4</td>\n",
       "      <td>LatAm</td>\n",
       "      <td>0.0</td>\n",
       "      <td>no</td>\n",
       "      <td>Public</td>\n",
       "      <td>Sometimes</td>\n",
       "      <td>1 to 2</td>\n",
       "      <td>77.0</td>\n",
       "      <td>Normal_Weight</td>\n",
       "    </tr>\n",
       "    <tr>\n",
       "      <th>2</th>\n",
       "      <td>3</td>\n",
       "      <td>NaN</td>\n",
       "      <td>Frequently</td>\n",
       "      <td>no</td>\n",
       "      <td>up to 2</td>\n",
       "      <td>Sometimes</td>\n",
       "      <td>Male</td>\n",
       "      <td>1.80</td>\n",
       "      <td>NaN</td>\n",
       "      <td>3.0</td>\n",
       "      <td>...</td>\n",
       "      <td>no</td>\n",
       "      <td>3 to 4</td>\n",
       "      <td>LatAm</td>\n",
       "      <td>2.0</td>\n",
       "      <td>no</td>\n",
       "      <td>Walk</td>\n",
       "      <td>Always</td>\n",
       "      <td>1 to 2</td>\n",
       "      <td>87.0</td>\n",
       "      <td>Overweight_Level_I</td>\n",
       "    </tr>\n",
       "    <tr>\n",
       "      <th>3</th>\n",
       "      <td>4</td>\n",
       "      <td>22.0</td>\n",
       "      <td>Sometimes</td>\n",
       "      <td>no</td>\n",
       "      <td>up to 2</td>\n",
       "      <td>Sometimes</td>\n",
       "      <td>Male</td>\n",
       "      <td>1.78</td>\n",
       "      <td>NaN</td>\n",
       "      <td>1.0</td>\n",
       "      <td>...</td>\n",
       "      <td>no</td>\n",
       "      <td>NaN</td>\n",
       "      <td>LatAm</td>\n",
       "      <td>3.0</td>\n",
       "      <td>no</td>\n",
       "      <td>Public</td>\n",
       "      <td>Sometimes</td>\n",
       "      <td>1 to 2</td>\n",
       "      <td>90.0</td>\n",
       "      <td>Overweight_Level_II</td>\n",
       "    </tr>\n",
       "    <tr>\n",
       "      <th>4</th>\n",
       "      <td>5</td>\n",
       "      <td>22.0</td>\n",
       "      <td>Sometimes</td>\n",
       "      <td>no</td>\n",
       "      <td>up to 2</td>\n",
       "      <td>Sometimes</td>\n",
       "      <td>Male</td>\n",
       "      <td>1.64</td>\n",
       "      <td>NaN</td>\n",
       "      <td>3.0</td>\n",
       "      <td>...</td>\n",
       "      <td>no</td>\n",
       "      <td>5 or more</td>\n",
       "      <td>LatAm</td>\n",
       "      <td>3.0</td>\n",
       "      <td>no</td>\n",
       "      <td>Public</td>\n",
       "      <td>Sometimes</td>\n",
       "      <td>1 to 2</td>\n",
       "      <td>53.0</td>\n",
       "      <td>Normal_Weight</td>\n",
       "    </tr>\n",
       "  </tbody>\n",
       "</table>\n",
       "<p>5 rows × 21 columns</p>\n",
       "</div>"
      ],
      "text/plain": [
       "   id   age alcohol_freq caloric_freq devices_perday eat_between_meals  \\\n",
       "0   1  21.0        Never           no        up to 5         Sometimes   \n",
       "1   2  23.0   Frequently           no        up to 5         Sometimes   \n",
       "2   3   NaN   Frequently           no        up to 2         Sometimes   \n",
       "3   4  22.0    Sometimes           no        up to 2         Sometimes   \n",
       "4   5  22.0    Sometimes           no        up to 2         Sometimes   \n",
       "\n",
       "   gender  height  marrital_status  meals_perday  ... parent_overweight  \\\n",
       "0  Female    1.62              NaN           3.0  ...               yes   \n",
       "1    Male    1.80              NaN           3.0  ...               yes   \n",
       "2    Male    1.80              NaN           3.0  ...                no   \n",
       "3    Male    1.78              NaN           1.0  ...                no   \n",
       "4    Male    1.64              NaN           3.0  ...                no   \n",
       "\n",
       "  physical_activity_perweek region siblings  smoke transportation  \\\n",
       "0                       NaN  LatAm      3.0     no         Public   \n",
       "1                    3 to 4  LatAm      0.0     no         Public   \n",
       "2                    3 to 4  LatAm      2.0     no           Walk   \n",
       "3                       NaN  LatAm      3.0     no         Public   \n",
       "4                 5 or more  LatAm      3.0     no         Public   \n",
       "\n",
       "  veggies_freq water_daily weight          obese_level  \n",
       "0    Sometimes      1 to 2   64.0        Normal_Weight  \n",
       "1    Sometimes      1 to 2   77.0        Normal_Weight  \n",
       "2       Always      1 to 2   87.0   Overweight_Level_I  \n",
       "3    Sometimes      1 to 2   90.0  Overweight_Level_II  \n",
       "4    Sometimes      1 to 2   53.0        Normal_Weight  \n",
       "\n",
       "[5 rows x 21 columns]"
      ]
     },
     "execution_count": 3,
     "metadata": {},
     "output_type": "execute_result"
    }
   ],
   "source": [
    "import pandas as pd\n",
    "import sklearn as sk\n",
    "\n",
    "print(\"pandas\",pd.__version__)\n",
    "print(\"sklearn\",sk.__version__)\n",
    "\n",
    "df = pd.read_csv(\"../data/obesity_train.csv\")\n",
    "df.head()"
   ]
  },
  {
   "cell_type": "markdown",
   "id": "1a5f19aa-eb9a-468f-a7d3-823e743f737c",
   "metadata": {},
   "source": [
    "## Removing Columns\n",
    "First we will remove the columns which we agreed on dropping."
   ]
  },
  {
   "cell_type": "code",
   "execution_count": 4,
   "id": "45be7aa0-2aba-4df0-908a-9d39ed9e822b",
   "metadata": {},
   "outputs": [
    {
     "data": {
      "text/plain": [
       "Index(['id', 'age', 'alcohol_freq', 'caloric_freq', 'devices_perday',\n",
       "       'eat_between_meals', 'gender', 'height', 'meals_perday',\n",
       "       'monitor_calories', 'parent_overweight', 'physical_activity_perweek',\n",
       "       'siblings', 'smoke', 'transportation', 'veggies_freq', 'water_daily',\n",
       "       'weight', 'obese_level'],\n",
       "      dtype='object')"
      ]
     },
     "execution_count": 4,
     "metadata": {},
     "output_type": "execute_result"
    }
   ],
   "source": [
    "df = df.drop(columns=[\"marrital_status\", \"region\"])\n",
    "df.columns"
   ]
  },
  {
   "cell_type": "markdown",
   "id": "b21fccb2-ca46-4ec8-a823-219b664b8569",
   "metadata": {},
   "source": [
    "## Removing Outliers\n",
    "Before treating missing data, we will remove outliers to avoid biased results. In particular, we will treat multidimensional outliers in `weight` $\\times$ `height`. To detect them, we will be manually visualizing the scatterplot to detect any potential outliers."
   ]
  },
  {
   "cell_type": "code",
   "execution_count": 144,
   "id": "31bcb2ee-e348-42d7-9d24-9e056ef73b59",
   "metadata": {},
   "outputs": [],
   "source": [
    "# Define a list of IDs containing the IDs of outliers\n",
    "outliers = []\n",
    "\n",
    "# New dataframe with just weight x height\n",
    "weight_height = df.loc[: ,[\"weight\", \"height\"]]\n",
    "weight_height.head()\n",
    "\n",
    "# Remove missing values\n",
    "weight_height = weight_height.dropna()"
   ]
  },
  {
   "cell_type": "code",
   "execution_count": 145,
   "id": "63a63796-ba20-4760-8f65-22ed654826b5",
   "metadata": {},
   "outputs": [
    {
     "data": {
      "text/plain": [
       "<matplotlib.collections.PathCollection at 0x20383803500>"
      ]
     },
     "execution_count": 145,
     "metadata": {},
     "output_type": "execute_result"
    },
    {
     "data": {
      "image/png": "[encoded data removed]",
      "text/plain": [
       "<Figure size 640x480 with 1 Axes>"
      ]
     },
     "metadata": {},
     "output_type": "display_data"
    }
   ],
   "source": [
    "import matplotlib.pyplot as plt\n",
    "fig, ax = plt.subplots()\n",
    "ax.scatter(weight_height[\"weight\"], weight_height[\"height\"])"
   ]
  },
  {
   "cell_type": "markdown",
   "id": "5e02a5ef-cae4-4be9-88e1-c8a2e61aec80",
   "metadata": {},
   "source": [
    "We see four potential outliers: one that is around $(77, 1.3)$, another $(80, 2.2)$, $(190,1.7)$ and $(175, 1.9)$. We will search them manually using the `.query()` method."
   ]
  },
  {
   "cell_type": "code",
   "execution_count": 146,
   "id": "a9a86aeb-faec-4069-a95a-d4b2a5021362",
   "metadata": {},
   "outputs": [],
   "source": [
    "query = \"(weight>65 & height < 1.4) | (weight >70 & height > 2.1) | (weight > 165)\"\n",
    "\n",
    "outliers.append(weight_height.query(query).index.tolist())"
   ]
  },
  {
   "cell_type": "code",
   "execution_count": 147,
   "id": "112c06e1-e820-49ba-a395-046c54929211",
   "metadata": {},
   "outputs": [
    {
     "data": {
      "text/plain": [
       "[[115, 259, 344, 1135]]"
      ]
     },
     "execution_count": 147,
     "metadata": {},
     "output_type": "execute_result"
    }
   ],
   "source": [
    "outliers"
   ]
  },
  {
   "cell_type": "markdown",
   "id": "705092d7-85ef-4dd7-817f-59166cfd2c62",
   "metadata": {},
   "source": [
    "Now we have our first set of outliers detected by weight and height. Now we do the same for age and height."
   ]
  },
  {
   "cell_type": "code",
   "execution_count": 148,
   "id": "cb37bec2-8c5b-4253-bbb9-d9bc35a2b25e",
   "metadata": {},
   "outputs": [
    {
     "data": {
      "text/plain": [
       "<matplotlib.collections.PathCollection at 0x203839160c0>"
      ]
     },
     "execution_count": 148,
     "metadata": {},
     "output_type": "execute_result"
    },
    {
     "data": {
      "image/png": "[encoded data removed]",
      "text/plain": [
       "<Figure size 640x480 with 1 Axes>"
      ]
     },
     "metadata": {},
     "output_type": "display_data"
    }
   ],
   "source": [
    "age_height = df.loc[: ,[\"age\", \"height\"]]\n",
    "age_height = age_height.dropna()\n",
    "\n",
    "fig, ax = plt.subplots()\n",
    "ax.scatter(age_height[\"age\"], age_height[\"height\"])"
   ]
  },
  {
   "cell_type": "markdown",
   "id": "6705d3c9-1d0d-4eac-a117-7f7e2e70f583",
   "metadata": {},
   "source": [
    "$$\n",
    "(<10, \\sim2.2),(\\sim 40, <1.4),(>80, \\sim 1.6),\n",
    "$$"
   ]
  },
  {
   "cell_type": "code",
   "execution_count": 149,
   "id": "61dae198-875a-4475-8ff3-1d6e4d5fd178",
   "metadata": {},
   "outputs": [],
   "source": [
    "outliers.append(age_height.query(\"(age < 10 & height>2) | (age>35 & height < 1.4) | (age > 80 & height > 1.5)\").index.tolist())"
   ]
  },
  {
   "cell_type": "code",
   "execution_count": 150,
   "id": "6e0cec36-c7d3-4c2c-90b0-245c4d1b1f8a",
   "metadata": {},
   "outputs": [
    {
     "data": {
      "text/plain": [
       "[[115, 259, 344, 1135], [115, 1013, 1135]]"
      ]
     },
     "execution_count": 150,
     "metadata": {},
     "output_type": "execute_result"
    }
   ],
   "source": [
    "outliers"
   ]
  },
  {
   "cell_type": "markdown",
   "id": "761ed677-2f08-48c2-b982-d51780c831e6",
   "metadata": {},
   "source": [
    "Repeat for age and weight\n"
   ]
  },
  {
   "cell_type": "code",
   "execution_count": 152,
   "id": "483c978d-eb43-49aa-a5a7-d563084fda72",
   "metadata": {},
   "outputs": [
    {
     "data": {
      "text/plain": [
       "<matplotlib.collections.PathCollection at 0x2038bc0ac60>"
      ]
     },
     "execution_count": 152,
     "metadata": {},
     "output_type": "execute_result"
    },
    {
     "data": {
      "image/png": "[encoded data removed]",
      "text/plain": [
       "<Figure size 640x480 with 1 Axes>"
      ]
     },
     "metadata": {},
     "output_type": "display_data"
    }
   ],
   "source": [
    "age_weight = df.loc[: ,[\"age\", \"weight\"]]\n",
    "age_weight = age_weight.dropna()\n",
    "\n",
    "fig, ax = plt.subplots()\n",
    "ax.scatter(age_weight[\"age\"], age_weight[\"weight\"])\n"
   ]
  },
  {
   "cell_type": "markdown",
   "id": "e066975a-7289-4811-8d41-c925680fd8e8",
   "metadata": {},
   "source": [
    "$$\n",
    "(<10, \\sim 80), \\forall(>45, x), (\\sim 20, >180)\n",
    "$$"
   ]
  },
  {
   "cell_type": "code",
   "execution_count": 156,
   "id": "02710449-a767-4b98-98e9-2cede6fd416c",
   "metadata": {},
   "outputs": [],
   "source": [
    "outliers.append(age_weight.query(\"(age<10 & weight>80) | (age>50) | (weight>180)\").index.tolist())"
   ]
  },
  {
   "cell_type": "code",
   "execution_count": 157,
   "id": "9bf90932-4aed-415b-84d9-6908c0742d3f",
   "metadata": {},
   "outputs": [
    {
     "data": {
      "text/plain": [
       "[[115, 259, 344, 1135], [115, 1013, 1135], [12, 100, 115, 344, 782, 882, 1013]]"
      ]
     },
     "execution_count": 157,
     "metadata": {},
     "output_type": "execute_result"
    }
   ],
   "source": [
    "outliers"
   ]
  },
  {
   "cell_type": "markdown",
   "id": "f84339a2-edde-4b1c-b174-2bf5ee6bfcd2",
   "metadata": {},
   "source": [
    "Finally, having every outlier properly (well, kind of...) identified, we will move onto deletion. First of all we will take the union of every sublist, and turn it into a set."
   ]
  },
  {
   "cell_type": "code",
   "execution_count": 163,
   "id": "29c4ce05-4a83-4097-b571-6891512933eb",
   "metadata": {},
   "outputs": [],
   "source": [
    "l = []\n",
    "for x in outliers:\n",
    "    for out in x:\n",
    "        if out in l:\n",
    "            continue\n",
    "        else:\n",
    "            l.append(out)"
   ]
  },
  {
   "cell_type": "code",
   "execution_count": 164,
   "id": "e21816ae-c3c3-481e-9622-bdcbdd35c77d",
   "metadata": {},
   "outputs": [
    {
     "data": {
      "text/plain": [
       "[115, 259, 344, 1135, 1013, 12, 100, 782, 882]"
      ]
     },
     "execution_count": 164,
     "metadata": {},
     "output_type": "execute_result"
    }
   ],
   "source": [
    "l"
   ]
  },
  {
   "cell_type": "code",
   "execution_count": 167,
   "id": "011cb855-b91f-431d-8806-d84c0244892e",
   "metadata": {},
   "outputs": [],
   "source": [
    "# Proceed to remove outliers from dataset\n",
    "df = df.drop(l, axis=0)"
   ]
  },
  {
   "cell_type": "code",
   "execution_count": 168,
   "id": "c6137934-4818-462e-a4e6-3c20dfa8f76a",
   "metadata": {},
   "outputs": [
    {
     "data": {
      "text/html": [
       "<div>\n",
       "<style scoped>\n",
       "    .dataframe tbody tr th:only-of-type {\n",
       "        vertical-align: middle;\n",
       "    }\n",
       "\n",
       "    .dataframe tbody tr th {\n",
       "        vertical-align: top;\n",
       "    }\n",
       "\n",
       "    .dataframe thead th {\n",
       "        text-align: right;\n",
       "    }\n",
       "</style>\n",
       "<table border=\"1\" class=\"dataframe\">\n",
       "  <thead>\n",
       "    <tr style=\"text-align: right;\">\n",
       "      <th></th>\n",
       "      <th>id</th>\n",
       "      <th>age</th>\n",
       "      <th>alcohol_freq</th>\n",
       "      <th>caloric_freq</th>\n",
       "      <th>devices_perday</th>\n",
       "      <th>eat_between_meals</th>\n",
       "      <th>gender</th>\n",
       "      <th>height</th>\n",
       "      <th>meals_perday</th>\n",
       "      <th>monitor_calories</th>\n",
       "      <th>parent_overweight</th>\n",
       "      <th>physical_activity_perweek</th>\n",
       "      <th>siblings</th>\n",
       "      <th>smoke</th>\n",
       "      <th>transportation</th>\n",
       "      <th>veggies_freq</th>\n",
       "      <th>water_daily</th>\n",
       "      <th>weight</th>\n",
       "      <th>obese_level</th>\n",
       "    </tr>\n",
       "  </thead>\n",
       "  <tbody>\n",
       "    <tr>\n",
       "      <th>0</th>\n",
       "      <td>1</td>\n",
       "      <td>21.0</td>\n",
       "      <td>Never</td>\n",
       "      <td>no</td>\n",
       "      <td>up to 5</td>\n",
       "      <td>Sometimes</td>\n",
       "      <td>Female</td>\n",
       "      <td>1.62</td>\n",
       "      <td>3.0</td>\n",
       "      <td>no</td>\n",
       "      <td>yes</td>\n",
       "      <td>NaN</td>\n",
       "      <td>3.0</td>\n",
       "      <td>no</td>\n",
       "      <td>Public</td>\n",
       "      <td>Sometimes</td>\n",
       "      <td>1 to 2</td>\n",
       "      <td>64.0</td>\n",
       "      <td>Normal_Weight</td>\n",
       "    </tr>\n",
       "    <tr>\n",
       "      <th>1</th>\n",
       "      <td>2</td>\n",
       "      <td>23.0</td>\n",
       "      <td>Frequently</td>\n",
       "      <td>no</td>\n",
       "      <td>up to 5</td>\n",
       "      <td>Sometimes</td>\n",
       "      <td>Male</td>\n",
       "      <td>1.80</td>\n",
       "      <td>3.0</td>\n",
       "      <td>no</td>\n",
       "      <td>yes</td>\n",
       "      <td>3 to 4</td>\n",
       "      <td>0.0</td>\n",
       "      <td>no</td>\n",
       "      <td>Public</td>\n",
       "      <td>Sometimes</td>\n",
       "      <td>1 to 2</td>\n",
       "      <td>77.0</td>\n",
       "      <td>Normal_Weight</td>\n",
       "    </tr>\n",
       "    <tr>\n",
       "      <th>2</th>\n",
       "      <td>3</td>\n",
       "      <td>NaN</td>\n",
       "      <td>Frequently</td>\n",
       "      <td>no</td>\n",
       "      <td>up to 2</td>\n",
       "      <td>Sometimes</td>\n",
       "      <td>Male</td>\n",
       "      <td>1.80</td>\n",
       "      <td>3.0</td>\n",
       "      <td>no</td>\n",
       "      <td>no</td>\n",
       "      <td>3 to 4</td>\n",
       "      <td>2.0</td>\n",
       "      <td>no</td>\n",
       "      <td>Walk</td>\n",
       "      <td>Always</td>\n",
       "      <td>1 to 2</td>\n",
       "      <td>87.0</td>\n",
       "      <td>Overweight_Level_I</td>\n",
       "    </tr>\n",
       "    <tr>\n",
       "      <th>3</th>\n",
       "      <td>4</td>\n",
       "      <td>22.0</td>\n",
       "      <td>Sometimes</td>\n",
       "      <td>no</td>\n",
       "      <td>up to 2</td>\n",
       "      <td>Sometimes</td>\n",
       "      <td>Male</td>\n",
       "      <td>1.78</td>\n",
       "      <td>1.0</td>\n",
       "      <td>no</td>\n",
       "      <td>no</td>\n",
       "      <td>NaN</td>\n",
       "      <td>3.0</td>\n",
       "      <td>no</td>\n",
       "      <td>Public</td>\n",
       "      <td>Sometimes</td>\n",
       "      <td>1 to 2</td>\n",
       "      <td>90.0</td>\n",
       "      <td>Overweight_Level_II</td>\n",
       "    </tr>\n",
       "    <tr>\n",
       "      <th>4</th>\n",
       "      <td>5</td>\n",
       "      <td>22.0</td>\n",
       "      <td>Sometimes</td>\n",
       "      <td>no</td>\n",
       "      <td>up to 2</td>\n",
       "      <td>Sometimes</td>\n",
       "      <td>Male</td>\n",
       "      <td>1.64</td>\n",
       "      <td>3.0</td>\n",
       "      <td>no</td>\n",
       "      <td>no</td>\n",
       "      <td>5 or more</td>\n",
       "      <td>3.0</td>\n",
       "      <td>no</td>\n",
       "      <td>Public</td>\n",
       "      <td>Sometimes</td>\n",
       "      <td>1 to 2</td>\n",
       "      <td>53.0</td>\n",
       "      <td>Normal_Weight</td>\n",
       "    </tr>\n",
       "    <tr>\n",
       "      <th>...</th>\n",
       "      <td>...</td>\n",
       "      <td>...</td>\n",
       "      <td>...</td>\n",
       "      <td>...</td>\n",
       "      <td>...</td>\n",
       "      <td>...</td>\n",
       "      <td>...</td>\n",
       "      <td>...</td>\n",
       "      <td>...</td>\n",
       "      <td>...</td>\n",
       "      <td>...</td>\n",
       "      <td>...</td>\n",
       "      <td>...</td>\n",
       "      <td>...</td>\n",
       "      <td>...</td>\n",
       "      <td>...</td>\n",
       "      <td>...</td>\n",
       "      <td>...</td>\n",
       "      <td>...</td>\n",
       "    </tr>\n",
       "    <tr>\n",
       "      <th>1606</th>\n",
       "      <td>1607</td>\n",
       "      <td>21.0</td>\n",
       "      <td>Sometimes</td>\n",
       "      <td>NaN</td>\n",
       "      <td>up to 5</td>\n",
       "      <td>Sometimes</td>\n",
       "      <td>Female</td>\n",
       "      <td>1.73</td>\n",
       "      <td>3.0</td>\n",
       "      <td>no</td>\n",
       "      <td>yes</td>\n",
       "      <td>3 to 4</td>\n",
       "      <td>1.0</td>\n",
       "      <td>no</td>\n",
       "      <td>Public</td>\n",
       "      <td>Always</td>\n",
       "      <td>1 to 2</td>\n",
       "      <td>131.0</td>\n",
       "      <td>Obesity_Type_III</td>\n",
       "    </tr>\n",
       "    <tr>\n",
       "      <th>1607</th>\n",
       "      <td>1608</td>\n",
       "      <td>22.0</td>\n",
       "      <td>Sometimes</td>\n",
       "      <td>yes</td>\n",
       "      <td>up to 5</td>\n",
       "      <td>Sometimes</td>\n",
       "      <td>Female</td>\n",
       "      <td>1.75</td>\n",
       "      <td>3.0</td>\n",
       "      <td>no</td>\n",
       "      <td>yes</td>\n",
       "      <td>1 to 2</td>\n",
       "      <td>0.0</td>\n",
       "      <td>no</td>\n",
       "      <td>NaN</td>\n",
       "      <td>Always</td>\n",
       "      <td>1 to 2</td>\n",
       "      <td>134.0</td>\n",
       "      <td>Obesity_Type_III</td>\n",
       "    </tr>\n",
       "    <tr>\n",
       "      <th>1608</th>\n",
       "      <td>1609</td>\n",
       "      <td>23.0</td>\n",
       "      <td>Sometimes</td>\n",
       "      <td>yes</td>\n",
       "      <td>up to 5</td>\n",
       "      <td>Sometimes</td>\n",
       "      <td>Female</td>\n",
       "      <td>1.75</td>\n",
       "      <td>3.0</td>\n",
       "      <td>no</td>\n",
       "      <td>yes</td>\n",
       "      <td>1 to 2</td>\n",
       "      <td>0.0</td>\n",
       "      <td>no</td>\n",
       "      <td>Public</td>\n",
       "      <td>Always</td>\n",
       "      <td>1 to 2</td>\n",
       "      <td>134.0</td>\n",
       "      <td>Obesity_Type_III</td>\n",
       "    </tr>\n",
       "    <tr>\n",
       "      <th>1609</th>\n",
       "      <td>1610</td>\n",
       "      <td>24.0</td>\n",
       "      <td>Sometimes</td>\n",
       "      <td>yes</td>\n",
       "      <td>up to 5</td>\n",
       "      <td>Sometimes</td>\n",
       "      <td>Female</td>\n",
       "      <td>1.74</td>\n",
       "      <td>3.0</td>\n",
       "      <td>no</td>\n",
       "      <td>yes</td>\n",
       "      <td>1 to 2</td>\n",
       "      <td>0.0</td>\n",
       "      <td>no</td>\n",
       "      <td>Public</td>\n",
       "      <td>Always</td>\n",
       "      <td>more than 2</td>\n",
       "      <td>133.0</td>\n",
       "      <td>Obesity_Type_III</td>\n",
       "    </tr>\n",
       "    <tr>\n",
       "      <th>1610</th>\n",
       "      <td>1611</td>\n",
       "      <td>24.0</td>\n",
       "      <td>Sometimes</td>\n",
       "      <td>yes</td>\n",
       "      <td>up to 5</td>\n",
       "      <td>Sometimes</td>\n",
       "      <td>Female</td>\n",
       "      <td>1.74</td>\n",
       "      <td>3.0</td>\n",
       "      <td>no</td>\n",
       "      <td>yes</td>\n",
       "      <td>1 to 2</td>\n",
       "      <td>0.0</td>\n",
       "      <td>no</td>\n",
       "      <td>Public</td>\n",
       "      <td>Always</td>\n",
       "      <td>more than 2</td>\n",
       "      <td>133.0</td>\n",
       "      <td>Obesity_Type_III</td>\n",
       "    </tr>\n",
       "  </tbody>\n",
       "</table>\n",
       "<p>1602 rows × 19 columns</p>\n",
       "</div>"
      ],
      "text/plain": [
       "        id   age alcohol_freq caloric_freq devices_perday eat_between_meals  \\\n",
       "0        1  21.0        Never           no        up to 5         Sometimes   \n",
       "1        2  23.0   Frequently           no        up to 5         Sometimes   \n",
       "2        3   NaN   Frequently           no        up to 2         Sometimes   \n",
       "3        4  22.0    Sometimes           no        up to 2         Sometimes   \n",
       "4        5  22.0    Sometimes           no        up to 2         Sometimes   \n",
       "...    ...   ...          ...          ...            ...               ...   \n",
       "1606  1607  21.0    Sometimes          NaN        up to 5         Sometimes   \n",
       "1607  1608  22.0    Sometimes          yes        up to 5         Sometimes   \n",
       "1608  1609  23.0    Sometimes          yes        up to 5         Sometimes   \n",
       "1609  1610  24.0    Sometimes          yes        up to 5         Sometimes   \n",
       "1610  1611  24.0    Sometimes          yes        up to 5         Sometimes   \n",
       "\n",
       "      gender  height  meals_perday monitor_calories parent_overweight  \\\n",
       "0     Female    1.62           3.0               no               yes   \n",
       "1       Male    1.80           3.0               no               yes   \n",
       "2       Male    1.80           3.0               no                no   \n",
       "3       Male    1.78           1.0               no                no   \n",
       "4       Male    1.64           3.0               no                no   \n",
       "...      ...     ...           ...              ...               ...   \n",
       "1606  Female    1.73           3.0               no               yes   \n",
       "1607  Female    1.75           3.0               no               yes   \n",
       "1608  Female    1.75           3.0               no               yes   \n",
       "1609  Female    1.74           3.0               no               yes   \n",
       "1610  Female    1.74           3.0               no               yes   \n",
       "\n",
       "     physical_activity_perweek  siblings smoke transportation veggies_freq  \\\n",
       "0                          NaN       3.0    no         Public    Sometimes   \n",
       "1                       3 to 4       0.0    no         Public    Sometimes   \n",
       "2                       3 to 4       2.0    no           Walk       Always   \n",
       "3                          NaN       3.0    no         Public    Sometimes   \n",
       "4                    5 or more       3.0    no         Public    Sometimes   \n",
       "...                        ...       ...   ...            ...          ...   \n",
       "1606                    3 to 4       1.0    no         Public       Always   \n",
       "1607                    1 to 2       0.0    no            NaN       Always   \n",
       "1608                    1 to 2       0.0    no         Public       Always   \n",
       "1609                    1 to 2       0.0    no         Public       Always   \n",
       "1610                    1 to 2       0.0    no         Public       Always   \n",
       "\n",
       "      water_daily  weight          obese_level  \n",
       "0          1 to 2    64.0        Normal_Weight  \n",
       "1          1 to 2    77.0        Normal_Weight  \n",
       "2          1 to 2    87.0   Overweight_Level_I  \n",
       "3          1 to 2    90.0  Overweight_Level_II  \n",
       "4          1 to 2    53.0        Normal_Weight  \n",
       "...           ...     ...                  ...  \n",
       "1606       1 to 2   131.0     Obesity_Type_III  \n",
       "1607       1 to 2   134.0     Obesity_Type_III  \n",
       "1608       1 to 2   134.0     Obesity_Type_III  \n",
       "1609  more than 2   133.0     Obesity_Type_III  \n",
       "1610  more than 2   133.0     Obesity_Type_III  \n",
       "\n",
       "[1602 rows x 19 columns]"
      ]
     },
     "execution_count": 168,
     "metadata": {},
     "output_type": "execute_result"
    }
   ],
   "source": [
    "df"
   ]
  },
  {
   "cell_type": "markdown",
   "id": "87156d8e-4181-4e46-9df3-2f2894b5c7c1",
   "metadata": {},
   "source": [
    "### Possible alternative: Using three-dimensional Kmeans\n",
    "To detect outliers we could have used 3D Kmeans, by age x weight x height. However, this could yield strange results as data does not seem to follow a normal distribution."
   ]
  },
  {
   "cell_type": "code",
   "execution_count": 170,
   "id": "8a11a6f1-087a-4a68-8b22-e8e715ff9920",
   "metadata": {},
   "outputs": [],
   "source": [
    "from sklearn.cluster import KMeans"
   ]
  },
  {
   "cell_type": "code",
   "execution_count": 187,
   "id": "48543cdd-6496-4822-8740-9c1be7014c5e",
   "metadata": {},
   "outputs": [
    {
     "data": {
      "text/html": [
       "<div>\n",
       "<style scoped>\n",
       "    .dataframe tbody tr th:only-of-type {\n",
       "        vertical-align: middle;\n",
       "    }\n",
       "\n",
       "    .dataframe tbody tr th {\n",
       "        vertical-align: top;\n",
       "    }\n",
       "\n",
       "    .dataframe thead th {\n",
       "        text-align: right;\n",
       "    }\n",
       "</style>\n",
       "<table border=\"1\" class=\"dataframe\">\n",
       "  <thead>\n",
       "    <tr style=\"text-align: right;\">\n",
       "      <th></th>\n",
       "      <th>age</th>\n",
       "      <th>weight</th>\n",
       "      <th>height</th>\n",
       "    </tr>\n",
       "    <tr>\n",
       "      <th>g</th>\n",
       "      <th></th>\n",
       "      <th></th>\n",
       "      <th></th>\n",
       "    </tr>\n",
       "  </thead>\n",
       "  <tbody>\n",
       "    <tr>\n",
       "      <th>7</th>\n",
       "      <td>63</td>\n",
       "      <td>63</td>\n",
       "      <td>63</td>\n",
       "    </tr>\n",
       "    <tr>\n",
       "      <th>5</th>\n",
       "      <td>104</td>\n",
       "      <td>104</td>\n",
       "      <td>104</td>\n",
       "    </tr>\n",
       "    <tr>\n",
       "      <th>6</th>\n",
       "      <td>129</td>\n",
       "      <td>129</td>\n",
       "      <td>129</td>\n",
       "    </tr>\n",
       "    <tr>\n",
       "      <th>4</th>\n",
       "      <td>182</td>\n",
       "      <td>182</td>\n",
       "      <td>182</td>\n",
       "    </tr>\n",
       "    <tr>\n",
       "      <th>0</th>\n",
       "      <td>219</td>\n",
       "      <td>219</td>\n",
       "      <td>219</td>\n",
       "    </tr>\n",
       "    <tr>\n",
       "      <th>3</th>\n",
       "      <td>233</td>\n",
       "      <td>233</td>\n",
       "      <td>233</td>\n",
       "    </tr>\n",
       "    <tr>\n",
       "      <th>1</th>\n",
       "      <td>238</td>\n",
       "      <td>238</td>\n",
       "      <td>238</td>\n",
       "    </tr>\n",
       "    <tr>\n",
       "      <th>2</th>\n",
       "      <td>307</td>\n",
       "      <td>307</td>\n",
       "      <td>307</td>\n",
       "    </tr>\n",
       "  </tbody>\n",
       "</table>\n",
       "</div>"
      ],
      "text/plain": [
       "   age  weight  height\n",
       "g                     \n",
       "7   63      63      63\n",
       "5  104     104     104\n",
       "6  129     129     129\n",
       "4  182     182     182\n",
       "0  219     219     219\n",
       "3  233     233     233\n",
       "1  238     238     238\n",
       "2  307     307     307"
      ]
     },
     "execution_count": 187,
     "metadata": {},
     "output_type": "execute_result"
    }
   ],
   "source": [
    "thriple = df.loc[:, [\"age\", \"weight\", \"height\"]]\n",
    "thriple = thriple.dropna()\n",
    "\n",
    "result = KMeans(8).fit_predict(thriple)\n",
    "result\n",
    "\n",
    "thriple[\"g\"] = result\n",
    "thriple.groupby(\"g\").count().sort_values(by=\"age\")"
   ]
  },
  {
   "cell_type": "markdown",
   "id": "dd704b8d-16aa-4fa5-924f-91c13a93e29b",
   "metadata": {},
   "source": [
    "## Scaling Data\n",
    "Before doing using any data mining techniques to fill empty data, we have to perform data scaling on *continuous* variables. Although data is void of multidimensional outliers, we could still have unidimensional outliers. Therefore, before selecting a scaling method, we will analyze each *numerical data* first."
   ]
  },
  {
   "cell_type": "code",
   "execution_count": 199,
   "id": "18870f91-d605-4e71-baba-ed38464fdc21",
   "metadata": {},
   "outputs": [
    {
     "data": {
      "text/plain": [
       "count    1537.000000\n",
       "mean       24.230319\n",
       "std         6.054896\n",
       "min        15.000000\n",
       "25%        20.000000\n",
       "50%        23.000000\n",
       "75%        26.000000\n",
       "max        51.000000\n",
       "Name: age, dtype: float64"
      ]
     },
     "execution_count": 199,
     "metadata": {},
     "output_type": "execute_result"
    }
   ],
   "source": [
    "# Age\n",
    "df['age'].dropna().describe()"
   ]
  },
  {
   "cell_type": "markdown",
   "id": "78f2a23a-dcf6-4f28-8238-bf0804cbf0fc",
   "metadata": {},
   "source": [
    "For `age` we have $\\mu = 24 \\approx Q_{.5} = 23$, thefore we can conclude that our data does not have significant outliers."
   ]
  },
  {
   "cell_type": "code",
   "execution_count": 200,
   "id": "f40c8cb7-42a7-44a2-b015-3262952c42a0",
   "metadata": {},
   "outputs": [
    {
     "data": {
      "text/plain": [
       "count    1549.000000\n",
       "mean       86.865074\n",
       "std        25.908440\n",
       "min        32.000000\n",
       "25%        67.000000\n",
       "50%        83.000000\n",
       "75%       107.000000\n",
       "max       161.000000\n",
       "Name: weight, dtype: float64"
      ]
     },
     "execution_count": 200,
     "metadata": {},
     "output_type": "execute_result"
    }
   ],
   "source": [
    "# Weight\n",
    "df['weight'].dropna().describe()"
   ]
  },
  {
   "cell_type": "markdown",
   "id": "504b7cef-b6e6-4fd6-b079-801e8530fb6f",
   "metadata": {},
   "source": [
    "For `weight` we have $\\mu = 86.87 \\approx 83.00 = Q_{.5}$. Accompanied by the fact that we have a high standard deviation, this indicates a potential presence of *outliers*. To investigate, we're going to plot the graph of weights."
   ]
  },
  {
   "cell_type": "code",
   "execution_count": 207,
   "id": "18dd9a9f-0e5b-45c0-8a05-616128d38e56",
   "metadata": {},
   "outputs": [
    {
     "data": {
      "text/plain": [
       "(array([ 53., 180., 235., 317., 191., 211., 239.,  91.,  17.,  15.]),\n",
       " array([ 32. ,  44.9,  57.8,  70.7,  83.6,  96.5, 109.4, 122.3, 135.2,\n",
       "        148.1, 161. ]),\n",
       " <BarContainer object of 10 artists>)"
      ]
     },
     "execution_count": 207,
     "metadata": {},
     "output_type": "execute_result"
    },
    {
     "data": {
      "image/png": "[encoded data removed]",
      "text/plain": [
       "<Figure size 640x480 with 1 Axes>"
      ]
     },
     "metadata": {},
     "output_type": "display_data"
    }
   ],
   "source": [
    "plt.hist(df['weight'])"
   ]
  },
  {
   "cell_type": "markdown",
   "id": "a3031eb9-3a5a-4a3e-a421-acd5dc447123",
   "metadata": {},
   "source": [
    "Clearly there are outliers for $\\text{weight}>135.2$. In conclusion, a different scaling method will be used for this."
   ]
  },
  {
   "cell_type": "code",
   "execution_count": 208,
   "id": "c75be882-bb5b-47be-9423-425e82ff8335",
   "metadata": {},
   "outputs": [
    {
     "data": {
      "text/plain": [
       "count    1589.000000\n",
       "mean        1.704009\n",
       "std         0.094332\n",
       "min         1.450000\n",
       "25%         1.630000\n",
       "50%         1.700000\n",
       "75%         1.770000\n",
       "max         1.980000\n",
       "Name: height, dtype: float64"
      ]
     },
     "execution_count": 208,
     "metadata": {},
     "output_type": "execute_result"
    }
   ],
   "source": [
    "# Height\n",
    "df['height'].dropna().describe()"
   ]
  },
  {
   "cell_type": "markdown",
   "id": "d017000d-0c15-4884-a3d8-2efa6d19b79b",
   "metadata": {},
   "source": [
    "As $\\mu \\approx Q_{.5}$ and our standard error is low, we can safely infer that `height` does not contain outliers."
   ]
  },
  {
   "cell_type": "markdown",
   "id": "3ce1550d-f46c-4e23-82d4-6c2d81a6aaba",
   "metadata": {},
   "source": [
    "Now finally we're going to scale our data. In particular,\n",
    "- `StandardScaler` will be applied to `age`, `height`\n",
    "- `RobustScaler` will be applied to `weight`"
   ]
  },
  {
   "cell_type": "code",
   "execution_count": 226,
   "id": "c56005a5-a3e7-4594-ad0d-ce03ee63f74c",
   "metadata": {},
   "outputs": [],
   "source": [
    "from sklearn.preprocessing import StandardScaler, RobustScaler\n",
    "scale_age = StandardScaler().fit(df[[\"age\"]].dropna())\n",
    "scale_height = StandardScaler().fit(df[[\"height\"]].dropna())\n",
    "scale_weight = RobustScaler().fit(df[[\"weight\"]].dropna())\n",
    "\n",
    "new_age = scale_age.transform(df[[\"age\"]])\n",
    "new_height = scale_height.transform(df[[\"height\"]])\n",
    "new_weight = scale_weight.transform(df[[\"weight\"]])"
   ]
  },
  {
   "cell_type": "code",
   "execution_count": 227,
   "id": "a2540c83-0e23-479b-a38b-b44635123cbf",
   "metadata": {},
   "outputs": [],
   "source": [
    "# Replace columns\n",
    "df[\"age\"] = new_age\n",
    "df[\"height\"] = new_height\n",
    "df[\"weight\"] = new_weight"
   ]
  },
  {
   "cell_type": "code",
   "execution_count": 229,
   "id": "09b31587-0a77-40b0-b2c0-24d46479f23c",
   "metadata": {},
   "outputs": [
    {
     "data": {
      "text/html": [
       "<div>\n",
       "<style scoped>\n",
       "    .dataframe tbody tr th:only-of-type {\n",
       "        vertical-align: middle;\n",
       "    }\n",
       "\n",
       "    .dataframe tbody tr th {\n",
       "        vertical-align: top;\n",
       "    }\n",
       "\n",
       "    .dataframe thead th {\n",
       "        text-align: right;\n",
       "    }\n",
       "</style>\n",
       "<table border=\"1\" class=\"dataframe\">\n",
       "  <thead>\n",
       "    <tr style=\"text-align: right;\">\n",
       "      <th></th>\n",
       "      <th>id</th>\n",
       "      <th>age</th>\n",
       "      <th>alcohol_freq</th>\n",
       "      <th>caloric_freq</th>\n",
       "      <th>devices_perday</th>\n",
       "      <th>eat_between_meals</th>\n",
       "      <th>gender</th>\n",
       "      <th>height</th>\n",
       "      <th>meals_perday</th>\n",
       "      <th>monitor_calories</th>\n",
       "      <th>parent_overweight</th>\n",
       "      <th>physical_activity_perweek</th>\n",
       "      <th>siblings</th>\n",
       "      <th>smoke</th>\n",
       "      <th>transportation</th>\n",
       "      <th>veggies_freq</th>\n",
       "      <th>water_daily</th>\n",
       "      <th>weight</th>\n",
       "      <th>obese_level</th>\n",
       "    </tr>\n",
       "  </thead>\n",
       "  <tbody>\n",
       "    <tr>\n",
       "      <th>0</th>\n",
       "      <td>1</td>\n",
       "      <td>-0.533679</td>\n",
       "      <td>Never</td>\n",
       "      <td>no</td>\n",
       "      <td>up to 5</td>\n",
       "      <td>Sometimes</td>\n",
       "      <td>Female</td>\n",
       "      <td>-0.890849</td>\n",
       "      <td>3.0</td>\n",
       "      <td>no</td>\n",
       "      <td>yes</td>\n",
       "      <td>NaN</td>\n",
       "      <td>3.0</td>\n",
       "      <td>no</td>\n",
       "      <td>Public</td>\n",
       "      <td>Sometimes</td>\n",
       "      <td>1 to 2</td>\n",
       "      <td>-0.475</td>\n",
       "      <td>Normal_Weight</td>\n",
       "    </tr>\n",
       "    <tr>\n",
       "      <th>1</th>\n",
       "      <td>2</td>\n",
       "      <td>-0.203260</td>\n",
       "      <td>Frequently</td>\n",
       "      <td>no</td>\n",
       "      <td>up to 5</td>\n",
       "      <td>Sometimes</td>\n",
       "      <td>Male</td>\n",
       "      <td>1.017913</td>\n",
       "      <td>3.0</td>\n",
       "      <td>no</td>\n",
       "      <td>yes</td>\n",
       "      <td>3 to 4</td>\n",
       "      <td>0.0</td>\n",
       "      <td>no</td>\n",
       "      <td>Public</td>\n",
       "      <td>Sometimes</td>\n",
       "      <td>1 to 2</td>\n",
       "      <td>-0.150</td>\n",
       "      <td>Normal_Weight</td>\n",
       "    </tr>\n",
       "    <tr>\n",
       "      <th>2</th>\n",
       "      <td>3</td>\n",
       "      <td>NaN</td>\n",
       "      <td>Frequently</td>\n",
       "      <td>no</td>\n",
       "      <td>up to 2</td>\n",
       "      <td>Sometimes</td>\n",
       "      <td>Male</td>\n",
       "      <td>1.017913</td>\n",
       "      <td>3.0</td>\n",
       "      <td>no</td>\n",
       "      <td>no</td>\n",
       "      <td>3 to 4</td>\n",
       "      <td>2.0</td>\n",
       "      <td>no</td>\n",
       "      <td>Walk</td>\n",
       "      <td>Always</td>\n",
       "      <td>1 to 2</td>\n",
       "      <td>0.100</td>\n",
       "      <td>Overweight_Level_I</td>\n",
       "    </tr>\n",
       "    <tr>\n",
       "      <th>3</th>\n",
       "      <td>4</td>\n",
       "      <td>-0.368470</td>\n",
       "      <td>Sometimes</td>\n",
       "      <td>no</td>\n",
       "      <td>up to 2</td>\n",
       "      <td>Sometimes</td>\n",
       "      <td>Male</td>\n",
       "      <td>0.805828</td>\n",
       "      <td>1.0</td>\n",
       "      <td>no</td>\n",
       "      <td>no</td>\n",
       "      <td>NaN</td>\n",
       "      <td>3.0</td>\n",
       "      <td>no</td>\n",
       "      <td>Public</td>\n",
       "      <td>Sometimes</td>\n",
       "      <td>1 to 2</td>\n",
       "      <td>0.175</td>\n",
       "      <td>Overweight_Level_II</td>\n",
       "    </tr>\n",
       "    <tr>\n",
       "      <th>4</th>\n",
       "      <td>5</td>\n",
       "      <td>-0.368470</td>\n",
       "      <td>Sometimes</td>\n",
       "      <td>no</td>\n",
       "      <td>up to 2</td>\n",
       "      <td>Sometimes</td>\n",
       "      <td>Male</td>\n",
       "      <td>-0.678764</td>\n",
       "      <td>3.0</td>\n",
       "      <td>no</td>\n",
       "      <td>no</td>\n",
       "      <td>5 or more</td>\n",
       "      <td>3.0</td>\n",
       "      <td>no</td>\n",
       "      <td>Public</td>\n",
       "      <td>Sometimes</td>\n",
       "      <td>1 to 2</td>\n",
       "      <td>-0.750</td>\n",
       "      <td>Normal_Weight</td>\n",
       "    </tr>\n",
       "  </tbody>\n",
       "</table>\n",
       "</div>"
      ],
      "text/plain": [
       "   id       age alcohol_freq caloric_freq devices_perday eat_between_meals  \\\n",
       "0   1 -0.533679        Never           no        up to 5         Sometimes   \n",
       "1   2 -0.203260   Frequently           no        up to 5         Sometimes   \n",
       "2   3       NaN   Frequently           no        up to 2         Sometimes   \n",
       "3   4 -0.368470    Sometimes           no        up to 2         Sometimes   \n",
       "4   5 -0.368470    Sometimes           no        up to 2         Sometimes   \n",
       "\n",
       "   gender    height  meals_perday monitor_calories parent_overweight  \\\n",
       "0  Female -0.890849           3.0               no               yes   \n",
       "1    Male  1.017913           3.0               no               yes   \n",
       "2    Male  1.017913           3.0               no                no   \n",
       "3    Male  0.805828           1.0               no                no   \n",
       "4    Male -0.678764           3.0               no                no   \n",
       "\n",
       "  physical_activity_perweek  siblings smoke transportation veggies_freq  \\\n",
       "0                       NaN       3.0    no         Public    Sometimes   \n",
       "1                    3 to 4       0.0    no         Public    Sometimes   \n",
       "2                    3 to 4       2.0    no           Walk       Always   \n",
       "3                       NaN       3.0    no         Public    Sometimes   \n",
       "4                 5 or more       3.0    no         Public    Sometimes   \n",
       "\n",
       "  water_daily  weight          obese_level  \n",
       "0      1 to 2  -0.475        Normal_Weight  \n",
       "1      1 to 2  -0.150        Normal_Weight  \n",
       "2      1 to 2   0.100   Overweight_Level_I  \n",
       "3      1 to 2   0.175  Overweight_Level_II  \n",
       "4      1 to 2  -0.750        Normal_Weight  "
      ]
     },
     "execution_count": 229,
     "metadata": {},
     "output_type": "execute_result"
    }
   ],
   "source": [
    "df.head(5)"
   ]
  },
  {
   "cell_type": "markdown",
   "id": "94221f8e-d612-4fb0-98c9-ecbf07a8f733",
   "metadata": {},
   "source": [
    "\n",
    "## Replacing Categorical Variables\n",
    "As we have a lot of categorical variables, we want to replace them with numbers (dummy variables). More details in the Excel Sheet."
   ]
  },
  {
   "cell_type": "code",
   "execution_count": 247,
   "id": "7ef4ae0c-f785-4b13-ad8f-dbde8b793b63",
   "metadata": {},
   "outputs": [],
   "source": [
    "# General line: df[\"...\"] = df[\"...\"].astype(\"category\").cat.codes\n",
    "to_transform = df.select_dtypes(\"object\").columns.tolist()\n",
    "for transformer in to_transform:\n",
    "    df[f\"{transformer}\"] = df[f\"{transformer}\"].astype(\"category\").cat.codes"
   ]
  },
  {
   "cell_type": "code",
   "execution_count": 249,
   "id": "5e2d9f0a-21b6-4918-96b4-1ee54c9a2adb",
   "metadata": {},
   "outputs": [
    {
     "data": {
      "text/html": [
       "<div>\n",
       "<style scoped>\n",
       "    .dataframe tbody tr th:only-of-type {\n",
       "        vertical-align: middle;\n",
       "    }\n",
       "\n",
       "    .dataframe tbody tr th {\n",
       "        vertical-align: top;\n",
       "    }\n",
       "\n",
       "    .dataframe thead th {\n",
       "        text-align: right;\n",
       "    }\n",
       "</style>\n",
       "<table border=\"1\" class=\"dataframe\">\n",
       "  <thead>\n",
       "    <tr style=\"text-align: right;\">\n",
       "      <th></th>\n",
       "      <th>id</th>\n",
       "      <th>age</th>\n",
       "      <th>alcohol_freq</th>\n",
       "      <th>caloric_freq</th>\n",
       "      <th>devices_perday</th>\n",
       "      <th>eat_between_meals</th>\n",
       "      <th>gender</th>\n",
       "      <th>height</th>\n",
       "      <th>meals_perday</th>\n",
       "      <th>monitor_calories</th>\n",
       "      <th>parent_overweight</th>\n",
       "      <th>physical_activity_perweek</th>\n",
       "      <th>siblings</th>\n",
       "      <th>smoke</th>\n",
       "      <th>transportation</th>\n",
       "      <th>veggies_freq</th>\n",
       "      <th>water_daily</th>\n",
       "      <th>weight</th>\n",
       "      <th>obese_level</th>\n",
       "    </tr>\n",
       "  </thead>\n",
       "  <tbody>\n",
       "    <tr>\n",
       "      <th>0</th>\n",
       "      <td>1</td>\n",
       "      <td>-0.533679</td>\n",
       "      <td>2</td>\n",
       "      <td>0</td>\n",
       "      <td>2</td>\n",
       "      <td>3</td>\n",
       "      <td>0</td>\n",
       "      <td>-0.890849</td>\n",
       "      <td>3.0</td>\n",
       "      <td>0</td>\n",
       "      <td>1</td>\n",
       "      <td>-1</td>\n",
       "      <td>3.0</td>\n",
       "      <td>0</td>\n",
       "      <td>3</td>\n",
       "      <td>2</td>\n",
       "      <td>0</td>\n",
       "      <td>-0.475</td>\n",
       "      <td>1</td>\n",
       "    </tr>\n",
       "    <tr>\n",
       "      <th>1</th>\n",
       "      <td>2</td>\n",
       "      <td>-0.203260</td>\n",
       "      <td>1</td>\n",
       "      <td>0</td>\n",
       "      <td>2</td>\n",
       "      <td>3</td>\n",
       "      <td>1</td>\n",
       "      <td>1.017913</td>\n",
       "      <td>3.0</td>\n",
       "      <td>0</td>\n",
       "      <td>1</td>\n",
       "      <td>1</td>\n",
       "      <td>0.0</td>\n",
       "      <td>0</td>\n",
       "      <td>3</td>\n",
       "      <td>2</td>\n",
       "      <td>0</td>\n",
       "      <td>-0.150</td>\n",
       "      <td>1</td>\n",
       "    </tr>\n",
       "    <tr>\n",
       "      <th>2</th>\n",
       "      <td>3</td>\n",
       "      <td>NaN</td>\n",
       "      <td>1</td>\n",
       "      <td>0</td>\n",
       "      <td>1</td>\n",
       "      <td>3</td>\n",
       "      <td>1</td>\n",
       "      <td>1.017913</td>\n",
       "      <td>3.0</td>\n",
       "      <td>0</td>\n",
       "      <td>0</td>\n",
       "      <td>1</td>\n",
       "      <td>2.0</td>\n",
       "      <td>0</td>\n",
       "      <td>4</td>\n",
       "      <td>0</td>\n",
       "      <td>0</td>\n",
       "      <td>0.100</td>\n",
       "      <td>5</td>\n",
       "    </tr>\n",
       "    <tr>\n",
       "      <th>3</th>\n",
       "      <td>4</td>\n",
       "      <td>-0.368470</td>\n",
       "      <td>3</td>\n",
       "      <td>0</td>\n",
       "      <td>1</td>\n",
       "      <td>3</td>\n",
       "      <td>1</td>\n",
       "      <td>0.805828</td>\n",
       "      <td>1.0</td>\n",
       "      <td>0</td>\n",
       "      <td>0</td>\n",
       "      <td>-1</td>\n",
       "      <td>3.0</td>\n",
       "      <td>0</td>\n",
       "      <td>3</td>\n",
       "      <td>2</td>\n",
       "      <td>0</td>\n",
       "      <td>0.175</td>\n",
       "      <td>6</td>\n",
       "    </tr>\n",
       "    <tr>\n",
       "      <th>4</th>\n",
       "      <td>5</td>\n",
       "      <td>-0.368470</td>\n",
       "      <td>3</td>\n",
       "      <td>0</td>\n",
       "      <td>1</td>\n",
       "      <td>3</td>\n",
       "      <td>1</td>\n",
       "      <td>-0.678764</td>\n",
       "      <td>3.0</td>\n",
       "      <td>0</td>\n",
       "      <td>0</td>\n",
       "      <td>2</td>\n",
       "      <td>3.0</td>\n",
       "      <td>0</td>\n",
       "      <td>3</td>\n",
       "      <td>2</td>\n",
       "      <td>0</td>\n",
       "      <td>-0.750</td>\n",
       "      <td>1</td>\n",
       "    </tr>\n",
       "  </tbody>\n",
       "</table>\n",
       "</div>"
      ],
      "text/plain": [
       "   id       age  alcohol_freq  caloric_freq  devices_perday  \\\n",
       "0   1 -0.533679             2             0               2   \n",
       "1   2 -0.203260             1             0               2   \n",
       "2   3       NaN             1             0               1   \n",
       "3   4 -0.368470             3             0               1   \n",
       "4   5 -0.368470             3             0               1   \n",
       "\n",
       "   eat_between_meals  gender    height  meals_perday  monitor_calories  \\\n",
       "0                  3       0 -0.890849           3.0                 0   \n",
       "1                  3       1  1.017913           3.0                 0   \n",
       "2                  3       1  1.017913           3.0                 0   \n",
       "3                  3       1  0.805828           1.0                 0   \n",
       "4                  3       1 -0.678764           3.0                 0   \n",
       "\n",
       "   parent_overweight  physical_activity_perweek  siblings  smoke  \\\n",
       "0                  1                         -1       3.0      0   \n",
       "1                  1                          1       0.0      0   \n",
       "2                  0                          1       2.0      0   \n",
       "3                  0                         -1       3.0      0   \n",
       "4                  0                          2       3.0      0   \n",
       "\n",
       "   transportation  veggies_freq  water_daily  weight  obese_level  \n",
       "0               3             2            0  -0.475            1  \n",
       "1               3             2            0  -0.150            1  \n",
       "2               4             0            0   0.100            5  \n",
       "3               3             2            0   0.175            6  \n",
       "4               3             2            0  -0.750            1  "
      ]
     },
     "execution_count": 249,
     "metadata": {},
     "output_type": "execute_result"
    }
   ],
   "source": [
    "df.head(5)"
   ]
  },
  {
   "cell_type": "markdown",
   "id": "d1b73c63-435f-438a-a9d9-ccfd838b9e12",
   "metadata": {},
   "source": [
    "# WARNING! Missing data is -1, for some reason...\n",
    "Not a problem but we will have to keep this in mind when handling missing vals"
   ]
  },
  {
   "cell_type": "markdown",
   "id": "ae11ac2b-83e6-452a-a822-a293e7334e3e",
   "metadata": {},
   "source": [
    "## Handle Missing Values\n",
    "Now we have to handle missing values. In particular, we will:\n",
    "- Replace missing values for `physical_activity_perweek` with $0$, as the missing values could represent for *no physical activity* being done at all. The fact that this column has $35\\%$ missing motivates this choice.\n",
    "- Replace `transportation` with its mode, as investigations reveal that this variable is not much significant anyways.\n",
    "- Remove rows with missing values for siblings or smoke (further analysis reveals that only 24 rows have either of them missing)\n"
   ]
  },
  {
   "cell_type": "code",
   "execution_count": 195,
   "id": "81f9b408-60e2-46ac-9717-1cf2081c3b29",
   "metadata": {},
   "outputs": [
    {
     "data": {
      "text/plain": [
       "(24, 19)"
      ]
     },
     "execution_count": 195,
     "metadata": {},
     "output_type": "execute_result"
    }
   ],
   "source": [
    "df.isna().query(\"siblings | smoke\").shape"
   ]
  },
  {
   "cell_type": "markdown",
   "id": "eede2767-f067-4efe-9160-9096a5ccead2",
   "metadata": {},
   "source": [
    "24 Rows of missing values for siblings or smoke. 0 with both of them missing."
   ]
  },
  {
   "cell_type": "code",
   "execution_count": 250,
   "id": "2b575279-5992-4c5a-987a-11d97f580917",
   "metadata": {},
   "outputs": [],
   "source": [
    "# TODO"
   ]
  },
  {
   "cell_type": "code",
   "execution_count": null,
   "id": "c78cfb1f-ef59-43a8-932c-6431c6f030b1",
   "metadata": {},
   "outputs": [],
   "source": []
  }
 ],
 "metadata": {
  "kernelspec": {
   "display_name": "Python 3 (ipykernel)",
   "language": "python",
   "name": "python3"
  },
  "language_info": {
   "codemirror_mode": {
    "name": "ipython",
    "version": 3
   },
   "file_extension": ".py",
   "mimetype": "text/x-python",
   "name": "python",
   "nbconvert_exporter": "python",
   "pygments_lexer": "ipython3",
   "version": "3.12.4"
  }
 },
 "nbformat": 4,
 "nbformat_minor": 5
}
